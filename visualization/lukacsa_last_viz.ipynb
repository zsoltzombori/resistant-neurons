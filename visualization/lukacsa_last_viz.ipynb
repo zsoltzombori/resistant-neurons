{
 "nbformat": 4,
 "nbformat_minor": 2,
 "metadata": {
  "language_info": {
   "name": "python",
   "codemirror_mode": {
    "name": "ipython",
    "version": 3
   },
   "version": "3.7.4"
  },
  "orig_nbformat": 2,
  "file_extension": ".py",
  "mimetype": "text/x-python",
  "name": "python",
  "npconvert_exporter": "python",
  "pygments_lexer": "ipython3",
  "version": 3
 },
 "cells": [
  {
   "cell_type": "code",
   "execution_count": 10,
   "metadata": {},
   "outputs": [],
   "source": [
    "import gzip, sklearn\n",
    "import numpy as np\n",
    "import pandas as pd\n",
    "import matplotlib.pyplot as plt\n",
    "\n",
    "from sklearn.preprocessing import StandardScaler\n",
    "from sklearn.model_selection import train_test_split\n",
    "from sklearn import linear_model\n",
    "from sklearn.metrics import mean_squared_error\n",
    "from sklearn.metrics import mean_absolute_error\n",
    "\n",
    "from joblib import dump, load\n",
    "import os, json\n",
    "import collections\n",
    "\n",
    "from bokeh.io import output_notebook, show\n",
    "from bokeh.plotting import figure, output_file, save\n",
    "from bokeh.models import CustomJS, ColumnDataSource\n",
    "from bokeh.models.tools import HoverTool\n",
    "\n",
    "\n",
    "#dump(reg, 'best_regressor_sklearn.joblib')"
   ]
  },
  {
   "cell_type": "code",
   "execution_count": 2,
   "metadata": {},
   "outputs": [],
   "source": [
    "reg = load('Neuron_predictor/sklearn_logreg/best_regressor_sklearn_after40.joblib')\n",
    "scaler = load('Neuron_predictor/sklearn_logreg/nn_activations_scaler_sklearn_after40.joblib')"
   ]
  },
  {
   "cell_type": "code",
   "execution_count": 3,
   "metadata": {},
   "outputs": [],
   "source": [
    "activations_no = 1000\n",
    "usefulness_per_neuron = collections.defaultdict(dict)\n",
    "target = 'usefulness_loss'\n",
    "with open(os.path.join('neuron_logs', 'train_data', 'visualize_video_data.json'), 'r') as f:\n",
    "    neuron_data = json.load(f)\n",
    "    \n",
    "\n",
    "features_= []\n",
    "for e in neuron_data.keys():\n",
    "    for neuron in neuron_data[e]:\n",
    "        if ' ' not in neuron:\n",
    "            continue\n",
    "        current_data = neuron_data[e][neuron]\n",
    "        important_features = []\n",
    "        important_features += [current_data['depth']]\n",
    "        important_features += [current_data['inverse_depth']]\n",
    "        important_features += [current_data['width']]\n",
    "        # important_features += [current_data['input_weights']]\n",
    "        # important_features += [current_data['output_weights']]\n",
    "        important_features += [current_data['reg_loss_in_layer']]\n",
    "        important_features += current_data['activations'][:activations_no]\n",
    "        usefulness_gold = current_data[target]\n",
    "        line_of_data = np.array(important_features, dtype = np.float32).reshape(1, -1)\n",
    "        usefulness_prediction = reg.predict(scaler.transform(line_of_data))[0]\n",
    "        usefulness_per_neuron[e][neuron] = (usefulness_gold, usefulness_prediction)\n"
   ]
  },
  {
   "cell_type": "code",
   "execution_count": 15,
   "metadata": {},
   "outputs": [],
   "source": [
    "e = '9'\n",
    "layer = '4'\n",
    "pos = '50'\n",
    "data = np.array([usefulness_per_neuron[e][f'{layer} {pos}'] for e in usefulness_per_neuron])"
   ]
  },
  {
   "cell_type": "code",
   "execution_count": 23,
   "metadata": {},
   "outputs": [],
   "source": [
    "plot_neuron_data = collections.defaultdict(list)\n",
    "\n",
    "for pos in range(100):\n",
    "    layer = 4\n",
    "    gold = np.array([usefulness_per_neuron[e][f'{layer} {pos}'] for e in usefulness_per_neuron])[:, 0]\n",
    "    pred = np.array([usefulness_per_neuron[e][f'{layer} {pos}'] for e in usefulness_per_neuron])[:, 1]\n",
    "    plot_neuron_data['usefulness_gold'] += [gold]\n",
    "    plot_neuron_data['usefulness_pred'] += [pred]\n",
    "    plot_neuron_data['pos'] += [pos]\n",
    "    plot_neuron_data['mean'] += [np.mean(gold)]\n",
    "    plot_neuron_data['std'] += [f'{np.std(gold):.3f}']\n",
    "    plot_neuron_data['range'] += [list(range(101))]\n",
    "    plot_neuron_data['color'] += ['grey']\n",
    "    plot_neuron_data['hovercolor'] += ['red']\n",
    "    plot_neuron_data['hovercolor_pred'] += ['blue']\n",
    "    plot_neuron_data['mean_pred'] += [np.mean(pred)]\n",
    "    plot_neuron_data['std_pred'] += [f'{np.std(pred):.3f}']\n",
    "\n",
    "plot_source = ColumnDataSource(plot_neuron_data)"
   ]
  },
  {
   "cell_type": "code",
   "execution_count": 24,
   "metadata": {},
   "outputs": [
    {
     "data": {
      "text/plain": "'/home/levai/Renyi/resistant-neurons/visualization/gold_v_pred_usefulness_l_4.html'"
     },
     "execution_count": 24,
     "metadata": {},
     "output_type": "execute_result"
    }
   ],
   "source": [
    "from bokeh.layouts import gridplot\n",
    "\n",
    "f1 = figure(width=1300, height=350, x_axis_label = 'epoch', y_axis_label = 'usefulness_gold', title=f'Gold usefulness on layer {layer}')\n",
    "\n",
    "f1.multi_line(xs='range', ys='usefulness_gold',\n",
    "             line_width=2, line_color='color', line_alpha=0.2,\n",
    "             hover_line_color='hovercolor', hover_line_alpha=1.0,\n",
    "             source=plot_source)\n",
    "\n",
    "\n",
    "\n",
    "f2 = figure(width=1300, height=350, x_axis_label = 'epoch', y_axis_label = 'usefulness_pred', title='Predicted usefulness')\n",
    "\n",
    "f2.multi_line(xs='range', ys='usefulness_pred',\n",
    "             line_width=2, line_color='color', line_alpha=0.2,\n",
    "             hover_line_color='hovercolor_pred', hover_line_alpha=1.0,\n",
    "             source=plot_source)\n",
    "\n",
    "\n",
    "f1.add_tools(HoverTool(show_arrow=False, line_policy='next', tooltips=[\n",
    "    ('index', '@pos'),\n",
    "    ('mean_gold', '@mean'),\n",
    "    ('stdev_gold', '@std'),\n",
    "    ('mean_pred', '@mean_pred'),\n",
    "    ('stdev_pred', '@std_pred'),\n",
    "])) \n",
    "\n",
    "f2.add_tools(HoverTool(show_arrow=False, line_policy='next', tooltips=[\n",
    "    ('index', '@pos'),\n",
    "    ('mean', '@mean_pred'),\n",
    "    ('stdev', '@std_pred'),\n",
    "    ('mean_gold', '@mean'),\n",
    "    ('stdev_gold', '@std'),\n",
    "]))\n",
    "\n",
    "\n",
    "p = gridplot([[f1], [f2]])\n",
    "\n",
    "output_file(f'visualization/gold_v_pred_usefulness_l_{layer}.html')\n",
    "save(p)\n",
    "#show(p)\n"
   ]
  },
  {
   "cell_type": "code",
   "execution_count": null,
   "metadata": {},
   "outputs": [],
   "source": []
  }
 ]
}