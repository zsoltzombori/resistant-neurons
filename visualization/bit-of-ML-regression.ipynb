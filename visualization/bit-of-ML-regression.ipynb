{
 "cells": [
  {
   "cell_type": "code",
   "execution_count": 1,
   "metadata": {},
   "outputs": [],
   "source": [
    "import json\n",
    "import numpy as np\n",
    "import matplotlib.pyplot as plt\n",
    "import os\n",
    "import itertools\n",
    "import sklearn\n",
    "import pandas as pd\n",
    "import scipy.stats as stats\n",
    "\n",
    "#from keras import Sequential\n",
    "#from keras.layers import Dense\n",
    "#from keras.wrappers.scikit_learn import KerasRegressor\n",
    "\n",
    "from sklearn import svm\n",
    "from sklearn.model_selection import train_test_split\n",
    "from sklearn.neural_network import MLPClassifier\n",
    "from sklearn.linear_model import LogisticRegression\n",
    "\n"
   ]
  },
  {
   "cell_type": "code",
   "execution_count": 2,
   "metadata": {},
   "outputs": [],
   "source": [
    "neuron_data = {}\n",
    "\n",
    "files = sorted(os.listdir('../neuron_logs/train_data'))"
   ]
  },
  {
   "cell_type": "code",
   "execution_count": 3,
   "metadata": {},
   "outputs": [],
   "source": [
    "def reduce_to_statistics(activations, labels, debug=False):\n",
    "    sorted_data = []\n",
    "    for i in range(10): #hardcoded MOFO\n",
    "        sorted_data += [[]]\n",
    "    for i, a in zip(labels, activations):\n",
    "        sorted_data[i] += [a]\n",
    "    if debug:\n",
    "        return(sorted_data)\n",
    "    statistics = []\n",
    "    for ar in sorted_data:\n",
    "        curr_stats = stats.describe(ar)\n",
    "        statistics += [curr_stats.mean, curr_stats.variance, curr_stats.skewness, curr_stats.kurtosis, curr_stats.minmax[0],\n",
    "                       curr_stats.minmax[1], curr_stats.nobs]\n",
    "        #print(statistics)\n",
    "    return(statistics)"
   ]
  },
  {
   "cell_type": "code",
   "execution_count": 30,
   "metadata": {},
   "outputs": [
    {
     "name": "stdout",
     "output_type": "stream",
     "text": [
      "output_20191013-181903.json\n",
      "output_20191015-203714.json\n",
      "output_20191015-215448.json\n",
      "output_20191015-231129.json\n",
      "output_20191016-002746.json\n",
      "output_20191016-014510.json\n",
      "output_20191016-030245.json\n",
      "output_20191016-042123.json\n",
      "output_20191016-053821.json\n",
      "output_20191016-065412.json\n",
      "output_20191016-081229.json\n"
     ]
    }
   ],
   "source": [
    "features, labels = [], []\n",
    "target = 'usefulness_loss'\n",
    "fin = 10\n",
    "activations_no = 2000\n",
    "for i, filename in enumerate(files[:]):\n",
    "    with open(os.path.join('..', 'neuron_logs', 'train_data', filename), 'r') as f:\n",
    "        print(filename)\n",
    "        neuron_data = json.load(f)\n",
    "    if i == 10:\n",
    "        break\n",
    "    for e in neuron_data.keys():\n",
    "        if e == '0' or int(e) > fin:\n",
    "            #print(e)\n",
    "            continue\n",
    "        for neuron in neuron_data[e]:\n",
    "            if ' ' not in neuron:\n",
    "                continue\n",
    "            current_data = neuron_data[e][neuron]\n",
    "            important_features = []\n",
    "            important_features = current_data['activations'][:activations_no]\n",
    "            important_features += reduce_to_statistics(current_data['activations'], neuron_data[e]['original_labels'])\n",
    "            important_features += [current_data['depth']]\n",
    "            important_features += [current_data['inverse_depth']]\n",
    "            important_features += [current_data['width']]\n",
    "            # important_features += [current_data['input_weights']]\n",
    "            # important_features += [current_data['output_weights']]\n",
    "            important_features += [current_data['reg_loss_in_layer']]\n",
    "            important_features += [e]\n",
    "            features += [important_features]\n",
    "            #labels += [current_data[target]]\n",
    "            labels += [current_data[target]]"
   ]
  },
  {
   "cell_type": "code",
   "execution_count": 31,
   "metadata": {},
   "outputs": [
    {
     "name": "stdout",
     "output_type": "stream",
     "text": [
      "(12000, 2075) (12000,)\n"
     ]
    }
   ],
   "source": [
    "features = np.array(features)\n",
    "labels = np.array(labels)\n",
    "print(features.shape, labels.shape)"
   ]
  },
  {
   "cell_type": "code",
   "execution_count": 32,
   "metadata": {},
   "outputs": [],
   "source": [
    "import numpy as np\n",
    "\n",
    "from sklearn.preprocessing import StandardScaler\n",
    "from sklearn import linear_model\n",
    "from sklearn.metrics import mean_squared_error"
   ]
  },
  {
   "cell_type": "code",
   "execution_count": 55,
   "metadata": {},
   "outputs": [],
   "source": [
    "X_train, X_test, y_train, y_test = train_test_split(features, labels, test_size=0.2, random_state=0)\n",
    "\n",
    "X_train = X_train.astype(np.float32)\n",
    "y_train = y_train.astype(np.float32)\n",
    "X_test = X_test.astype(np.float32)\n",
    "y_test = y_test.astype(np.float32)\n",
    "\n",
    "scaler = StandardScaler()\n",
    "scaler.fit(X_train)\n",
    "X_train = scaler.transform(X_train)\n",
    "\n",
    "testscaler = StandardScaler()\n",
    "scaler.fit(X_test)\n",
    "X_test = scaler.transform(X_test)"
   ]
  },
  {
   "cell_type": "code",
   "execution_count": 34,
   "metadata": {},
   "outputs": [
    {
     "name": "stdout",
     "output_type": "stream",
     "text": [
      "(9600, 2075) (2400, 2075) (9600,) (2400,)\n"
     ]
    },
    {
     "data": {
      "text/plain": [
       "0.015134441803094187"
      ]
     },
     "execution_count": 34,
     "metadata": {},
     "output_type": "execute_result"
    }
   ],
   "source": [
    "print(f\"{X_train.shape} {X_test.shape} {y_train.shape} {y_test.shape}\")\n",
    "reg = linear_model.LinearRegression(n_jobs = -1)\n",
    "reg.fit(X_train, y_train)\n",
    "y_pred = reg.predict(X_test)\n",
    "mean_squared_error(y_pred, y_test)"
   ]
  },
  {
   "cell_type": "code",
   "execution_count": 35,
   "metadata": {},
   "outputs": [
    {
     "data": {
      "text/plain": [
       "0.013476282373987472"
      ]
     },
     "execution_count": 35,
     "metadata": {},
     "output_type": "execute_result"
    }
   ],
   "source": [
    "reg = linear_model.Ridge(alpha = 0.5)\n",
    "reg.fit(X_train, y_train)\n",
    "y_pred = reg.predict(X_test)\n",
    "mean_squared_error(y_pred, y_test)"
   ]
  },
  {
   "cell_type": "code",
   "execution_count": 37,
   "metadata": {},
   "outputs": [
    {
     "data": {
      "text/plain": [
       "0.03967746659205583"
      ]
     },
     "execution_count": 37,
     "metadata": {},
     "output_type": "execute_result"
    }
   ],
   "source": [
    "reg = linear_model.Lasso(alpha=0.1)\n",
    "reg.fit(X_train, y_train)\n",
    "y_pred = reg.predict(X_test)\n",
    "mean_squared_error(y_pred, y_test)"
   ]
  },
  {
   "cell_type": "code",
   "execution_count": 38,
   "metadata": {},
   "outputs": [
    {
     "data": {
      "text/plain": [
       "0.016504572996347316"
      ]
     },
     "execution_count": 38,
     "metadata": {},
     "output_type": "execute_result"
    }
   ],
   "source": [
    "reg = linear_model.LassoCV(cv=5, random_state=0)\n",
    "reg.fit(X_train, y_train)\n",
    "y_pred = reg.predict(X_test)\n",
    "mean_squared_error(y_pred, y_test)"
   ]
  },
  {
   "cell_type": "code",
   "execution_count": 57,
   "metadata": {},
   "outputs": [
    {
     "data": {
      "text/plain": [
       "0.013474866678859278"
      ]
     },
     "execution_count": 57,
     "metadata": {},
     "output_type": "execute_result"
    }
   ],
   "source": [
    "reg = linear_model.RidgeCV(alphas=np.logspace(-6, 6, 13))\n",
    "reg.fit(X_train, y_train)\n",
    "y_pred = reg.predict(X_test)\n",
    "mean_squared_error(y_pred, y_test)"
   ]
  },
  {
   "cell_type": "code",
   "execution_count": 43,
   "metadata": {},
   "outputs": [],
   "source": [
    "from sklearn.datasets import make_classification\n",
    "from torch import nn\n",
    "import torch\n",
    "import torch.nn.functional as F\n",
    "import torch.optim as optim\n",
    "\n",
    "\n",
    "import skorch\n",
    "from skorch import NeuralNetClassifier\n",
    "from skorch import NeuralNetRegressor"
   ]
  },
  {
   "cell_type": "code",
   "execution_count": 50,
   "metadata": {},
   "outputs": [],
   "source": [
    "class RegressorModule(nn.Module):\n",
    "    def __init__(\n",
    "            self,\n",
    "            num_units=1000,\n",
    "            nonlin=F.relu,\n",
    "            dropout=0.5,\n",
    "    ):\n",
    "        super(RegressorModule, self).__init__()\n",
    "        self.num_units = num_units\n",
    "        self.nonlin = nonlin\n",
    "        self.dropout = dropout\n",
    "\n",
    "        self.dense0 = nn.Linear(X_train.shape[1], num_units)\n",
    "        self.nonlin = nonlin\n",
    "        self.dropout1 = nn.Dropout(dropout)\n",
    "        self.dense1 = nn.Linear(num_units, num_units)\n",
    "        self.dropout2 = nn.Dropout(dropout)\n",
    "        self.denselast = nn.Linear(num_units, 50)\n",
    "        self.output = nn.Linear(50, 1)\n",
    "\n",
    "    def forward(self, X, **kwargs):\n",
    "        X = self.nonlin(self.dense0(X))\n",
    "        X = self.dropout1(X)\n",
    "        X = F.relu(self.dense1(X))\n",
    "        X = self.dropout2(X)\n",
    "        X = F.relu(self.denselast(X))\n",
    "        X = self.output(X)\n",
    "        return X"
   ]
  },
  {
   "cell_type": "code",
   "execution_count": 51,
   "metadata": {},
   "outputs": [],
   "source": [
    "from skorch.callbacks import LRScheduler\n",
    "\n",
    "lrscheduler = LRScheduler(monitor='train_loss',\n",
    "            policy='ReduceLROnPlateau', # step_size=15, gamma=0.5)\n",
    "            mode='min', factor=0.2, patience=10, verbose=True, \n",
    "            threshold=0.00001, threshold_mode='rel', \n",
    "            cooldown=0, min_lr=0, eps=1e-08)\n",
    "\n",
    "from skorch.callbacks import Checkpoint\n",
    "\n",
    "checkpoint = Checkpoint(\n",
    "    f_params='best_model.pt', monitor='valid_loss_best')\n",
    "\n",
    "from skorch.callbacks import EarlyStopping\n",
    "\n",
    "earlystopping = EarlyStopping(\n",
    "    monitor='train_loss',\n",
    "    patience=20,\n",
    "    threshold=0.0001,\n",
    "    threshold_mode='abs',\n",
    "    lower_is_better=True,)"
   ]
  },
  {
   "cell_type": "code",
   "execution_count": 52,
   "metadata": {},
   "outputs": [],
   "source": [
    "net = NeuralNetRegressor(\n",
    "    RegressorModule,\n",
    "    max_epochs=200,\n",
    "    lr=0.1,\n",
    "    optimizer=optim.SGD,\n",
    "    optimizer__momentum=0.9,\n",
    "    # callbacks=[skorch.callbacks.LRScheduler(skorch.callbacks.WarmRestartLR)],\n",
    "    callbacks = [lrscheduler, checkpoint, earlystopping],\n",
    "    warm_start=False\n",
    ")"
   ]
  },
  {
   "cell_type": "code",
   "execution_count": 56,
   "metadata": {},
   "outputs": [
    {
     "name": "stdout",
     "output_type": "stream",
     "text": [
      "Re-initializing module.\n",
      "Re-initializing optimizer because the following parameters were re-set: momentum.\n",
      "  epoch    train_loss    valid_loss    cp     dur\n",
      "-------  ------------  ------------  ----  ------\n",
      "      1        \u001b[36m0.1365\u001b[0m        \u001b[32m0.0523\u001b[0m     +  3.3188\n",
      "      2        \u001b[36m0.0860\u001b[0m        0.0803        3.1918\n",
      "      3        \u001b[36m0.0466\u001b[0m        \u001b[32m0.0514\u001b[0m     +  3.3489\n",
      "      4        \u001b[36m0.0442\u001b[0m        0.0516        3.5505\n",
      "      5        \u001b[36m0.0441\u001b[0m        0.0516        3.3122\n",
      "      6        0.0442        0.0516        3.3164\n",
      "      7        0.0441        0.0516        3.4998\n",
      "      8        0.0441        0.0516        3.1677\n",
      "      9        \u001b[36m0.0441\u001b[0m        0.0516        3.2119\n",
      "     10        0.0441        0.0516        3.3725\n",
      "     11        0.0441        0.0516        3.6719\n",
      "     12        0.0441        0.0516        3.3239\n",
      "     13        0.0441        0.0516        3.1727\n",
      "     14        0.0441        0.0516        4.5714\n",
      "     15        0.0441        0.0516        4.4413\n",
      "     16        0.0441        0.0516        3.6924\n",
      "     17        0.0441        0.0516        4.1902\n",
      "     18        0.0441        0.0516        3.4911\n",
      "     19        0.0441        0.0516        3.5379\n",
      "     20        0.0441        0.0516        3.4348\n",
      "Epoch    20: reducing learning rate of group 0 to 2.0000e-02.\n",
      "     21        0.0441        0.0516        3.2519\n",
      "     22        \u001b[36m0.0440\u001b[0m        \u001b[32m0.0500\u001b[0m     +  3.2756\n",
      "     23        0.0441        \u001b[32m0.0500\u001b[0m     +  3.4497\n",
      "     24        0.0441        \u001b[32m0.0500\u001b[0m     +  3.9458\n",
      "     25        0.0441        \u001b[32m0.0500\u001b[0m     +  3.5076\n",
      "     26        0.0441        0.0500        3.2107\n",
      "     27        0.0441        0.0500        3.4296\n",
      "     28        0.0441        0.0500        3.5253\n",
      "     29        0.0441        0.0500        3.3174\n",
      "     30        0.0441        0.0500        3.3079\n",
      "     31        0.0441        0.0500        3.5771\n",
      "     32        0.0441        0.0500        3.5686\n",
      "     33        0.0441        0.0500        3.3946\n",
      "Epoch    33: reducing learning rate of group 0 to 4.0000e-03.\n",
      "     34        0.0441        0.0500        3.4346\n",
      "     35        \u001b[36m0.0440\u001b[0m        \u001b[32m0.0500\u001b[0m     +  3.2626\n",
      "     36        0.0440        \u001b[32m0.0500\u001b[0m     +  3.4952\n",
      "     37        0.0440        \u001b[32m0.0500\u001b[0m     +  3.3945\n",
      "     38        0.0440        0.0500        3.2075\n",
      "     39        0.0440        0.0500        3.3566\n",
      "     40        0.0440        \u001b[32m0.0500\u001b[0m     +  4.0856\n",
      "     41        0.0440        0.0500        3.4004\n",
      "     42        0.0440        0.0500        3.4835\n",
      "     43        0.0440        0.0500        3.6969\n",
      "     44        0.0440        0.0500        3.2666\n",
      "     45        0.0440        0.0500        4.0280\n",
      "     46        0.0440        0.0500        3.4658\n",
      "Epoch    46: reducing learning rate of group 0 to 8.0000e-04.\n",
      "     47        0.0440        0.0500        3.3976\n",
      "     48        0.0440        \u001b[32m0.0500\u001b[0m     +  3.2396\n",
      "     49        \u001b[36m0.0440\u001b[0m        0.0500        3.3792\n",
      "     50        \u001b[36m0.0440\u001b[0m        0.0500        3.1163\n",
      "     51        \u001b[36m0.0440\u001b[0m        0.0500        3.0051\n",
      "     52        \u001b[36m0.0440\u001b[0m        0.0500        3.1450\n",
      "     53        \u001b[36m0.0440\u001b[0m        0.0500        3.2118\n",
      "     54        \u001b[36m0.0440\u001b[0m        0.0500        3.0272\n",
      "     55        \u001b[36m0.0440\u001b[0m        0.0500        3.1726\n",
      "     56        0.0440        0.0500        3.8261\n",
      "     57        0.0440        0.0500        3.3287\n",
      "     58        0.0440        0.0500        3.3346\n",
      "     59        0.0440        0.0500        3.4915\n",
      "     60        0.0440        0.0500        3.3477\n",
      "     61        0.0440        0.0500        3.0106\n",
      "     62        0.0440        0.0500        3.2177\n",
      "     63        0.0440        0.0500        3.1082\n",
      "     64        \u001b[36m0.0440\u001b[0m        0.0500        3.2200\n",
      "     65        \u001b[36m0.0440\u001b[0m        0.0500        3.2366\n",
      "Epoch    65: reducing learning rate of group 0 to 1.6000e-04.\n",
      "     66        \u001b[36m0.0440\u001b[0m        0.0500        3.2031\n",
      "     67        \u001b[36m0.0440\u001b[0m        0.0500        3.2351\n",
      "     68        0.0440        0.0500        3.0453\n",
      "     69        0.0440        0.0500        3.1729\n",
      "     70        \u001b[36m0.0440\u001b[0m        0.0500        3.2894\n",
      "     71        \u001b[36m0.0440\u001b[0m        0.0500        3.2198\n",
      "     72        \u001b[36m0.0440\u001b[0m        0.0500        3.1239\n",
      "     73        0.0440        0.0500        3.1577\n",
      "     74        0.0440        0.0500        3.1323\n",
      "     75        0.0440        0.0500        3.1405\n",
      "     76        0.0440        0.0500        3.1073\n",
      "     77        \u001b[36m0.0440\u001b[0m        0.0500        2.9236\n",
      "     78        0.0440        0.0500        3.2258\n",
      "     79        \u001b[36m0.0440\u001b[0m        0.0500        3.1238\n",
      "     80        0.0440        0.0500        3.2077\n",
      "     81        0.0440        0.0500        3.1753\n",
      "     82        0.0440        0.0500        3.1840\n",
      "     83        0.0440        0.0500        3.2115\n",
      "     84        0.0440        0.0500        2.9939\n",
      "     85        0.0440        0.0500        3.1260\n",
      "     86        0.0440        0.0500        3.2073\n",
      "Stopping since train_loss has not improved in the last 20 epochs.\n"
     ]
    },
    {
     "data": {
      "text/plain": [
       "<class 'skorch.regressor.NeuralNetRegressor'>[initialized](\n",
       "  module_=RegressorModule(\n",
       "    (dense0): Linear(in_features=2075, out_features=1000, bias=True)\n",
       "    (dropout1): Dropout(p=0.5, inplace=False)\n",
       "    (dense1): Linear(in_features=1000, out_features=1000, bias=True)\n",
       "    (dropout2): Dropout(p=0.5, inplace=False)\n",
       "    (denselast): Linear(in_features=1000, out_features=50, bias=True)\n",
       "    (output): Linear(in_features=50, out_features=1, bias=True)\n",
       "  ),\n",
       ")"
      ]
     },
     "execution_count": 56,
     "metadata": {},
     "output_type": "execute_result"
    }
   ],
   "source": [
    "net.fit(X_train, y_train.reshape(-1, 1))"
   ]
  },
  {
   "cell_type": "code",
   "execution_count": 61,
   "metadata": {},
   "outputs": [
    {
     "data": {
      "text/plain": [
       "<matplotlib.legend.Legend at 0x7fb64cf14b50>"
      ]
     },
     "execution_count": 61,
     "metadata": {},
     "output_type": "execute_result"
    },
    {
     "data": {
      "image/png": "[encoded data removed]",
      "text/plain": [
       "<Figure size 864x576 with 2 Axes>"
      ]
     },
     "metadata": {},
     "output_type": "display_data"
    }
   ],
   "source": [
    "#valid_acc = [x['valid_acc'] for x in net.history]\n",
    "train_loss = [x['train_loss'] for x in net.history]\n",
    "valid_loss = [x['valid_loss'] for x in net.history]\n",
    "fig, ax1 = plt.subplots(figsize = (12, 8), facecolor = 'w')\n",
    "\n",
    "# ax1.plot(range(len(valid_acc)), valid_acc, color='firebrick', label = 'neural net validation acc')\n",
    "\n",
    "\n",
    "ax1.plot(range(len(valid_loss)), [reg.score(X_test, y_test)]*len(valid_loss),  '--', color = 'blue', label = 'logreg test set acc')\n",
    "ax1.plot(range(len(valid_loss)), [net.score(X_test, y_test)]*len(valid_loss), '--', color = 'firebrick', label = 'neural net test set acc')\n",
    "\n",
    "\n",
    "ax2 = ax1.twinx()\n",
    "ax2.plot(range(len(valid_loss)), train_loss, '--', alpha = 0.5, color='firebrick', label = 'neural net train loss')\n",
    "ax2.plot(range(len(valid_loss)), valid_loss, '--', color='red', label = 'neural net validation loss')\n",
    "ax1.set_xlabel('epoch')\n",
    "ax1.set_ylabel('accuracy')\n",
    "ax2.set_ylabel('train loss')\n",
    "ax1.grid(True)\n",
    "ax1.legend(loc = 3)\n",
    "ax2.legend(loc = 4)"
   ]
  },
  {
   "cell_type": "code",
   "execution_count": null,
   "metadata": {},
   "outputs": [],
   "source": []
  }
 ],
 "metadata": {
  "kernelspec": {
   "display_name": "Python 3",
   "language": "python",
   "name": "python3"
  },
  "language_info": {
   "codemirror_mode": {
    "name": "ipython",
    "version": 3
   },
   "file_extension": ".py",
   "mimetype": "text/x-python",
   "name": "python",
   "nbconvert_exporter": "python",
   "pygments_lexer": "ipython3",
   "version": "3.7.4"
  }
 },
 "nbformat": 4,
 "nbformat_minor": 4
}
