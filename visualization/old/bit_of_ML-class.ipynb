{
 "cells": [
  {
   "cell_type": "code",
   "execution_count": 1,
   "metadata": {},
   "outputs": [],
   "source": [
    "import json\n",
    "import numpy as np\n",
    "import matplotlib.pyplot as plt\n",
    "import os\n",
    "import itertools\n",
    "import sklearn\n",
    "import pandas as pd\n",
    "import scipy.stats as stats\n",
    "\n",
    "#from keras import Sequential\n",
    "#from keras.layers import Dense\n",
    "#from keras.wrappers.scikit_learn import KerasRegressor\n",
    "\n",
    "from sklearn import svm\n",
    "from sklearn.model_selection import train_test_split\n",
    "from sklearn.neural_network import MLPClassifier\n",
    "from sklearn.linear_model import LogisticRegression\n",
    "\n"
   ]
  },
  {
   "cell_type": "code",
   "execution_count": 2,
   "metadata": {},
   "outputs": [],
   "source": [
    "neuron_data = {}\n",
    "\n"
   ]
  },
  {
   "cell_type": "code",
   "execution_count": 3,
   "metadata": {},
   "outputs": [],
   "source": [
    "files = sorted(os.listdir('../neuron_logs/train_data'))"
   ]
  },
  {
   "cell_type": "code",
   "execution_count": 4,
   "metadata": {},
   "outputs": [],
   "source": [
    "with open(os.path.join('..', 'neuron_logs', 'train_data', 'output_20191013-181903.json'), 'r') as f:\n",
    "    neuron_data = json.load(f)"
   ]
  },
  {
   "cell_type": "code",
   "execution_count": 10,
   "metadata": {},
   "outputs": [
    {
     "name": "stdout",
     "output_type": "stream",
     "text": [
      "1.0250968992248062\n"
     ]
    },
    {
     "data": {
      "image/png": "[encoded data removed]",
      "text/plain": [
       "<Figure size 576x432 with 1 Axes>"
      ]
     },
     "metadata": {},
     "output_type": "display_data"
    }
   ],
   "source": [
    "target = 'usefulness_acc'\n",
    "\n",
    "\n",
    "target_thr = [neuron_data[e][neuron][target] for neuron in neuron_data['0'] for e in neuron_data  if e != '0' and ' ' in neuron and int(e) < 10]\n",
    "\n",
    "threshold = np.percentile(target_thr, 50) \n",
    "\n",
    "print(threshold)\n",
    "\n",
    "plt.figure(figsize = (8, 6), facecolor = 'w')\n",
    "plt.xscale('log')\n",
    "#plt.yscale('log')\n",
    "plt.hist(target_thr, bins = 50)\n",
    "plt.grid()"
   ]
  },
  {
   "cell_type": "code",
   "execution_count": 5,
   "metadata": {},
   "outputs": [
    {
     "name": "stdout",
     "output_type": "stream",
     "text": [
      "dict_keys(['activations', 'usefulness_loss', 'usefulness_acc', 'depth', 'inverse_depth', 'width', 'input_weights', 'output_weights', 'reg_loss_in_layer'])\n"
     ]
    },
    {
     "data": {
      "text/plain": [
       "(10,)"
      ]
     },
     "execution_count": 5,
     "metadata": {},
     "output_type": "execute_result"
    }
   ],
   "source": [
    "print(neuron_data['1']['0 0'].keys())\n",
    "np.array(neuron_data['1']['3 0']['output_weights']).shape"
   ]
  },
  {
   "cell_type": "code",
   "execution_count": 6,
   "metadata": {},
   "outputs": [],
   "source": [
    "def reduce_to_statistics(activations, labels, debug=False):\n",
    "    sorted_data = []\n",
    "    for i in range(10): #hardcoded MOFO\n",
    "        sorted_data += [[]]\n",
    "    for i, a in zip(labels, activations):\n",
    "        sorted_data[i] += [a]\n",
    "    if debug:\n",
    "        return(sorted_data)\n",
    "    statistics = []\n",
    "    for ar in sorted_data:\n",
    "        curr_stats = stats.describe(ar)\n",
    "        statistics += [curr_stats.mean, curr_stats.variance, curr_stats.skewness, curr_stats.kurtosis, curr_stats.minmax[0],\n",
    "                       curr_stats.minmax[1], curr_stats.nobs]\n",
    "        #print(statistics)\n",
    "    return(statistics)"
   ]
  },
  {
   "cell_type": "code",
   "execution_count": 11,
   "metadata": {},
   "outputs": [
    {
     "name": "stdout",
     "output_type": "stream",
     "text": [
      "output_20191013-181903.json\n",
      "output_20191015-203714.json\n"
     ]
    }
   ],
   "source": [
    "features, labels = [], []\n",
    "fin = 10\n",
    "activations_no = 2000\n",
    "for i, filename in enumerate(files[:2]):\n",
    "    with open(os.path.join('..', 'neuron_logs', 'train_data', filename), 'r') as f:\n",
    "        print(filename)\n",
    "        neuron_data = json.load(f)\n",
    "    if i == 10:\n",
    "        break\n",
    "    for e in neuron_data.keys():\n",
    "        if e == '0' or int(e) > fin:\n",
    "            #print(e)\n",
    "            continue\n",
    "        for neuron in neuron_data[e]:\n",
    "            if ' ' not in neuron:\n",
    "                continue\n",
    "            current_data = neuron_data[e][neuron]\n",
    "            important_features = []\n",
    "            important_features = current_data['activations'][:activations_no]\n",
    "            important_features += reduce_to_statistics(current_data['activations'], neuron_data[e]['original_labels'])\n",
    "            important_features += [current_data['depth']]\n",
    "            important_features += [current_data['inverse_depth']]\n",
    "            important_features += [current_data['width']]\n",
    "            # important_features += [current_data['input_weights']]\n",
    "            # important_features += [current_data['output_weights']]\n",
    "            important_features += [current_data['reg_loss_in_layer']]\n",
    "            features += [important_features]\n",
    "            #labels += [current_data[target]]\n",
    "            labels += [int(current_data[target] > threshold)]"
   ]
  },
  {
   "cell_type": "code",
   "execution_count": 12,
   "metadata": {},
   "outputs": [
    {
     "data": {
      "text/plain": [
       "2400"
      ]
     },
     "execution_count": 12,
     "metadata": {},
     "output_type": "execute_result"
    }
   ],
   "source": [
    "len(features)"
   ]
  },
  {
   "cell_type": "code",
   "execution_count": 13,
   "metadata": {},
   "outputs": [],
   "source": [
    "features = np.array(features)\n",
    "labels = np.array(labels)"
   ]
  },
  {
   "cell_type": "code",
   "execution_count": 14,
   "metadata": {},
   "outputs": [
    {
     "name": "stdout",
     "output_type": "stream",
     "text": [
      "(2400, 2074) (2400,)\n"
     ]
    }
   ],
   "source": [
    "print(features.shape, labels.shape)"
   ]
  },
  {
   "cell_type": "code",
   "execution_count": 15,
   "metadata": {},
   "outputs": [
    {
     "name": "stdout",
     "output_type": "stream",
     "text": [
      "(2400, 2074)\n"
     ]
    }
   ],
   "source": [
    "print(features.shape)"
   ]
  },
  {
   "cell_type": "code",
   "execution_count": 16,
   "metadata": {},
   "outputs": [],
   "source": [
    "import numpy as np\n",
    "from sklearn.datasets import make_classification\n",
    "from torch import nn\n",
    "import torch\n",
    "import torch.nn.functional as F\n",
    "import torch.optim as optim\n",
    "\n",
    "\n",
    "import skorch\n",
    "from skorch import NeuralNetClassifier\n",
    "\n",
    "from sklearn.preprocessing import StandardScaler"
   ]
  },
  {
   "cell_type": "code",
   "execution_count": 29,
   "metadata": {},
   "outputs": [],
   "source": [
    "def report(results, n_top=3):\n",
    "    for i in range(1, n_top + 1):\n",
    "        candidates = np.flatnonzero(results['rank_test_score'] == i)\n",
    "        for candidate in candidates:\n",
    "            print(\"Model with rank: {0}\".format(i))\n",
    "            print(\"Mean validation score: {0:.3f} (std: {1:.3f})\".format(\n",
    "                  results['mean_test_score'][candidate],\n",
    "                  results['std_test_score'][candidate]))\n",
    "            print(\"Parameters: {0}\".format(results['params'][candidate]))\n",
    "            print(\"\")\n",
    "            \n",
    "from sklearn.ensemble import RandomForestClassifier\n",
    "from sklearn.model_selection import RandomizedSearchCV\n",
    "from time import time"
   ]
  },
  {
   "cell_type": "code",
   "execution_count": 17,
   "metadata": {},
   "outputs": [],
   "source": [
    "X_train, X_test, y_train, y_test = train_test_split(features, labels, test_size=0.2, random_state=0)\n",
    "\n",
    "X_train = X_train.astype(np.float32)\n",
    "#y_train = y_train.astype(np.int64)\n",
    "X_test = X_test.astype(np.float32)\n",
    "#y_test = y_test.astype(np.int64)\n",
    "\n",
    "scaler = StandardScaler()\n",
    "scaler.fit(X_train)\n",
    "X_train = scaler.transform(X_train)\n",
    "\n",
    "testscaler = StandardScaler()\n",
    "scaler.fit(X_test)\n",
    "X_test = scaler.transform(X_test)"
   ]
  },
  {
   "cell_type": "code",
   "execution_count": 18,
   "metadata": {},
   "outputs": [
    {
     "name": "stdout",
     "output_type": "stream",
     "text": [
      "(1920, 2074) (480, 2074) (1920,) (480,)\n"
     ]
    },
    {
     "data": {
      "text/plain": [
       "0.8854166666666666"
      ]
     },
     "execution_count": 18,
     "metadata": {},
     "output_type": "execute_result"
    }
   ],
   "source": [
    "print(f\"{X_train.shape} {X_test.shape} {y_train.shape} {y_test.shape}\")\n",
    "clf = LogisticRegression(solver='liblinear', max_iter=100).fit(X_train, y_train)\n",
    "clf.score(X_test, y_test)"
   ]
  },
  {
   "cell_type": "code",
   "execution_count": 40,
   "metadata": {},
   "outputs": [
    {
     "data": {
      "text/plain": [
       "0.89375"
      ]
     },
     "execution_count": 40,
     "metadata": {},
     "output_type": "execute_result"
    }
   ],
   "source": [
    "clf = RandomForestClassifier(n_estimators=30, n_jobs = -1)\n",
    "clf.fit(X_train, y_train)\n",
    "clf.score(X_test, y_test)"
   ]
  },
  {
   "cell_type": "code",
   "execution_count": 36,
   "metadata": {},
   "outputs": [],
   "source": [
    "param_dist = {\"max_depth\": [3, None],\n",
    "              \"max_features\": range(1, 501),\n",
    "              \"min_samples_split\": range(5, 101),\n",
    "              \"bootstrap\": [True, False],\n",
    "              \"criterion\": [\"gini\", \"entropy\"]}\n",
    "\n",
    "# run randomized search\n",
    "n_iter_search = 50"
   ]
  },
  {
   "cell_type": "code",
   "execution_count": 60,
   "metadata": {},
   "outputs": [],
   "source": [
    "class ClassifierModule(nn.Module):\n",
    "    def __init__(\n",
    "            self,\n",
    "            num_units=1000,\n",
    "            nonlin=F.relu,\n",
    "            dropout=0.5,\n",
    "    ):\n",
    "        super(ClassifierModule, self).__init__()\n",
    "        self.num_units = num_units\n",
    "        self.nonlin = nonlin\n",
    "        self.dropout = dropout\n",
    "\n",
    "        self.dense0 = nn.Linear(X_train.shape[1], num_units)\n",
    "        self.nonlin = nonlin\n",
    "        self.dropout1 = nn.Dropout(dropout)\n",
    "        self.dense1 = nn.Linear(num_units, num_units)\n",
    "        self.dropout2 = nn.Dropout(dropout)\n",
    "        self.dense2 = nn.Linear(num_units, num_units)\n",
    "        self.dropout3 = nn.Dropout(dropout)\n",
    "        self.denselast = nn.Linear(num_units, 50)\n",
    "        self.output = nn.Linear(50, 2)\n",
    "\n",
    "    def forward(self, X, **kwargs):\n",
    "        X = self.nonlin(self.dense0(X))\n",
    "        X = self.dropout1(X)\n",
    "        X = F.relu(self.dense1(X))\n",
    "        X = self.dropout2(X)\n",
    "        X = F.relu(self.dense2(X))\n",
    "        X = self.dropout3(X)\n",
    "        X = F.relu(self.denselast(X))\n",
    "        X = F.softmax(self.output(X), dim=-1)\n",
    "        return X"
   ]
  },
  {
   "cell_type": "code",
   "execution_count": 61,
   "metadata": {},
   "outputs": [],
   "source": [
    "from skorch.callbacks import LRScheduler\n",
    "\n",
    "lrscheduler = LRScheduler(monitor='train_loss',\n",
    "            policy='ReduceLROnPlateau', # step_size=15, gamma=0.5)\n",
    "            mode='min', factor=0.2, patience=10, verbose=True, \n",
    "            threshold=0.00001, threshold_mode='rel', \n",
    "            cooldown=0, min_lr=0, eps=1e-08)\n",
    "\n",
    "from skorch.callbacks import Checkpoint\n",
    "\n",
    "checkpoint = Checkpoint(\n",
    "    f_params='best_model.pt', monitor='valid_loss_best')\n",
    "\n",
    "from skorch.callbacks import EarlyStopping\n",
    "\n",
    "earlystopping = EarlyStopping(\n",
    "    monitor='train_loss',\n",
    "    patience=20,\n",
    "    threshold=0.0001,\n",
    "    threshold_mode='rel',\n",
    "    lower_is_better=True,)\n"
   ]
  },
  {
   "cell_type": "code",
   "execution_count": 62,
   "metadata": {},
   "outputs": [],
   "source": [
    "net = NeuralNetClassifier(\n",
    "    ClassifierModule,\n",
    "    max_epochs=200,\n",
    "    lr=0.1,\n",
    "    optimizer=optim.SGD,\n",
    "    optimizer__momentum=0.9,\n",
    "    # callbacks=[skorch.callbacks.LRScheduler(skorch.callbacks.WarmRestartLR)],\n",
    "    callbacks = [lrscheduler, checkpoint, earlystopping],\n",
    "    warm_start=False\n",
    ")"
   ]
  },
  {
   "cell_type": "code",
   "execution_count": 63,
   "metadata": {
    "scrolled": true
   },
   "outputs": [
    {
     "name": "stdout",
     "output_type": "stream",
     "text": [
      "  epoch    train_loss    valid_acc    valid_loss    cp     dur\n",
      "-------  ------------  -----------  ------------  ----  ------\n",
      "      1        \u001b[36m0.5081\u001b[0m       \u001b[32m0.7969\u001b[0m        \u001b[35m0.5162\u001b[0m     +  4.5266\n",
      "      2        \u001b[36m0.4305\u001b[0m       \u001b[32m0.8167\u001b[0m        \u001b[35m0.4210\u001b[0m     +  4.6648\n",
      "      3        \u001b[36m0.4094\u001b[0m       \u001b[32m0.8172\u001b[0m        \u001b[35m0.4000\u001b[0m     +  4.8181\n",
      "      4        \u001b[36m0.4036\u001b[0m       0.8172        \u001b[35m0.3913\u001b[0m     +  4.5105\n",
      "      5        \u001b[36m0.3986\u001b[0m       \u001b[32m0.8224\u001b[0m        \u001b[35m0.3849\u001b[0m     +  4.4132\n",
      "      6        \u001b[36m0.3873\u001b[0m       0.8208        \u001b[35m0.3691\u001b[0m     +  4.3882\n",
      "      7        \u001b[36m0.3786\u001b[0m       \u001b[32m0.8266\u001b[0m        0.3716        4.1351\n",
      "      8        \u001b[36m0.3647\u001b[0m       \u001b[32m0.8354\u001b[0m        \u001b[35m0.3663\u001b[0m     +  4.4262\n",
      "      9        0.3790       0.8344        \u001b[35m0.3602\u001b[0m     +  4.4113\n",
      "     10        0.3687       0.8302        0.3651        4.4173\n",
      "     11        \u001b[36m0.3643\u001b[0m       0.8333        0.3738        4.4183\n",
      "     12        0.3656       0.8302        0.3834        4.4237\n",
      "     13        \u001b[36m0.3631\u001b[0m       \u001b[32m0.8375\u001b[0m        0.3763        4.3052\n",
      "     14        \u001b[36m0.3547\u001b[0m       0.8375        \u001b[35m0.3581\u001b[0m     +  4.5042\n",
      "     15        \u001b[36m0.3541\u001b[0m       \u001b[32m0.8406\u001b[0m        \u001b[35m0.3499\u001b[0m     +  4.5099\n",
      "     16        \u001b[36m0.3487\u001b[0m       0.8370        0.3757        4.2263\n",
      "     17        0.3543       0.8380        \u001b[35m0.3496\u001b[0m     +  4.3078\n",
      "     18        \u001b[36m0.3402\u001b[0m       0.8380        0.3603        4.4629\n",
      "     19        0.3422       0.8406        0.3501        4.3488\n",
      "     20        0.3580       \u001b[32m0.8432\u001b[0m        0.3592        4.4626\n",
      "     21        \u001b[36m0.3394\u001b[0m       0.8422        0.3502        4.3898\n",
      "     22        0.3470       \u001b[32m0.8474\u001b[0m        0.3583        4.3523\n",
      "     23        0.3417       0.8417        0.3740        4.3632\n",
      "     24        \u001b[36m0.3385\u001b[0m       0.8448        0.3648        4.3956\n",
      "     25        \u001b[36m0.3364\u001b[0m       0.8432        0.3497        4.6841\n",
      "     26        \u001b[36m0.3293\u001b[0m       \u001b[32m0.8484\u001b[0m        0.3503        4.8832\n",
      "     27        \u001b[36m0.3193\u001b[0m       \u001b[32m0.8531\u001b[0m        \u001b[35m0.3311\u001b[0m     +  4.7609\n",
      "     28        0.3426       0.8401        0.3714        4.3419\n",
      "     29        0.3409       0.8505        0.3341        4.4280\n",
      "     30        0.3308       \u001b[32m0.8536\u001b[0m        0.3377        4.2906\n",
      "     31        0.3269       0.8495        0.3724        4.3281\n",
      "     32        0.3329       0.8521        0.3550        4.3964\n",
      "     33        0.3213       \u001b[32m0.8557\u001b[0m        0.3609        4.3925\n",
      "     34        0.3212       0.8531        0.3318        4.3425\n",
      "     35        0.3201       0.8510        0.3530        4.4300\n",
      "     36        0.3273       0.8542        0.3625        4.3113\n",
      "     37        0.3231       0.8500        0.3313        4.3932\n",
      "     38        0.3314       0.8552        \u001b[35m0.3270\u001b[0m     +  4.2937\n",
      "Epoch    38: reducing learning rate of group 0 to 2.0000e-02.\n",
      "     39        0.3231       0.8536        0.3451        4.2567\n",
      "     40        \u001b[36m0.3011\u001b[0m       \u001b[32m0.8615\u001b[0m        \u001b[35m0.3165\u001b[0m     +  4.3323\n",
      "     41        \u001b[36m0.2895\u001b[0m       0.8583        \u001b[35m0.3134\u001b[0m     +  4.2247\n",
      "     42        \u001b[36m0.2816\u001b[0m       \u001b[32m0.8651\u001b[0m        \u001b[35m0.3104\u001b[0m     +  4.3928\n",
      "     43        \u001b[36m0.2781\u001b[0m       0.8651        0.3110        4.4468\n",
      "     44        \u001b[36m0.2724\u001b[0m       0.8635        \u001b[35m0.3087\u001b[0m     +  4.3350\n",
      "     45        0.2755       \u001b[32m0.8667\u001b[0m        0.3103        4.8736\n",
      "     46        \u001b[36m0.2675\u001b[0m       \u001b[32m0.8688\u001b[0m        \u001b[35m0.3064\u001b[0m     +  4.3808\n",
      "     47        \u001b[36m0.2674\u001b[0m       0.8615        0.3084        4.4551\n",
      "     48        \u001b[36m0.2617\u001b[0m       0.8661        \u001b[35m0.3051\u001b[0m     +  4.3887\n",
      "     49        \u001b[36m0.2613\u001b[0m       0.8677        \u001b[35m0.3035\u001b[0m     +  4.5504\n",
      "     50        \u001b[36m0.2598\u001b[0m       0.8667        0.3042        4.4424\n",
      "     51        \u001b[36m0.2574\u001b[0m       0.8646        \u001b[35m0.3009\u001b[0m     +  4.3573\n",
      "     52        \u001b[36m0.2535\u001b[0m       0.8682        \u001b[35m0.3009\u001b[0m     +  4.2999\n",
      "     53        \u001b[36m0.2521\u001b[0m       \u001b[32m0.8698\u001b[0m        \u001b[35m0.2983\u001b[0m     +  4.3536\n",
      "     54        \u001b[36m0.2498\u001b[0m       0.8698        \u001b[35m0.2955\u001b[0m     +  4.2388\n",
      "     55        \u001b[36m0.2465\u001b[0m       \u001b[32m0.8745\u001b[0m        0.2957        4.2710\n",
      "     56        0.2478       0.8740        \u001b[35m0.2949\u001b[0m     +  4.3338\n",
      "     57        0.2478       0.8745        0.2983        4.2361\n",
      "     58        \u001b[36m0.2445\u001b[0m       0.8729        0.2975        4.0912\n",
      "     59        \u001b[36m0.2377\u001b[0m       \u001b[32m0.8771\u001b[0m        0.2960        4.2963\n",
      "     60        0.2443       0.8750        \u001b[35m0.2910\u001b[0m     +  4.2737\n",
      "     61        0.2433       0.8719        \u001b[35m0.2882\u001b[0m     +  4.4057\n",
      "     62        0.2442       \u001b[32m0.8792\u001b[0m        \u001b[35m0.2874\u001b[0m     +  4.3583\n",
      "     63        0.2395       0.8745        0.2888        4.4037\n",
      "     64        0.2428       0.8760        0.2902        4.2023\n",
      "     65        0.2403       0.8755        \u001b[35m0.2863\u001b[0m     +  4.2821\n",
      "     66        0.2389       0.8734        0.2899        4.3924\n",
      "     67        0.2391       0.8755        0.2879        4.3164\n",
      "     68        \u001b[36m0.2370\u001b[0m       0.8750        0.2931        4.2089\n",
      "     69        0.2372       \u001b[32m0.8797\u001b[0m        0.2872        4.3691\n",
      "     70        0.2373       0.8792        \u001b[35m0.2849\u001b[0m     +  4.3789\n",
      "     71        \u001b[36m0.2350\u001b[0m       0.8792        0.2895        4.1713\n",
      "     72        \u001b[36m0.2306\u001b[0m       0.8719        0.2958        4.2874\n",
      "     73        \u001b[36m0.2295\u001b[0m       0.8781        0.2894        4.2712\n",
      "     74        0.2306       0.8797        0.2881        4.3884\n",
      "     75        0.2320       \u001b[32m0.8828\u001b[0m        0.2925        4.2929\n",
      "     76        \u001b[36m0.2284\u001b[0m       0.8792        0.2896        4.3897\n",
      "     77        \u001b[36m0.2267\u001b[0m       0.8818        0.2854        4.2803\n",
      "     78        0.2282       0.8818        0.2883        4.4530\n",
      "     79        \u001b[36m0.2265\u001b[0m       0.8771        0.2939        4.3896\n",
      "     80        \u001b[36m0.2252\u001b[0m       0.8807        0.2958        4.3271\n",
      "     81        \u001b[36m0.2210\u001b[0m       0.8823        0.2880        4.3217\n",
      "     82        0.2255       0.8812        0.2885        4.4677\n",
      "     83        0.2237       0.8792        0.2882        4.4275\n",
      "     84        0.2219       0.8802        0.2897        4.2469\n",
      "     85        \u001b[36m0.2165\u001b[0m       0.8807        \u001b[35m0.2825\u001b[0m     +  4.3814\n",
      "     86        0.2167       \u001b[32m0.8859\u001b[0m        \u001b[35m0.2823\u001b[0m     +  4.3066\n",
      "     87        0.2192       0.8828        0.2847        4.4198\n",
      "     88        0.2238       0.8839        0.2849        4.1848\n",
      "     89        0.2171       0.8839        0.2844        4.0488\n",
      "     90        0.2176       0.8812        0.2830        4.3549\n",
      "     91        0.2194       \u001b[32m0.8865\u001b[0m        0.2828        4.2728\n",
      "     92        0.2187       \u001b[32m0.8885\u001b[0m        \u001b[35m0.2806\u001b[0m     +  4.4297\n",
      "     93        \u001b[36m0.2142\u001b[0m       0.8859        0.2850        4.3696\n",
      "     94        0.2146       0.8844        0.2915        4.3569\n",
      "     95        0.2177       0.8833        0.2888        4.2564\n",
      "     96        0.2183       0.8812        0.2907        4.4139\n",
      "     97        0.2143       0.8818        0.2914        4.4488\n",
      "     98        \u001b[36m0.2114\u001b[0m       0.8823        0.2898        4.3599\n",
      "     99        \u001b[36m0.2101\u001b[0m       0.8880        0.2848        4.2462\n",
      "    100        0.2112       0.8828        0.2859        4.2203\n",
      "    101        \u001b[36m0.2096\u001b[0m       0.8849        0.2911        4.5646\n",
      "    102        0.2127       0.8833        0.2878        4.0926\n",
      "    103        0.2136       0.8839        0.2888        4.4565\n",
      "    104        0.2102       0.8880        0.2855        4.5168\n",
      "    105        \u001b[36m0.2082\u001b[0m       0.8865        0.2923        4.4395\n",
      "    106        \u001b[36m0.2072\u001b[0m       0.8865        0.2890        4.4341\n",
      "    107        \u001b[36m0.2065\u001b[0m       0.8859        0.2857        4.3588\n",
      "    108        \u001b[36m0.2032\u001b[0m       0.8865        0.2873        4.4479\n",
      "    109        \u001b[36m0.2015\u001b[0m       0.8828        0.2923        4.4781\n",
      "    110        0.2085       0.8818        0.2871        4.3372\n",
      "    111        \u001b[36m0.1993\u001b[0m       0.8839        0.2970        4.6121\n",
      "    112        0.2056       0.8839        0.2908        4.4024\n",
      "    113        0.2022       0.8812        0.2929        4.4368\n",
      "    114        0.2109       0.8844        0.2914        4.4307\n",
      "    115        0.2072       0.8865        0.2849        4.4718\n",
      "    116        0.2010       0.8875        0.2871        4.4957\n",
      "    117        0.2001       0.8885        0.2905        4.4408\n",
      "    118        0.2048       \u001b[32m0.8896\u001b[0m        0.2858        4.3560\n",
      "    119        \u001b[36m0.1991\u001b[0m       0.8880        0.2863        4.3876\n",
      "    120        \u001b[36m0.1967\u001b[0m       \u001b[32m0.8911\u001b[0m        0.2943        4.4020\n",
      "    121        0.1975       0.8896        0.2840        5.0105\n",
      "    122        0.2044       \u001b[32m0.8948\u001b[0m        0.2829        4.4844\n",
      "    123        0.1980       0.8906        0.2859        4.2468\n",
      "    124        0.1994       0.8870        0.2866        4.3813\n",
      "    125        0.1988       0.8870        0.2892        4.5752\n",
      "    126        \u001b[36m0.1934\u001b[0m       0.8833        0.2934        4.4983\n",
      "    127        0.2011       0.8823        0.2981        4.3070\n",
      "    128        \u001b[36m0.1893\u001b[0m       0.8828        0.2975        4.3562\n",
      "    129        0.1961       0.8865        0.2912        4.4993\n",
      "    130        0.1908       0.8911        0.2825        4.1530\n",
      "    131        0.1937       0.8880        0.2838        4.4621\n",
      "    132        0.1951       0.8875        0.2962        4.4685\n",
      "    133        0.1925       0.8906        0.2899        4.6621\n",
      "    134        0.1976       0.8875        0.2898        4.5202\n",
      "    135        0.1994       0.8932        0.2866        4.4139\n",
      "    136        0.1927       0.8885        0.2961        4.4522\n",
      "    137        \u001b[36m0.1878\u001b[0m       0.8911        0.2893        4.4245\n",
      "    138        0.1886       0.8911        0.2882        4.4535\n",
      "    139        0.1884       0.8901        0.2881        4.4035\n",
      "    140        0.1896       0.8885        0.2890        4.3814\n",
      "    141        \u001b[36m0.1860\u001b[0m       0.8849        0.3006        4.4938\n",
      "    142        0.1921       0.8865        0.2899        4.4193\n",
      "    143        0.1891       0.8818        0.2961        4.4660\n",
      "    144        0.1898       0.8896        \u001b[35m0.2798\u001b[0m     +  4.2811\n",
      "    145        0.1884       0.8865        0.2798        4.4564\n",
      "    146        0.1875       0.8844        0.2923        4.3713\n",
      "    147        \u001b[36m0.1854\u001b[0m       0.8885        0.2925        4.2617\n",
      "    148        0.1878       0.8917        0.2913        4.4636\n",
      "    149        0.1871       0.8865        0.2833        4.9697\n",
      "    150        \u001b[36m0.1848\u001b[0m       0.8875        0.2882        4.8156\n",
      "    151        \u001b[36m0.1825\u001b[0m       0.8870        0.2951        4.4449\n",
      "    152        0.1864       0.8948        0.2810        4.4363\n",
      "    153        \u001b[36m0.1753\u001b[0m       0.8891        0.3005        4.2538\n",
      "    154        0.1821       0.8823        0.2905        4.3281\n",
      "    155        0.1886       0.8885        0.2865        4.4388\n",
      "    156        0.1845       0.8885        0.2860        4.2712\n",
      "    157        0.1814       0.8875        0.3082        4.3305\n",
      "    158        0.1811       0.8880        0.3016        4.4136\n",
      "    159        0.1763       0.8891        0.3090        4.3137\n",
      "    160        \u001b[36m0.1751\u001b[0m       0.8870        0.2977        4.3949\n",
      "    161        0.1811       0.8922        0.3053        4.3780\n",
      "    162        0.1756       0.8938        0.3000        5.0804\n",
      "    163        0.1869       0.8875        0.2932        4.7420\n",
      "    164        0.1801       0.8938        0.3005        4.3768\n",
      "    165        0.1821       0.8891        0.2872        4.2655\n",
      "    166        0.1769       0.8849        0.3031        4.4352\n",
      "    167        0.1754       0.8932        0.3000        4.2307\n",
      "    168        \u001b[36m0.1738\u001b[0m       0.8943        0.2933        4.4408\n",
      "    169        0.1762       0.8891        0.3039        4.3866\n",
      "    170        0.1740       0.8901        0.2975        4.3250\n",
      "    171        0.1758       0.8917        0.2965        4.3282\n",
      "    172        \u001b[36m0.1706\u001b[0m       0.8901        0.2949        4.3947\n",
      "    173        0.1748       \u001b[32m0.8958\u001b[0m        0.3037        4.3519\n",
      "    174        0.1758       0.8901        0.2939        4.2567\n",
      "    175        0.1716       0.8906        0.2963        4.3187\n",
      "    176        0.1750       0.8943        0.2883        4.6159\n",
      "    177        \u001b[36m0.1682\u001b[0m       0.8906        0.3030        4.4010\n",
      "    178        0.1714       0.8901        0.2948        4.3423\n",
      "    179        0.1767       0.8932        0.2895        4.4266\n",
      "    180        0.1756       0.8854        0.2992        4.4808\n",
      "    181        0.1736       0.8880        0.2938        4.2358\n",
      "    182        \u001b[36m0.1681\u001b[0m       0.8891        0.2937        4.4570\n",
      "    183           nan       0.5401           nan        4.6651\n",
      "    184           nan       0.5401           nan        5.1084\n",
      "    185           nan       0.5401           nan        4.8967\n",
      "    186           nan       0.5401           nan        4.5494\n",
      "    187           nan       0.5401           nan        4.3752\n",
      "    188           nan       0.5401           nan        4.5986\n",
      "    189           nan       0.5401           nan        4.2002\n",
      "    190           nan       0.5401           nan        4.4984\n",
      "    191           nan       0.5401           nan        4.5900\n",
      "    192           nan       0.5401           nan        4.4722\n",
      "    193           nan       0.5401           nan        4.4533\n",
      "Epoch   193: reducing learning rate of group 0 to 4.0000e-03.\n",
      "    194           nan       0.5401           nan        5.2888\n"
     ]
    },
    {
     "data": {
      "text/plain": [
       "<class 'skorch.classifier.NeuralNetClassifier'>[initialized](\n",
       "  module_=ClassifierModule(\n",
       "    (dense0): Linear(in_features=2074, out_features=1000, bias=True)\n",
       "    (dropout1): Dropout(p=0.5, inplace=False)\n",
       "    (dense1): Linear(in_features=1000, out_features=1000, bias=True)\n",
       "    (dropout2): Dropout(p=0.5, inplace=False)\n",
       "    (dense2): Linear(in_features=1000, out_features=1000, bias=True)\n",
       "    (dropout3): Dropout(p=0.5, inplace=False)\n",
       "    (denselast): Linear(in_features=1000, out_features=50, bias=True)\n",
       "    (output): Linear(in_features=50, out_features=2, bias=True)\n",
       "  ),\n",
       ")"
      ]
     },
     "execution_count": 63,
     "metadata": {},
     "output_type": "execute_result"
    }
   ],
   "source": [
    "net.fit(X_train, y_train)"
   ]
  },
  {
   "cell_type": "code",
   "execution_count": 64,
   "metadata": {},
   "outputs": [
    {
     "name": "stdout",
     "output_type": "stream",
     "text": [
      "0.5401041666666667\n",
      "0.5479166666666667\n"
     ]
    }
   ],
   "source": [
    "print(net.score(X_train, y_train))\n",
    "print(net.score(X_test, y_test))"
   ]
  },
  {
   "cell_type": "code",
   "execution_count": 65,
   "metadata": {},
   "outputs": [],
   "source": [
    "#model = torch.load('best_model.pt')\n",
    "net.load_params('best_model.pt')"
   ]
  },
  {
   "cell_type": "code",
   "execution_count": 66,
   "metadata": {},
   "outputs": [
    {
     "name": "stdout",
     "output_type": "stream",
     "text": [
      "0.9329166666666666\n",
      "0.8866666666666667\n"
     ]
    }
   ],
   "source": [
    "print(net.score(X_train, y_train))\n",
    "print(net.score(X_test, y_test))"
   ]
  },
  {
   "cell_type": "code",
   "execution_count": 75,
   "metadata": {},
   "outputs": [],
   "source": [
    "net.history = net.history[:182]"
   ]
  },
  {
   "cell_type": "code",
   "execution_count": 78,
   "metadata": {},
   "outputs": [
    {
     "data": {
      "text/plain": [
       "<matplotlib.legend.Legend at 0x7f73c9d86490>"
      ]
     },
     "execution_count": 78,
     "metadata": {},
     "output_type": "execute_result"
    },
    {
     "data": {
      "image/png": "[encoded data removed]",
      "text/plain": [
       "<Figure size 864x576 with 2 Axes>"
      ]
     },
     "metadata": {},
     "output_type": "display_data"
    }
   ],
   "source": [
    "valid_acc = [x['valid_acc'] for x in net.history]\n",
    "train_loss = [x['train_loss'] for x in net.history]\n",
    "valid_loss = [x['valid_loss'] for x in net.history]\n",
    "fig, ax1 = plt.subplots(figsize = (12, 8), facecolor = 'w')\n",
    "\n",
    "ax1.plot(range(len(valid_acc)), valid_acc, color='firebrick', label = 'neural net validation acc')\n",
    "\n",
    "\n",
    "ax1.plot(range(len(valid_acc)), [clf.score(X_test, y_test)]*len(valid_acc),  '--', color = 'blue', label = 'logreg test set acc')\n",
    "ax1.plot(range(len(valid_acc)), [net.score(X_test, y_test)]*len(valid_acc), '--', color = 'firebrick', label = 'neural net test set acc')\n",
    "\n",
    "\n",
    "ax2 = ax1.twinx()\n",
    "ax2.plot(range(len(valid_acc)), train_loss, '--', alpha = 0.5, color='firebrick', label = 'neural net train loss')\n",
    "ax2.plot(range(len(valid_acc)), valid_loss, '--', color='red', label = 'neural net validation loss')\n",
    "ax1.set_xlabel('epoch')\n",
    "ax1.set_ylabel('accuracy')\n",
    "ax2.set_ylabel('train loss')\n",
    "ax1.grid(True)\n",
    "ax1.legend(loc = 3)\n",
    "ax2.legend(loc = 4)"
   ]
  },
  {
   "cell_type": "code",
   "execution_count": null,
   "metadata": {},
   "outputs": [],
   "source": []
  },
  {
   "cell_type": "code",
   "execution_count": 10,
   "metadata": {},
   "outputs": [
    {
     "data": {
      "text/plain": [
       "array([[-0.00345257,  0.11822586,  0.01406745, ...,  0.03848177,\n",
       "         0.50044064,  0.0799585 ]])"
      ]
     },
     "execution_count": 10,
     "metadata": {},
     "output_type": "execute_result"
    }
   ],
   "source": [
    "clf.coef_"
   ]
  },
  {
   "cell_type": "code",
   "execution_count": 12,
   "metadata": {},
   "outputs": [
    {
     "data": {
      "text/plain": [
       "1.0"
      ]
     },
     "execution_count": 12,
     "metadata": {},
     "output_type": "execute_result"
    }
   ],
   "source": [
    "clf.score(X_train, y_train)"
   ]
  },
  {
   "cell_type": "code",
   "execution_count": 28,
   "metadata": {},
   "outputs": [
    {
     "data": {
      "text/plain": [
       "array([[ 534,  345,  490, ..., 1821, 2000, 2001]])"
      ]
     },
     "execution_count": 28,
     "metadata": {},
     "output_type": "execute_result"
    }
   ],
   "source": [
    "np.argsort(np.abs(clf.coef_))\n",
    "#clf.coef_[0][10000]"
   ]
  },
  {
   "cell_type": "code",
   "execution_count": 30,
   "metadata": {},
   "outputs": [],
   "source": [
    "#sorted(np.abs(clf.coef_)[0], reverse=True)"
   ]
  },
  {
   "cell_type": "code",
   "execution_count": 31,
   "metadata": {},
   "outputs": [
    {
     "data": {
      "text/plain": [
       "array([-0.01809805,  0.00498394, -0.00645567, ..., -1.6790365 ,\n",
       "       -0.0847954 , -0.16457551])"
      ]
     },
     "execution_count": 31,
     "metadata": {},
     "output_type": "execute_result"
    }
   ],
   "source": [
    "clf.coef_[0]"
   ]
  },
  {
   "cell_type": "code",
   "execution_count": 101,
   "metadata": {},
   "outputs": [
    {
     "name": "stdout",
     "output_type": "stream",
     "text": [
      "(1920, 54) (480, 54) (1920,) (480,)\n",
      "50 0.85625\n",
      "(1920, 104) (480, 104) (1920,) (480,)\n",
      "100 0.875\n",
      "(1920, 204) (480, 204) (1920,) (480,)\n",
      "200 0.9083333333333333\n",
      "(1920, 504) (480, 504) (1920,) (480,)\n",
      "500 0.9291666666666667\n",
      "(1920, 1004) (480, 1004) (1920,) (480,)\n",
      "1000 0.9333333333333333\n",
      "(1920, 2504) (480, 2504) (1920,) (480,)\n",
      "2500 0.9416666666666667\n",
      "(1920, 5004) (480, 5004) (1920,) (480,)\n",
      "5000 0.9479166666666666\n",
      "(1920, 7504) (480, 7504) (1920,) (480,)\n",
      "7500 0.9479166666666666\n",
      "(1920, 10004) (480, 10004) (1920,) (480,)\n",
      "10000 0.9416666666666667\n"
     ]
    }
   ],
   "source": [
    "scores = {}\n",
    "for c in [50, 100, 200, 500, 1000, 2500, 5000, 7500, 10000]:\n",
    "    train, test = [], []\n",
    "    for i, filename in enumerate(files[:2]):\n",
    "        with open(os.path.join('..', 'neuron_logs', 'train_data', filename), 'r') as f:\n",
    "            neuron_data = json.load(f)\n",
    "        if i == 10:\n",
    "            break\n",
    "        for e in neuron_data.keys():\n",
    "            if e == '0' or e > 5:\n",
    "                continue\n",
    "            for neuron in neuron_data[e]:\n",
    "                if ' ' not in neuron:\n",
    "                    continue\n",
    "                current_data = neuron_data[e][neuron]\n",
    "                important_features = []\n",
    "                important_features += reduce_to_statistics(current_data['activations'], neuron_data[e]['original_labels'])\n",
    "                #important_features = current_data['activations'][:c]\n",
    "                important_features += [current_data['depth']]\n",
    "                important_features += [current_data['inverse_depth']]\n",
    "                important_features += [current_data['width']]\n",
    "                # important_features += [current_data['input_weights']]\n",
    "                # important_features += [current_data['output_weights']]\n",
    "                important_features += [current_data['reg_loss_in_layer']]\n",
    "                train += [important_features]\n",
    "                test += [int(current_data[target] > threshold)]\n",
    "\n",
    "    train = np.array(train)\n",
    "    test = np.array(test)\n",
    "    X_train, X_test, y_train, y_test = train_test_split(train, test, test_size=0.2, random_state=0)\n",
    "    print(f\"{X_train.shape} {X_test.shape} {y_train.shape} {y_test.shape}\")\n",
    "    clf = LogisticRegression(solver='liblinear').fit(X_train, y_train)\n",
    "    print(c, clf.score(X_test, y_test))\n",
    "    scores[c] = clf.score(X_test, y_test)"
   ]
  },
  {
   "cell_type": "code",
   "execution_count": 115,
   "metadata": {},
   "outputs": [
    {
     "data": {
      "text/plain": [
       "Text(0.5, 1.0, 'Accuracy versus sample size from 10000 activations')"
      ]
     },
     "execution_count": 115,
     "metadata": {},
     "output_type": "execute_result"
    },
    {
     "data": {
      "image/png": "[encoded data removed]",
      "text/plain": [
       "<Figure size 432x288 with 1 Axes>"
      ]
     },
     "metadata": {},
     "output_type": "display_data"
    }
   ],
   "source": [
    "counts, accuracies = zip(*sorted(list(scores.items()), key = lambda x: x[0]))\n",
    "plt.figure(facecolor = 'w')\n",
    "plt.plot(counts, accuracies)\n",
    "plt.grid()\n",
    "plt.title('Accuracy versus sample size from 10000 activations')"
   ]
  },
  {
   "cell_type": "code",
   "execution_count": 10,
   "metadata": {},
   "outputs": [],
   "source": [
    "with open(os.path.join('..', 'neuron_logs', 'train_data', 'output_20191013-181903.json'), 'r') as f:\n",
    "    neuron_data = json.load(f)\n",
    "    "
   ]
  },
  {
   "cell_type": "code",
   "execution_count": 42,
   "metadata": {},
   "outputs": [],
   "source": []
  },
  {
   "cell_type": "code",
   "execution_count": 43,
   "metadata": {
    "scrolled": true
   },
   "outputs": [
    {
     "data": {
      "text/plain": [
       "Text(0.5, 1.0, \"Distribution of some neuron's activations\")"
      ]
     },
     "execution_count": 43,
     "metadata": {},
     "output_type": "execute_result"
    },
    {
     "data": {
      "image/png": "[encoded data removed]",
      "text/plain": [
       "<Figure size 432x288 with 1 Axes>"
      ]
     },
     "metadata": {
      "needs_background": "light"
     },
     "output_type": "display_data"
    }
   ],
   "source": []
  },
  {
   "cell_type": "code",
   "execution_count": 21,
   "metadata": {},
   "outputs": [
    {
     "name": "stdout",
     "output_type": "stream",
     "text": [
      "Initialization 0\n",
      "  Iteration 10\n",
      "Initialization converged: True\n",
      "(0.8897592425346375, 5.814730093941428e-26)\n"
     ]
    },
    {
     "data": {
      "image/png": "[encoded data removed]",
      "text/plain": [
       "<Figure size 432x288 with 1 Axes>"
      ]
     },
     "metadata": {
      "needs_background": "light"
     },
     "output_type": "display_data"
    }
   ],
   "source": [
    "from sklearn.mixture import GaussianMixture\n",
    "\n",
    "e = 25\n",
    "num = 1\n",
    "neuron = '2 24'\n",
    "current_data = neuron_data[str(e)][neuron]\n",
    "some_data = reduce_to_statistics(current_data['activations'], neuron_data[str(e)]['original_labels'], debug=True) \n",
    "plt.hist(some_data[num], bins = 50, alpha = 0.5, color = 'blue', density=True)\n",
    "#plt.hist(some_data[num-2], bins = 50, alpha = 0.5, color = 'red')\n",
    "plt.title('Distribution of some neuron\\'s activations')\n",
    "\n",
    "gmm = GaussianMixture(n_components=3, verbose = 1)\n",
    "gmm.fit(np.array(some_data[num]).reshape(-1, 1))\n",
    "gmm.means_\n",
    "\n",
    "\n",
    "# Plot the data to which the GMM is being fitted\n",
    "x = np.linspace(min(some_data[num]), max(some_data[num]), 1000).reshape(-1, 1)\n",
    "y = np.exp(gmm.score_samples(x))\n",
    "\n",
    "plt.plot(x, y, linewidth=3)\n",
    "\n",
    "from scipy.stats import shapiro\n",
    "\n",
    "print(shapiro(some_data[num][:2000]))"
   ]
  },
  {
   "cell_type": "code",
   "execution_count": 63,
   "metadata": {},
   "outputs": [
    {
     "data": {
      "image/png": "[encoded data removed]",
      "text/plain": [
       "<Figure size 432x288 with 1 Axes>"
      ]
     },
     "metadata": {
      "needs_background": "light"
     },
     "output_type": "display_data"
    }
   ],
   "source": [
    "from scipy.stats import norm\n",
    "\n",
    "np.random.seed(1)\n",
    "X = np.array(some_data[num])[:, np.newaxis]\n",
    "\n",
    "fig, ax = plt.subplots()\n",
    "\n",
    "\n",
    "for kernel in ['gaussian']:\n",
    "    kde = KernelDensity(kernel=kernel, bandwidth=1500).fit(X)\n",
    "    log_dens = kde.score_samples(X_plot)\n",
    "    ax.plot(X_plot[:, 0], np.exp(log_dens), '-',\n",
    "            label=\"kernel = '{0}'\".format(kernel))\n",
    "\n",
    "ax.plot(X[:, 0], -0.005 - 0.01 * np.random.random(X.shape[0]), '+k')\n",
    "\n",
    "ax.set_xlim(-1000, 400)\n",
    "ax.set_ylim(-0.02, 0.05)\n",
    "\n",
    "ax.hist(some_data[num], bins = 50, alpha = 0.5, color = 'blue', density=True)\n",
    "\n",
    "plt.show()"
   ]
  },
  {
   "cell_type": "code",
   "execution_count": 68,
   "metadata": {},
   "outputs": [
    {
     "name": "stdout",
     "output_type": "stream",
     "text": [
      "[[ 1.62434536]\n",
      " [-0.61175641]\n",
      " [-0.52817175]\n",
      " [-1.07296862]\n",
      " [ 0.86540763]\n",
      " [-2.3015387 ]\n",
      " [ 6.74481176]\n",
      " [ 4.2387931 ]\n",
      " [ 5.3190391 ]\n",
      " [ 4.75062962]\n",
      " [ 6.46210794]\n",
      " [ 2.93985929]\n",
      " [ 4.6775828 ]\n",
      " [ 4.61594565]\n",
      " [ 6.13376944]\n",
      " [ 3.90010873]\n",
      " [ 4.82757179]\n",
      " [ 4.12214158]\n",
      " [ 5.04221375]\n",
      " [ 5.58281521]]\n"
     ]
    },
    {
     "data": {
      "image/png": "[encoded data removed]",
      "text/plain": [
       "<Figure size 432x288 with 1 Axes>"
      ]
     },
     "metadata": {
      "needs_background": "light"
     },
     "output_type": "display_data"
    }
   ],
   "source": [
    "\n",
    "#----------------------------------------------------------------------\n",
    "# Plot a 1D density example\n",
    "N = 20\n",
    "np.random.seed(1)\n",
    "X = np.concatenate((np.random.normal(0, 1, int(0.3 * N)),\n",
    "                    np.random.normal(5, 1, int(0.7 * N))))[:, np.newaxis]\n",
    "\n",
    "print(X)\n",
    "X_plot = np.linspace(-5, 10, 1000)[:, np.newaxis]\n",
    "\n",
    "true_dens = (0.3 * norm(0, 1).pdf(X_plot[:, 0])\n",
    "             + 0.7 * norm(5, 1).pdf(X_plot[:, 0]))\n",
    "\n",
    "fig, ax = plt.subplots()\n",
    "ax.fill(X_plot[:, 0], true_dens, fc='black', alpha=0.2,\n",
    "        label='input distribution')\n",
    "\n",
    "for kernel in ['gaussian', 'tophat', 'epanechnikov']:\n",
    "    kde = KernelDensity(kernel=kernel, bandwidth=0.5).fit(X)\n",
    "    log_dens = kde.score_samples(X_plot)\n",
    "    ax.plot(X_plot[:, 0], np.exp(log_dens), '-',\n",
    "            label=\"kernel = '{0}'\".format(kernel))\n",
    "\n",
    "ax.text(6, 0.38, \"N={0} points\".format(N))\n",
    "\n",
    "ax.legend(loc='upper left')\n",
    "ax.plot(X[:, 0], -0.005 - 0.01 * np.random.random(X.shape[0]), '+k')\n",
    "ax.hist(X, density=True)\n",
    "ax.set_xlim(-4, 9)\n",
    "ax.set_ylim(-0.02, 0.4)\n",
    "plt.show()\n"
   ]
  },
  {
   "cell_type": "code",
   "execution_count": null,
   "metadata": {},
   "outputs": [],
   "source": []
  }
 ],
 "metadata": {
  "kernelspec": {
   "display_name": "Python 3",
   "language": "python",
   "name": "python3"
  },
  "language_info": {
   "codemirror_mode": {
    "name": "ipython",
    "version": 3
   },
   "file_extension": ".py",
   "mimetype": "text/x-python",
   "name": "python",
   "nbconvert_exporter": "python",
   "pygments_lexer": "ipython3",
   "version": "3.7.4"
  }
 },
 "nbformat": 4,
 "nbformat_minor": 4
}
