{
 "cells": [
  {
   "source": [
    "import gzip, sklearn\n",
    "import numpy as np\n",
    "import pandas as pd\n",
    "import matplotlib.pyplot as plt\n",
    "\n",
    "from sklearn.preprocessing import StandardScaler\n",
    "from sklearn.model_selection import train_test_split\n",
    "from sklearn import linear_model\n",
    "from sklearn.metrics import mean_squared_error\n",
    "from sklearn.metrics import mean_absolute_error\n",
    "\n",
    "from joblib import dump, load\n",
    "import os, json\n",
    "import collections\n",
    "#dump(reg, 'best_regressor_sklearn.joblib')"
   ],
   "cell_type": "code",
   "outputs": [],
   "metadata": {},
   "execution_count": 1
  },
  {
   "source": [
    "reg = load('Neuron_predictor/sklearn_logreg/best_regressor_sklearn_after40.joblib')\n",
    "scaler = load('Neuron_predictor/sklearn_logreg/nn_activations_scaler_sklearn_after40.joblib')"
   ],
   "cell_type": "code",
   "outputs": [],
   "metadata": {},
   "execution_count": 6
  },
  {
   "source": [
    "activations_no = 1000\n",
    "usefulness_per_neuron = collections.defaultdict(dict)\n",
    "target = 'usefulness_loss'\n",
    "with open(os.path.join('neuron_logs', 'train_data', 'visualize_video_data.json'), 'r') as f:\n",
    "    neuron_data = json.load(f)\n",
    "    \n",
    "\n",
    "features_= []\n",
    "for e in neuron_data.keys():\n",
    "    for neuron in neuron_data[e]:\n",
    "        if ' ' not in neuron:\n",
    "            continue\n",
    "        current_data = neuron_data[e][neuron]\n",
    "        important_features = []\n",
    "        important_features += [current_data['depth']]\n",
    "        important_features += [current_data['inverse_depth']]\n",
    "        important_features += [current_data['width']]\n",
    "        # important_features += [current_data['input_weights']]\n",
    "        # important_features += [current_data['output_weights']]\n",
    "        important_features += [current_data['reg_loss_in_layer']]\n",
    "        important_features += current_data['activations'][:activations_no]\n",
    "        usefulness_gold = current_data[target]\n",
    "        line_of_data = np.array(important_features, dtype = np.float32).reshape(1, -1)\n",
    "        usefulness_prediction = reg.predict(scaler.transform(line_of_data))[0]\n",
    "        usefulness_per_neuron[e][neuron] = (usefulness_gold, usefulness_prediction)\n",
    ""
   ],
   "cell_type": "code",
   "outputs": [],
   "metadata": {},
   "execution_count": 8
  },
  {
   "cell_type": "code",
   "execution_count": 34,
   "metadata": {},
   "outputs": [],
   "source": []
  },
  {
   "cell_type": "code",
   "execution_count": 6,
   "metadata": {},
   "outputs": [],
   "source": [
    "import matplotlib.animation as animation"
   ]
  },
  {
   "source": [
    "e = '9'\n",
    "layer = '4'\n",
    "data = np.array([usefulness_per_neuron[e][x] for x in usefulness_per_neuron[e] if x[0] == layer])"
   ],
   "cell_type": "code",
   "outputs": [],
   "metadata": {},
   "execution_count": 9
  },
  {
   "source": [
    "data = np.array(sorted(data, key = lambda x: x[1]))"
   ],
   "cell_type": "code",
   "outputs": [],
   "metadata": {},
   "execution_count": 12
  },
  {
   "source": [
    "plt.style.use('default')\n",
    "width = 0.4\n",
    "x_axis_ = np.array(range(100))\n",
    "plt.figure(figsize = (12,6))\n",
    "plt.bar(x_axis_ + width/2, data[:, 0], width, color = 'red', label = 'usefulness')\n",
    "plt.bar(x_axis_ - width/2, data[:, 1], width, color = 'blue', label = 'prediction of usefulness')\n",
    "plt.ylim(0.95, 1.1)\n",
    "plt.xlim(-0.5, 100.5)\n",
    "#plt.xticks(np.array(range(100))+width/2)\n",
    "plt.legend(loc=1)\n",
    "plt.grid()\n",
    "plt.xlabel('usefulness')\n",
    "plt.ylabel('neuron index')\n",
    "plt.text(0, 1.09, f'epoch: {e}')"
   ],
   "cell_type": "code",
   "outputs": [
    {
     "output_type": "execute_result",
     "data": {
      "text/plain": "Text(0, 1.09, 'epoch: 9')"
     },
     "metadata": {},
     "execution_count": 13
    },
    {
     "output_type": "display_data",
     "data": {
      "text/plain": "<Figure size 1200x600 with 1 Axes>",
      "image/svg+xml": "<?xml version=\"1.0\" encoding=\"utf-8\" standalone=\"no\"?>\n<!DOCTYPE svg PUBLIC \"-//W3C//DTD SVG 1.1//EN\"\n  \"http://www.w3.org/Graphics/SVG/1.1/DTD/svg11.dtd\">\n<!-- Created with matplotlib (https://matplotlib.org/) -->\n<svg height=\"381.195469pt\" version=\"1.1\" viewBox=\"0 0 733.172649 381.195469\" width=\"733.172649pt\" xmlns=\"http://www.w3.org/2000/svg\" xmlns:xlink=\"http://www.w3.org/1999/xlink\">\n <defs>\n  <style type=\"text/css\">\n*{stroke-linecap:butt;stroke-linejoin:round;}\n  </style>\n </defs>\n <g id=\"figure_1\">\n  <g id=\"patch_1\">\n   <path d=\"M 0 381.195469 \nL 733.172649 381.195469 \nL 733.172649 0 \nL 0 0 \nz\n\" style=\"fill:#ffffff;\"/>\n  </g>\n  <g id=\"axes_1\">\n   <g id=\"patch_2\">\n    <path d=\"M 50.14375 343.639219 \nL 719.74375 343.639219 \nL 719.74375 10.999219 \nL 50.14375 10.999219 \nz\n\" style=\"fill:#ffffff;\"/>\n   </g>\n   <g id=\"patch_3\">\n    <path clip-path=\"url(#pea7b065b23)\" d=\"M 53.458601 2450.359219 \nL 56.110483 2450.359219 \nL 56.110483 236.325944 \nL 53.458601 236.325944 \nz\n\" style=\"fill:#ff0000;\"/>\n   </g>\n   <g id=\"patch_4\">\n    <path clip-path=\"url(#pea7b065b23)\" d=\"M 60.088304 2450.359219 \nL 62.740186 2450.359219 \nL 62.740186 232.759219 \nL 60.088304 232.759219 \nz\n\" style=\"fill:#ff0000;\"/>\n   </g>\n   <g id=\"patch_5\">\n    <path clip-path=\"url(#pea7b065b23)\" d=\"M 66.718007 2450.359219 \nL 69.369889 2450.359219 \nL 69.369889 215.947603 \nL 66.718007 215.947603 \nz\n\" style=\"fill:#ff0000;\"/>\n   </g>\n   <g id=\"patch_6\">\n    <path clip-path=\"url(#pea7b065b23)\" d=\"M 73.34771 2450.359219 \nL 75.999592 2450.359219 \nL 75.999592 232.760144 \nL 73.34771 232.760144 \nz\n\" style=\"fill:#ff0000;\"/>\n   </g>\n   <g id=\"patch_7\">\n    <path clip-path=\"url(#pea7b065b23)\" d=\"M 79.977413 2450.359219 \nL 82.629295 2450.359219 \nL 82.629295 221.473489 \nL 79.977413 221.473489 \nz\n\" style=\"fill:#ff0000;\"/>\n   </g>\n   <g id=\"patch_8\">\n    <path clip-path=\"url(#pea7b065b23)\" d=\"M 86.607116 2450.359219 \nL 89.258998 2450.359219 \nL 89.258998 210.322054 \nL 86.607116 210.322054 \nz\n\" style=\"fill:#ff0000;\"/>\n   </g>\n   <g id=\"patch_9\">\n    <path clip-path=\"url(#pea7b065b23)\" d=\"M 93.236819 2450.359219 \nL 95.8887 2450.359219 \nL 95.8887 239.154316 \nL 93.236819 239.154316 \nz\n\" style=\"fill:#ff0000;\"/>\n   </g>\n   <g id=\"patch_10\">\n    <path clip-path=\"url(#pea7b065b23)\" d=\"M 99.866522 2450.359219 \nL 102.518403 2450.359219 \nL 102.518403 232.758954 \nL 99.866522 232.758954 \nz\n\" style=\"fill:#ff0000;\"/>\n   </g>\n   <g id=\"patch_11\">\n    <path clip-path=\"url(#pea7b065b23)\" d=\"M 106.496225 2450.359219 \nL 109.148106 2450.359219 \nL 109.148106 232.758954 \nL 106.496225 232.758954 \nz\n\" style=\"fill:#ff0000;\"/>\n   </g>\n   <g id=\"patch_12\">\n    <path clip-path=\"url(#pea7b065b23)\" d=\"M 113.125928 2450.359219 \nL 115.777809 2450.359219 \nL 115.777809 232.825176 \nL 113.125928 232.825176 \nz\n\" style=\"fill:#ff0000;\"/>\n   </g>\n   <g id=\"patch_13\">\n    <path clip-path=\"url(#pea7b065b23)\" d=\"M 119.755631 2450.359219 \nL 122.407512 2450.359219 \nL 122.407512 226.236701 \nL 119.755631 226.236701 \nz\n\" style=\"fill:#ff0000;\"/>\n   </g>\n   <g id=\"patch_14\">\n    <path clip-path=\"url(#pea7b065b23)\" d=\"M 126.385334 2450.359219 \nL 129.037215 2450.359219 \nL 129.037215 229.323087 \nL 126.385334 229.323087 \nz\n\" style=\"fill:#ff0000;\"/>\n   </g>\n   <g id=\"patch_15\">\n    <path clip-path=\"url(#pea7b065b23)\" d=\"M 133.015037 2450.359219 \nL 135.666918 2450.359219 \nL 135.666918 204.368435 \nL 133.015037 204.368435 \nz\n\" style=\"fill:#ff0000;\"/>\n   </g>\n   <g id=\"patch_16\">\n    <path clip-path=\"url(#pea7b065b23)\" d=\"M 139.64474 2450.359219 \nL 142.296621 2450.359219 \nL 142.296621 255.205769 \nL 139.64474 255.205769 \nz\n\" style=\"fill:#ff0000;\"/>\n   </g>\n   <g id=\"patch_17\">\n    <path clip-path=\"url(#pea7b065b23)\" d=\"M 146.274443 2450.359219 \nL 148.926324 2450.359219 \nL 148.926324 232.712956 \nL 146.274443 232.712956 \nz\n\" style=\"fill:#ff0000;\"/>\n   </g>\n   <g id=\"patch_18\">\n    <path clip-path=\"url(#pea7b065b23)\" d=\"M 152.904146 2450.359219 \nL 155.556027 2450.359219 \nL 155.556027 233.125752 \nL 152.904146 233.125752 \nz\n\" style=\"fill:#ff0000;\"/>\n   </g>\n   <g id=\"patch_19\">\n    <path clip-path=\"url(#pea7b065b23)\" d=\"M 159.533849 2450.359219 \nL 162.18573 2450.359219 \nL 162.18573 226.925355 \nL 159.533849 226.925355 \nz\n\" style=\"fill:#ff0000;\"/>\n   </g>\n   <g id=\"patch_20\">\n    <path clip-path=\"url(#pea7b065b23)\" d=\"M 166.163552 2450.359219 \nL 168.815433 2450.359219 \nL 168.815433 231.623006 \nL 166.163552 231.623006 \nz\n\" style=\"fill:#ff0000;\"/>\n   </g>\n   <g id=\"patch_21\">\n    <path clip-path=\"url(#pea7b065b23)\" d=\"M 172.793255 2450.359219 \nL 175.445136 2450.359219 \nL 175.445136 232.778913 \nL 172.793255 232.778913 \nz\n\" style=\"fill:#ff0000;\"/>\n   </g>\n   <g id=\"patch_22\">\n    <path clip-path=\"url(#pea7b065b23)\" d=\"M 179.422958 2450.359219 \nL 182.074839 2450.359219 \nL 182.074839 233.802906 \nL 179.422958 233.802906 \nz\n\" style=\"fill:#ff0000;\"/>\n   </g>\n   <g id=\"patch_23\">\n    <path clip-path=\"url(#pea7b065b23)\" d=\"M 186.052661 2450.359219 \nL 188.704542 2450.359219 \nL 188.704542 243.050564 \nL 186.052661 243.050564 \nz\n\" style=\"fill:#ff0000;\"/>\n   </g>\n   <g id=\"patch_24\">\n    <path clip-path=\"url(#pea7b065b23)\" d=\"M 192.682364 2450.359219 \nL 195.334245 2450.359219 \nL 195.334245 247.329735 \nL 192.682364 247.329735 \nz\n\" style=\"fill:#ff0000;\"/>\n   </g>\n   <g id=\"patch_25\">\n    <path clip-path=\"url(#pea7b065b23)\" d=\"M 199.312067 2450.359219 \nL 201.963948 2450.359219 \nL 201.963948 231.621684 \nL 199.312067 231.621684 \nz\n\" style=\"fill:#ff0000;\"/>\n   </g>\n   <g id=\"patch_26\">\n    <path clip-path=\"url(#pea7b065b23)\" d=\"M 205.94177 2450.359219 \nL 208.593651 2450.359219 \nL 208.593651 232.727231 \nL 205.94177 232.727231 \nz\n\" style=\"fill:#ff0000;\"/>\n   </g>\n   <g id=\"patch_27\">\n    <path clip-path=\"url(#pea7b065b23)\" d=\"M 212.571473 2450.359219 \nL 215.223354 2450.359219 \nL 215.223354 232.66167 \nL 212.571473 232.66167 \nz\n\" style=\"fill:#ff0000;\"/>\n   </g>\n   <g id=\"patch_28\">\n    <path clip-path=\"url(#pea7b065b23)\" d=\"M 219.201176 2450.359219 \nL 221.853057 2450.359219 \nL 221.853057 232.759219 \nL 219.201176 232.759219 \nz\n\" style=\"fill:#ff0000;\"/>\n   </g>\n   <g id=\"patch_29\">\n    <path clip-path=\"url(#pea7b065b23)\" d=\"M 225.830879 2450.359219 \nL 228.48276 2450.359219 \nL 228.48276 206.289264 \nL 225.830879 206.289264 \nz\n\" style=\"fill:#ff0000;\"/>\n   </g>\n   <g id=\"patch_30\">\n    <path clip-path=\"url(#pea7b065b23)\" d=\"M 232.460582 2450.359219 \nL 235.112463 2450.359219 \nL 235.112463 227.680363 \nL 232.460582 227.680363 \nz\n\" style=\"fill:#ff0000;\"/>\n   </g>\n   <g id=\"patch_31\">\n    <path clip-path=\"url(#pea7b065b23)\" d=\"M 239.090285 2450.359219 \nL 241.742166 2450.359219 \nL 241.742166 222.526693 \nL 239.090285 222.526693 \nz\n\" style=\"fill:#ff0000;\"/>\n   </g>\n   <g id=\"patch_32\">\n    <path clip-path=\"url(#pea7b065b23)\" d=\"M 245.719988 2450.359219 \nL 248.371869 2450.359219 \nL 248.371869 224.070812 \nL 245.719988 224.070812 \nz\n\" style=\"fill:#ff0000;\"/>\n   </g>\n   <g id=\"patch_33\">\n    <path clip-path=\"url(#pea7b065b23)\" d=\"M 252.349691 2450.359219 \nL 255.001572 2450.359219 \nL 255.001572 232.103874 \nL 252.349691 232.103874 \nz\n\" style=\"fill:#ff0000;\"/>\n   </g>\n   <g id=\"patch_34\">\n    <path clip-path=\"url(#pea7b065b23)\" d=\"M 258.979394 2450.359219 \nL 261.631275 2450.359219 \nL 261.631275 237.344253 \nL 258.979394 237.344253 \nz\n\" style=\"fill:#ff0000;\"/>\n   </g>\n   <g id=\"patch_35\">\n    <path clip-path=\"url(#pea7b065b23)\" d=\"M 265.609097 2450.359219 \nL 268.260978 2450.359219 \nL 268.260978 229.53378 \nL 265.609097 229.53378 \nz\n\" style=\"fill:#ff0000;\"/>\n   </g>\n   <g id=\"patch_36\">\n    <path clip-path=\"url(#pea7b065b23)\" d=\"M 272.2388 2450.359219 \nL 274.890681 2450.359219 \nL 274.890681 232.944534 \nL 272.2388 232.944534 \nz\n\" style=\"fill:#ff0000;\"/>\n   </g>\n   <g id=\"patch_37\">\n    <path clip-path=\"url(#pea7b065b23)\" d=\"M 278.868502 2450.359219 \nL 281.520384 2450.359219 \nL 281.520384 264.230704 \nL 278.868502 264.230704 \nz\n\" style=\"fill:#ff0000;\"/>\n   </g>\n   <g id=\"patch_38\">\n    <path clip-path=\"url(#pea7b065b23)\" d=\"M 285.498205 2450.359219 \nL 288.150087 2450.359219 \nL 288.150087 231.376095 \nL 285.498205 231.376095 \nz\n\" style=\"fill:#ff0000;\"/>\n   </g>\n   <g id=\"patch_39\">\n    <path clip-path=\"url(#pea7b065b23)\" d=\"M 292.127908 2450.359219 \nL 294.77979 2450.359219 \nL 294.77979 233.038646 \nL 292.127908 233.038646 \nz\n\" style=\"fill:#ff0000;\"/>\n   </g>\n   <g id=\"patch_40\">\n    <path clip-path=\"url(#pea7b065b23)\" d=\"M 298.757611 2450.359219 \nL 301.409493 2450.359219 \nL 301.409493 200.615073 \nL 298.757611 200.615073 \nz\n\" style=\"fill:#ff0000;\"/>\n   </g>\n   <g id=\"patch_41\">\n    <path clip-path=\"url(#pea7b065b23)\" d=\"M 305.387314 2450.359219 \nL 308.039196 2450.359219 \nL 308.039196 252.821783 \nL 305.387314 252.821783 \nz\n\" style=\"fill:#ff0000;\"/>\n   </g>\n   <g id=\"patch_42\">\n    <path clip-path=\"url(#pea7b065b23)\" d=\"M 312.017017 2450.359219 \nL 314.668899 2450.359219 \nL 314.668899 244.164967 \nL 312.017017 244.164967 \nz\n\" style=\"fill:#ff0000;\"/>\n   </g>\n   <g id=\"patch_43\">\n    <path clip-path=\"url(#pea7b065b23)\" d=\"M 318.64672 2450.359219 \nL 321.298601 2450.359219 \nL 321.298601 258.693451 \nL 318.64672 258.693451 \nz\n\" style=\"fill:#ff0000;\"/>\n   </g>\n   <g id=\"patch_44\">\n    <path clip-path=\"url(#pea7b065b23)\" d=\"M 325.276423 2450.359219 \nL 327.928304 2450.359219 \nL 327.928304 238.873567 \nL 325.276423 238.873567 \nz\n\" style=\"fill:#ff0000;\"/>\n   </g>\n   <g id=\"patch_45\">\n    <path clip-path=\"url(#pea7b065b23)\" d=\"M 331.906126 2450.359219 \nL 334.558007 2450.359219 \nL 334.558007 212.96934 \nL 331.906126 212.96934 \nz\n\" style=\"fill:#ff0000;\"/>\n   </g>\n   <g id=\"patch_46\">\n    <path clip-path=\"url(#pea7b065b23)\" d=\"M 338.535829 2450.359219 \nL 341.18771 2450.359219 \nL 341.18771 227.460417 \nL 338.535829 227.460417 \nz\n\" style=\"fill:#ff0000;\"/>\n   </g>\n   <g id=\"patch_47\">\n    <path clip-path=\"url(#pea7b065b23)\" d=\"M 345.165532 2450.359219 \nL 347.817413 2450.359219 \nL 347.817413 232.798212 \nL 345.165532 232.798212 \nz\n\" style=\"fill:#ff0000;\"/>\n   </g>\n   <g id=\"patch_48\">\n    <path clip-path=\"url(#pea7b065b23)\" d=\"M 351.795235 2450.359219 \nL 354.447116 2450.359219 \nL 354.447116 221.036505 \nL 351.795235 221.036505 \nz\n\" style=\"fill:#ff0000;\"/>\n   </g>\n   <g id=\"patch_49\">\n    <path clip-path=\"url(#pea7b065b23)\" d=\"M 358.424938 2450.359219 \nL 361.076819 2450.359219 \nL 361.076819 203.135203 \nL 358.424938 203.135203 \nz\n\" style=\"fill:#ff0000;\"/>\n   </g>\n   <g id=\"patch_50\">\n    <path clip-path=\"url(#pea7b065b23)\" d=\"M 365.054641 2450.359219 \nL 367.706522 2450.359219 \nL 367.706522 241.043422 \nL 365.054641 241.043422 \nz\n\" style=\"fill:#ff0000;\"/>\n   </g>\n   <g id=\"patch_51\">\n    <path clip-path=\"url(#pea7b065b23)\" d=\"M 371.684344 2450.359219 \nL 374.336225 2450.359219 \nL 374.336225 192.22592 \nL 371.684344 192.22592 \nz\n\" style=\"fill:#ff0000;\"/>\n   </g>\n   <g id=\"patch_52\">\n    <path clip-path=\"url(#pea7b065b23)\" d=\"M 378.314047 2450.359219 \nL 380.965928 2450.359219 \nL 380.965928 226.203127 \nL 378.314047 226.203127 \nz\n\" style=\"fill:#ff0000;\"/>\n   </g>\n   <g id=\"patch_53\">\n    <path clip-path=\"url(#pea7b065b23)\" d=\"M 384.94375 2450.359219 \nL 387.595631 2450.359219 \nL 387.595631 240.435001 \nL 384.94375 240.435001 \nz\n\" style=\"fill:#ff0000;\"/>\n   </g>\n   <g id=\"patch_54\">\n    <path clip-path=\"url(#pea7b065b23)\" d=\"M 391.573453 2450.359219 \nL 394.225334 2450.359219 \nL 394.225334 245.627134 \nL 391.573453 245.627134 \nz\n\" style=\"fill:#ff0000;\"/>\n   </g>\n   <g id=\"patch_55\">\n    <path clip-path=\"url(#pea7b065b23)\" d=\"M 398.203156 2450.359219 \nL 400.855037 2450.359219 \nL 400.855037 189.803867 \nL 398.203156 189.803867 \nz\n\" style=\"fill:#ff0000;\"/>\n   </g>\n   <g id=\"patch_56\">\n    <path clip-path=\"url(#pea7b065b23)\" d=\"M 404.832859 2450.359219 \nL 407.48474 2450.359219 \nL 407.48474 221.440709 \nL 404.832859 221.440709 \nz\n\" style=\"fill:#ff0000;\"/>\n   </g>\n   <g id=\"patch_57\">\n    <path clip-path=\"url(#pea7b065b23)\" d=\"M 411.462562 2450.359219 \nL 414.114443 2450.359219 \nL 414.114443 219.024472 \nL 411.462562 219.024472 \nz\n\" style=\"fill:#ff0000;\"/>\n   </g>\n   <g id=\"patch_58\">\n    <path clip-path=\"url(#pea7b065b23)\" d=\"M 418.092265 2450.359219 \nL 420.744146 2450.359219 \nL 420.744146 238.990678 \nL 418.092265 238.990678 \nz\n\" style=\"fill:#ff0000;\"/>\n   </g>\n   <g id=\"patch_59\">\n    <path clip-path=\"url(#pea7b065b23)\" d=\"M 424.721968 2450.359219 \nL 427.373849 2450.359219 \nL 427.373849 199.457976 \nL 424.721968 199.457976 \nz\n\" style=\"fill:#ff0000;\"/>\n   </g>\n   <g id=\"patch_60\">\n    <path clip-path=\"url(#pea7b065b23)\" d=\"M 431.351671 2450.359219 \nL 434.003552 2450.359219 \nL 434.003552 242.605252 \nL 431.351671 242.605252 \nz\n\" style=\"fill:#ff0000;\"/>\n   </g>\n   <g id=\"patch_61\">\n    <path clip-path=\"url(#pea7b065b23)\" d=\"M 437.981374 2450.359219 \nL 440.633255 2450.359219 \nL 440.633255 199.861916 \nL 437.981374 199.861916 \nz\n\" style=\"fill:#ff0000;\"/>\n   </g>\n   <g id=\"patch_62\">\n    <path clip-path=\"url(#pea7b065b23)\" d=\"M 444.611077 2450.359219 \nL 447.262958 2450.359219 \nL 447.262958 209.352915 \nL 444.611077 209.352915 \nz\n\" style=\"fill:#ff0000;\"/>\n   </g>\n   <g id=\"patch_63\">\n    <path clip-path=\"url(#pea7b065b23)\" d=\"M 451.24078 2450.359219 \nL 453.892661 2450.359219 \nL 453.892661 201.547466 \nL 451.24078 201.547466 \nz\n\" style=\"fill:#ff0000;\"/>\n   </g>\n   <g id=\"patch_64\">\n    <path clip-path=\"url(#pea7b065b23)\" d=\"M 457.870483 2450.359219 \nL 460.522364 2450.359219 \nL 460.522364 182.448884 \nL 457.870483 182.448884 \nz\n\" style=\"fill:#ff0000;\"/>\n   </g>\n   <g id=\"patch_65\">\n    <path clip-path=\"url(#pea7b065b23)\" d=\"M 464.500186 2450.359219 \nL 467.152067 2450.359219 \nL 467.152067 210.940653 \nL 464.500186 210.940653 \nz\n\" style=\"fill:#ff0000;\"/>\n   </g>\n   <g id=\"patch_66\">\n    <path clip-path=\"url(#pea7b065b23)\" d=\"M 471.129889 2450.359219 \nL 473.78177 2450.359219 \nL 473.78177 207.781568 \nL 471.129889 207.781568 \nz\n\" style=\"fill:#ff0000;\"/>\n   </g>\n   <g id=\"patch_67\">\n    <path clip-path=\"url(#pea7b065b23)\" d=\"M 477.759592 2450.359219 \nL 480.411473 2450.359219 \nL 480.411473 213.523171 \nL 477.759592 213.523171 \nz\n\" style=\"fill:#ff0000;\"/>\n   </g>\n   <g id=\"patch_68\">\n    <path clip-path=\"url(#pea7b065b23)\" d=\"M 484.389295 2450.359219 \nL 487.041176 2450.359219 \nL 487.041176 219.790583 \nL 484.389295 219.790583 \nz\n\" style=\"fill:#ff0000;\"/>\n   </g>\n   <g id=\"patch_69\">\n    <path clip-path=\"url(#pea7b065b23)\" d=\"M 491.018998 2450.359219 \nL 493.670879 2450.359219 \nL 493.670879 226.718098 \nL 491.018998 226.718098 \nz\n\" style=\"fill:#ff0000;\"/>\n   </g>\n   <g id=\"patch_70\">\n    <path clip-path=\"url(#pea7b065b23)\" d=\"M 497.6487 2450.359219 \nL 500.300582 2450.359219 \nL 500.300582 180.420197 \nL 497.6487 180.420197 \nz\n\" style=\"fill:#ff0000;\"/>\n   </g>\n   <g id=\"patch_71\">\n    <path clip-path=\"url(#pea7b065b23)\" d=\"M 504.278403 2450.359219 \nL 506.930285 2450.359219 \nL 506.930285 224.465763 \nL 504.278403 224.465763 \nz\n\" style=\"fill:#ff0000;\"/>\n   </g>\n   <g id=\"patch_72\">\n    <path clip-path=\"url(#pea7b065b23)\" d=\"M 510.908106 2450.359219 \nL 513.559988 2450.359219 \nL 513.559988 222.592519 \nL 510.908106 222.592519 \nz\n\" style=\"fill:#ff0000;\"/>\n   </g>\n   <g id=\"patch_73\">\n    <path clip-path=\"url(#pea7b065b23)\" d=\"M 517.537809 2450.359219 \nL 520.189691 2450.359219 \nL 520.189691 226.179071 \nL 517.537809 226.179071 \nz\n\" style=\"fill:#ff0000;\"/>\n   </g>\n   <g id=\"patch_74\">\n    <path clip-path=\"url(#pea7b065b23)\" d=\"M 524.167512 2450.359219 \nL 526.819394 2450.359219 \nL 526.819394 237.462157 \nL 524.167512 237.462157 \nz\n\" style=\"fill:#ff0000;\"/>\n   </g>\n   <g id=\"patch_75\">\n    <path clip-path=\"url(#pea7b065b23)\" d=\"M 530.797215 2450.359219 \nL 533.449097 2450.359219 \nL 533.449097 232.147493 \nL 530.797215 232.147493 \nz\n\" style=\"fill:#ff0000;\"/>\n   </g>\n   <g id=\"patch_76\">\n    <path clip-path=\"url(#pea7b065b23)\" d=\"M 537.426918 2450.359219 \nL 540.0788 2450.359219 \nL 540.0788 204.437697 \nL 537.426918 204.437697 \nz\n\" style=\"fill:#ff0000;\"/>\n   </g>\n   <g id=\"patch_77\">\n    <path clip-path=\"url(#pea7b065b23)\" d=\"M 544.056621 2450.359219 \nL 546.708502 2450.359219 \nL 546.708502 197.641304 \nL 544.056621 197.641304 \nz\n\" style=\"fill:#ff0000;\"/>\n   </g>\n   <g id=\"patch_78\">\n    <path clip-path=\"url(#pea7b065b23)\" d=\"M 550.686324 2450.359219 \nL 553.338205 2450.359219 \nL 553.338205 260.806468 \nL 550.686324 260.806468 \nz\n\" style=\"fill:#ff0000;\"/>\n   </g>\n   <g id=\"patch_79\">\n    <path clip-path=\"url(#pea7b065b23)\" d=\"M 557.316027 2450.359219 \nL 559.967908 2450.359219 \nL 559.967908 180.891284 \nL 557.316027 180.891284 \nz\n\" style=\"fill:#ff0000;\"/>\n   </g>\n   <g id=\"patch_80\">\n    <path clip-path=\"url(#pea7b065b23)\" d=\"M 563.94573 2450.359219 \nL 566.597611 2450.359219 \nL 566.597611 198.930581 \nL 563.94573 198.930581 \nz\n\" style=\"fill:#ff0000;\"/>\n   </g>\n   <g id=\"patch_81\">\n    <path clip-path=\"url(#pea7b065b23)\" d=\"M 570.575433 2450.359219 \nL 573.227314 2450.359219 \nL 573.227314 229.544619 \nL 570.575433 229.544619 \nz\n\" style=\"fill:#ff0000;\"/>\n   </g>\n   <g id=\"patch_82\">\n    <path clip-path=\"url(#pea7b065b23)\" d=\"M 577.205136 2450.359219 \nL 579.857017 2450.359219 \nL 579.857017 219.317117 \nL 577.205136 219.317117 \nz\n\" style=\"fill:#ff0000;\"/>\n   </g>\n   <g id=\"patch_83\">\n    <path clip-path=\"url(#pea7b065b23)\" d=\"M 583.834839 2450.359219 \nL 586.48672 2450.359219 \nL 586.48672 273.37209 \nL 583.834839 273.37209 \nz\n\" style=\"fill:#ff0000;\"/>\n   </g>\n   <g id=\"patch_84\">\n    <path clip-path=\"url(#pea7b065b23)\" d=\"M 590.464542 2450.359219 \nL 593.116423 2450.359219 \nL 593.116423 210.856587 \nL 590.464542 210.856587 \nz\n\" style=\"fill:#ff0000;\"/>\n   </g>\n   <g id=\"patch_85\">\n    <path clip-path=\"url(#pea7b065b23)\" d=\"M 597.094245 2450.359219 \nL 599.746126 2450.359219 \nL 599.746126 249.805981 \nL 597.094245 249.805981 \nz\n\" style=\"fill:#ff0000;\"/>\n   </g>\n   <g id=\"patch_86\">\n    <path clip-path=\"url(#pea7b065b23)\" d=\"M 603.723948 2450.359219 \nL 606.375829 2450.359219 \nL 606.375829 229.067188 \nL 603.723948 229.067188 \nz\n\" style=\"fill:#ff0000;\"/>\n   </g>\n   <g id=\"patch_87\">\n    <path clip-path=\"url(#pea7b065b23)\" d=\"M 610.353651 2450.359219 \nL 613.005532 2450.359219 \nL 613.005532 227.020524 \nL 610.353651 227.020524 \nz\n\" style=\"fill:#ff0000;\"/>\n   </g>\n   <g id=\"patch_88\">\n    <path clip-path=\"url(#pea7b065b23)\" d=\"M 616.983354 2450.359219 \nL 619.635235 2450.359219 \nL 619.635235 208.428189 \nL 616.983354 208.428189 \nz\n\" style=\"fill:#ff0000;\"/>\n   </g>\n   <g id=\"patch_89\">\n    <path clip-path=\"url(#pea7b065b23)\" d=\"M 623.613057 2450.359219 \nL 626.264938 2450.359219 \nL 626.264938 176.163496 \nL 623.613057 176.163496 \nz\n\" style=\"fill:#ff0000;\"/>\n   </g>\n   <g id=\"patch_90\">\n    <path clip-path=\"url(#pea7b065b23)\" d=\"M 630.24276 2450.359219 \nL 632.894641 2450.359219 \nL 632.894641 201.275705 \nL 630.24276 201.275705 \nz\n\" style=\"fill:#ff0000;\"/>\n   </g>\n   <g id=\"patch_91\">\n    <path clip-path=\"url(#pea7b065b23)\" d=\"M 636.872463 2450.359219 \nL 639.524344 2450.359219 \nL 639.524344 198.2488 \nL 636.872463 198.2488 \nz\n\" style=\"fill:#ff0000;\"/>\n   </g>\n   <g id=\"patch_92\">\n    <path clip-path=\"url(#pea7b065b23)\" d=\"M 643.502166 2450.359219 \nL 646.154047 2450.359219 \nL 646.154047 209.208311 \nL 643.502166 209.208311 \nz\n\" style=\"fill:#ff0000;\"/>\n   </g>\n   <g id=\"patch_93\">\n    <path clip-path=\"url(#pea7b065b23)\" d=\"M 650.131869 2450.359219 \nL 652.78375 2450.359219 \nL 652.78375 188.734008 \nL 650.131869 188.734008 \nz\n\" style=\"fill:#ff0000;\"/>\n   </g>\n   <g id=\"patch_94\">\n    <path clip-path=\"url(#pea7b065b23)\" d=\"M 656.761572 2450.359219 \nL 659.413453 2450.359219 \nL 659.413453 170.484282 \nL 656.761572 170.484282 \nz\n\" style=\"fill:#ff0000;\"/>\n   </g>\n   <g id=\"patch_95\">\n    <path clip-path=\"url(#pea7b065b23)\" d=\"M 663.391275 2450.359219 \nL 666.043156 2450.359219 \nL 666.043156 214.683705 \nL 663.391275 214.683705 \nz\n\" style=\"fill:#ff0000;\"/>\n   </g>\n   <g id=\"patch_96\">\n    <path clip-path=\"url(#pea7b065b23)\" d=\"M 670.020978 2450.359219 \nL 672.672859 2450.359219 \nL 672.672859 200.275901 \nL 670.020978 200.275901 \nz\n\" style=\"fill:#ff0000;\"/>\n   </g>\n   <g id=\"patch_97\">\n    <path clip-path=\"url(#pea7b065b23)\" d=\"M 676.650681 2450.359219 \nL 679.302562 2450.359219 \nL 679.302562 214.620788 \nL 676.650681 214.620788 \nz\n\" style=\"fill:#ff0000;\"/>\n   </g>\n   <g id=\"patch_98\">\n    <path clip-path=\"url(#pea7b065b23)\" d=\"M 683.280384 2450.359219 \nL 685.932265 2450.359219 \nL 685.932265 173.530221 \nL 683.280384 173.530221 \nz\n\" style=\"fill:#ff0000;\"/>\n   </g>\n   <g id=\"patch_99\">\n    <path clip-path=\"url(#pea7b065b23)\" d=\"M 689.910087 2450.359219 \nL 692.561968 2450.359219 \nL 692.561968 155.680998 \nL 689.910087 155.680998 \nz\n\" style=\"fill:#ff0000;\"/>\n   </g>\n   <g id=\"patch_100\">\n    <path clip-path=\"url(#pea7b065b23)\" d=\"M 696.53979 2450.359219 \nL 699.191671 2450.359219 \nL 699.191671 209.044938 \nL 696.53979 209.044938 \nz\n\" style=\"fill:#ff0000;\"/>\n   </g>\n   <g id=\"patch_101\">\n    <path clip-path=\"url(#pea7b065b23)\" d=\"M 703.169493 2450.359219 \nL 705.821374 2450.359219 \nL 705.821374 182.170515 \nL 703.169493 182.170515 \nz\n\" style=\"fill:#ff0000;\"/>\n   </g>\n   <g id=\"patch_102\">\n    <path clip-path=\"url(#pea7b065b23)\" d=\"M 709.799196 2450.359219 \nL 712.451077 2450.359219 \nL 712.451077 154.987586 \nL 709.799196 154.987586 \nz\n\" style=\"fill:#ff0000;\"/>\n   </g>\n   <g id=\"patch_103\">\n    <path clip-path=\"url(#pea7b065b23)\" d=\"M 50.80672 2450.359219 \nL 53.458601 2450.359219 \nL 53.458601 249.126183 \nL 50.80672 249.126183 \nz\n\" style=\"fill:#0000ff;\"/>\n   </g>\n   <g id=\"patch_104\">\n    <path clip-path=\"url(#pea7b065b23)\" d=\"M 57.436423 2450.359219 \nL 60.088304 2450.359219 \nL 60.088304 248.765995 \nL 57.436423 248.765995 \nz\n\" style=\"fill:#0000ff;\"/>\n   </g>\n   <g id=\"patch_105\">\n    <path clip-path=\"url(#pea7b065b23)\" d=\"M 64.066126 2450.359219 \nL 66.718007 2450.359219 \nL 66.718007 239.632408 \nL 64.066126 239.632408 \nz\n\" style=\"fill:#0000ff;\"/>\n   </g>\n   <g id=\"patch_106\">\n    <path clip-path=\"url(#pea7b065b23)\" d=\"M 70.695829 2450.359219 \nL 73.34771 2450.359219 \nL 73.34771 239.00535 \nL 70.695829 239.00535 \nz\n\" style=\"fill:#0000ff;\"/>\n   </g>\n   <g id=\"patch_107\">\n    <path clip-path=\"url(#pea7b065b23)\" d=\"M 77.325532 2450.359219 \nL 79.977413 2450.359219 \nL 79.977413 237.770399 \nL 77.325532 237.770399 \nz\n\" style=\"fill:#0000ff;\"/>\n   </g>\n   <g id=\"patch_108\">\n    <path clip-path=\"url(#pea7b065b23)\" d=\"M 83.955235 2450.359219 \nL 86.607116 2450.359219 \nL 86.607116 236.777997 \nL 83.955235 236.777997 \nz\n\" style=\"fill:#0000ff;\"/>\n   </g>\n   <g id=\"patch_109\">\n    <path clip-path=\"url(#pea7b065b23)\" d=\"M 90.584938 2450.359219 \nL 93.236819 2450.359219 \nL 93.236819 236.401286 \nL 90.584938 236.401286 \nz\n\" style=\"fill:#0000ff;\"/>\n   </g>\n   <g id=\"patch_110\">\n    <path clip-path=\"url(#pea7b065b23)\" d=\"M 97.214641 2450.359219 \nL 99.866522 2450.359219 \nL 99.866522 235.720563 \nL 97.214641 235.720563 \nz\n\" style=\"fill:#0000ff;\"/>\n   </g>\n   <g id=\"patch_111\">\n    <path clip-path=\"url(#pea7b065b23)\" d=\"M 103.844344 2450.359219 \nL 106.496225 2450.359219 \nL 106.496225 235.018427 \nL 103.844344 235.018427 \nz\n\" style=\"fill:#0000ff;\"/>\n   </g>\n   <g id=\"patch_112\">\n    <path clip-path=\"url(#pea7b065b23)\" d=\"M 110.474047 2450.359219 \nL 113.125928 2450.359219 \nL 113.125928 234.681502 \nL 110.474047 234.681502 \nz\n\" style=\"fill:#0000ff;\"/>\n   </g>\n   <g id=\"patch_113\">\n    <path clip-path=\"url(#pea7b065b23)\" d=\"M 117.10375 2450.359219 \nL 119.755631 2450.359219 \nL 119.755631 234.502267 \nL 117.10375 234.502267 \nz\n\" style=\"fill:#0000ff;\"/>\n   </g>\n   <g id=\"patch_114\">\n    <path clip-path=\"url(#pea7b065b23)\" d=\"M 123.733453 2450.359219 \nL 126.385334 2450.359219 \nL 126.385334 234.112734 \nL 123.733453 234.112734 \nz\n\" style=\"fill:#0000ff;\"/>\n   </g>\n   <g id=\"patch_115\">\n    <path clip-path=\"url(#pea7b065b23)\" d=\"M 130.363156 2450.359219 \nL 133.015037 2450.359219 \nL 133.015037 233.600143 \nL 130.363156 233.600143 \nz\n\" style=\"fill:#0000ff;\"/>\n   </g>\n   <g id=\"patch_116\">\n    <path clip-path=\"url(#pea7b065b23)\" d=\"M 136.992859 2450.359219 \nL 139.64474 2450.359219 \nL 139.64474 232.835486 \nL 136.992859 232.835486 \nz\n\" style=\"fill:#0000ff;\"/>\n   </g>\n   <g id=\"patch_117\">\n    <path clip-path=\"url(#pea7b065b23)\" d=\"M 143.622562 2450.359219 \nL 146.274443 2450.359219 \nL 146.274443 232.645809 \nL 143.622562 232.645809 \nz\n\" style=\"fill:#0000ff;\"/>\n   </g>\n   <g id=\"patch_118\">\n    <path clip-path=\"url(#pea7b065b23)\" d=\"M 150.252265 2450.359219 \nL 152.904146 2450.359219 \nL 152.904146 232.429828 \nL 150.252265 232.429828 \nz\n\" style=\"fill:#0000ff;\"/>\n   </g>\n   <g id=\"patch_119\">\n    <path clip-path=\"url(#pea7b065b23)\" d=\"M 156.881968 2450.359219 \nL 159.533849 2450.359219 \nL 159.533849 232.404185 \nL 156.881968 232.404185 \nz\n\" style=\"fill:#0000ff;\"/>\n   </g>\n   <g id=\"patch_120\">\n    <path clip-path=\"url(#pea7b065b23)\" d=\"M 163.511671 2450.359219 \nL 166.163552 2450.359219 \nL 166.163552 232.281523 \nL 163.511671 232.281523 \nz\n\" style=\"fill:#0000ff;\"/>\n   </g>\n   <g id=\"patch_121\">\n    <path clip-path=\"url(#pea7b065b23)\" d=\"M 170.141374 2450.359219 \nL 172.793255 2450.359219 \nL 172.793255 231.985441 \nL 170.141374 231.985441 \nz\n\" style=\"fill:#0000ff;\"/>\n   </g>\n   <g id=\"patch_122\">\n    <path clip-path=\"url(#pea7b065b23)\" d=\"M 176.771077 2450.359219 \nL 179.422958 2450.359219 \nL 179.422958 231.767874 \nL 176.771077 231.767874 \nz\n\" style=\"fill:#0000ff;\"/>\n   </g>\n   <g id=\"patch_123\">\n    <path clip-path=\"url(#pea7b065b23)\" d=\"M 183.40078 2450.359219 \nL 186.052661 2450.359219 \nL 186.052661 231.584674 \nL 183.40078 231.584674 \nz\n\" style=\"fill:#0000ff;\"/>\n   </g>\n   <g id=\"patch_124\">\n    <path clip-path=\"url(#pea7b065b23)\" d=\"M 190.030483 2450.359219 \nL 192.682364 2450.359219 \nL 192.682364 230.49208 \nL 190.030483 230.49208 \nz\n\" style=\"fill:#0000ff;\"/>\n   </g>\n   <g id=\"patch_125\">\n    <path clip-path=\"url(#pea7b065b23)\" d=\"M 196.660186 2450.359219 \nL 199.312067 2450.359219 \nL 199.312067 229.561274 \nL 196.660186 229.561274 \nz\n\" style=\"fill:#0000ff;\"/>\n   </g>\n   <g id=\"patch_126\">\n    <path clip-path=\"url(#pea7b065b23)\" d=\"M 203.289889 2450.359219 \nL 205.94177 2450.359219 \nL 205.94177 229.359039 \nL 203.289889 229.359039 \nz\n\" style=\"fill:#0000ff;\"/>\n   </g>\n   <g id=\"patch_127\">\n    <path clip-path=\"url(#pea7b065b23)\" d=\"M 209.919592 2450.359219 \nL 212.571473 2450.359219 \nL 212.571473 228.760267 \nL 209.919592 228.760267 \nz\n\" style=\"fill:#0000ff;\"/>\n   </g>\n   <g id=\"patch_128\">\n    <path clip-path=\"url(#pea7b065b23)\" d=\"M 216.549295 2450.359219 \nL 219.201176 2450.359219 \nL 219.201176 228.488771 \nL 216.549295 228.488771 \nz\n\" style=\"fill:#0000ff;\"/>\n   </g>\n   <g id=\"patch_129\">\n    <path clip-path=\"url(#pea7b065b23)\" d=\"M 223.178998 2450.359219 \nL 225.830879 2450.359219 \nL 225.830879 227.940756 \nL 223.178998 227.940756 \nz\n\" style=\"fill:#0000ff;\"/>\n   </g>\n   <g id=\"patch_130\">\n    <path clip-path=\"url(#pea7b065b23)\" d=\"M 229.8087 2450.359219 \nL 232.460582 2450.359219 \nL 232.460582 226.604688 \nL 229.8087 226.604688 \nz\n\" style=\"fill:#0000ff;\"/>\n   </g>\n   <g id=\"patch_131\">\n    <path clip-path=\"url(#pea7b065b23)\" d=\"M 236.438403 2450.359219 \nL 239.090285 2450.359219 \nL 239.090285 226.154485 \nL 236.438403 226.154485 \nz\n\" style=\"fill:#0000ff;\"/>\n   </g>\n   <g id=\"patch_132\">\n    <path clip-path=\"url(#pea7b065b23)\" d=\"M 243.068106 2450.359219 \nL 245.719988 2450.359219 \nL 245.719988 226.136509 \nL 243.068106 226.136509 \nz\n\" style=\"fill:#0000ff;\"/>\n   </g>\n   <g id=\"patch_133\">\n    <path clip-path=\"url(#pea7b065b23)\" d=\"M 249.697809 2450.359219 \nL 252.349691 2450.359219 \nL 252.349691 225.46451 \nL 249.697809 225.46451 \nz\n\" style=\"fill:#0000ff;\"/>\n   </g>\n   <g id=\"patch_134\">\n    <path clip-path=\"url(#pea7b065b23)\" d=\"M 256.327512 2450.359219 \nL 258.979394 2450.359219 \nL 258.979394 225.452878 \nL 256.327512 225.452878 \nz\n\" style=\"fill:#0000ff;\"/>\n   </g>\n   <g id=\"patch_135\">\n    <path clip-path=\"url(#pea7b065b23)\" d=\"M 262.957215 2450.359219 \nL 265.609097 2450.359219 \nL 265.609097 224.04041 \nL 262.957215 224.04041 \nz\n\" style=\"fill:#0000ff;\"/>\n   </g>\n   <g id=\"patch_136\">\n    <path clip-path=\"url(#pea7b065b23)\" d=\"M 269.586918 2450.359219 \nL 272.2388 2450.359219 \nL 272.2388 223.985424 \nL 269.586918 223.985424 \nz\n\" style=\"fill:#0000ff;\"/>\n   </g>\n   <g id=\"patch_137\">\n    <path clip-path=\"url(#pea7b065b23)\" d=\"M 276.216621 2450.359219 \nL 278.868502 2450.359219 \nL 278.868502 223.863026 \nL 276.216621 223.863026 \nz\n\" style=\"fill:#0000ff;\"/>\n   </g>\n   <g id=\"patch_138\">\n    <path clip-path=\"url(#pea7b065b23)\" d=\"M 282.846324 2450.359219 \nL 285.498205 2450.359219 \nL 285.498205 223.486844 \nL 282.846324 223.486844 \nz\n\" style=\"fill:#0000ff;\"/>\n   </g>\n   <g id=\"patch_139\">\n    <path clip-path=\"url(#pea7b065b23)\" d=\"M 289.476027 2450.359219 \nL 292.127908 2450.359219 \nL 292.127908 223.390882 \nL 289.476027 223.390882 \nz\n\" style=\"fill:#0000ff;\"/>\n   </g>\n   <g id=\"patch_140\">\n    <path clip-path=\"url(#pea7b065b23)\" d=\"M 296.10573 2450.359219 \nL 298.757611 2450.359219 \nL 298.757611 223.256059 \nL 296.10573 223.256059 \nz\n\" style=\"fill:#0000ff;\"/>\n   </g>\n   <g id=\"patch_141\">\n    <path clip-path=\"url(#pea7b065b23)\" d=\"M 302.735433 2450.359219 \nL 305.387314 2450.359219 \nL 305.387314 223.071536 \nL 302.735433 223.071536 \nz\n\" style=\"fill:#0000ff;\"/>\n   </g>\n   <g id=\"patch_142\">\n    <path clip-path=\"url(#pea7b065b23)\" d=\"M 309.365136 2450.359219 \nL 312.017017 2450.359219 \nL 312.017017 222.55075 \nL 309.365136 222.55075 \nz\n\" style=\"fill:#0000ff;\"/>\n   </g>\n   <g id=\"patch_143\">\n    <path clip-path=\"url(#pea7b065b23)\" d=\"M 315.994839 2450.359219 \nL 318.64672 2450.359219 \nL 318.64672 222.47673 \nL 315.994839 222.47673 \nz\n\" style=\"fill:#0000ff;\"/>\n   </g>\n   <g id=\"patch_144\">\n    <path clip-path=\"url(#pea7b065b23)\" d=\"M 322.624542 2450.359219 \nL 325.276423 2450.359219 \nL 325.276423 222.271852 \nL 322.624542 222.271852 \nz\n\" style=\"fill:#0000ff;\"/>\n   </g>\n   <g id=\"patch_145\">\n    <path clip-path=\"url(#pea7b065b23)\" d=\"M 329.254245 2450.359219 \nL 331.906126 2450.359219 \nL 331.906126 221.959116 \nL 329.254245 221.959116 \nz\n\" style=\"fill:#0000ff;\"/>\n   </g>\n   <g id=\"patch_146\">\n    <path clip-path=\"url(#pea7b065b23)\" d=\"M 335.883948 2450.359219 \nL 338.535829 2450.359219 \nL 338.535829 221.858924 \nL 335.883948 221.858924 \nz\n\" style=\"fill:#0000ff;\"/>\n   </g>\n   <g id=\"patch_147\">\n    <path clip-path=\"url(#pea7b065b23)\" d=\"M 342.513651 2450.359219 \nL 345.165532 2450.359219 \nL 345.165532 221.577382 \nL 342.513651 221.577382 \nz\n\" style=\"fill:#0000ff;\"/>\n   </g>\n   <g id=\"patch_148\">\n    <path clip-path=\"url(#pea7b065b23)\" d=\"M 349.143354 2450.359219 \nL 351.795235 2450.359219 \nL 351.795235 221.234509 \nL 349.143354 221.234509 \nz\n\" style=\"fill:#0000ff;\"/>\n   </g>\n   <g id=\"patch_149\">\n    <path clip-path=\"url(#pea7b065b23)\" d=\"M 355.773057 2450.359219 \nL 358.424938 2450.359219 \nL 358.424938 221.136696 \nL 355.773057 221.136696 \nz\n\" style=\"fill:#0000ff;\"/>\n   </g>\n   <g id=\"patch_150\">\n    <path clip-path=\"url(#pea7b065b23)\" d=\"M 362.40276 2450.359219 \nL 365.054641 2450.359219 \nL 365.054641 221.117663 \nL 362.40276 221.117663 \nz\n\" style=\"fill:#0000ff;\"/>\n   </g>\n   <g id=\"patch_151\">\n    <path clip-path=\"url(#pea7b065b23)\" d=\"M 369.032463 2450.359219 \nL 371.684344 2450.359219 \nL 371.684344 221.033068 \nL 369.032463 221.033068 \nz\n\" style=\"fill:#0000ff;\"/>\n   </g>\n   <g id=\"patch_152\">\n    <path clip-path=\"url(#pea7b065b23)\" d=\"M 375.662166 2450.359219 \nL 378.314047 2450.359219 \nL 378.314047 220.785893 \nL 375.662166 220.785893 \nz\n\" style=\"fill:#0000ff;\"/>\n   </g>\n   <g id=\"patch_153\">\n    <path clip-path=\"url(#pea7b065b23)\" d=\"M 382.291869 2450.359219 \nL 384.94375 2450.359219 \nL 384.94375 220.740687 \nL 382.291869 220.740687 \nz\n\" style=\"fill:#0000ff;\"/>\n   </g>\n   <g id=\"patch_154\">\n    <path clip-path=\"url(#pea7b065b23)\" d=\"M 388.921572 2450.359219 \nL 391.573453 2450.359219 \nL 391.573453 220.353138 \nL 388.921572 220.353138 \nz\n\" style=\"fill:#0000ff;\"/>\n   </g>\n   <g id=\"patch_155\">\n    <path clip-path=\"url(#pea7b065b23)\" d=\"M 395.551275 2450.359219 \nL 398.203156 2450.359219 \nL 398.203156 220.207212 \nL 395.551275 220.207212 \nz\n\" style=\"fill:#0000ff;\"/>\n   </g>\n   <g id=\"patch_156\">\n    <path clip-path=\"url(#pea7b065b23)\" d=\"M 402.180978 2450.359219 \nL 404.832859 2450.359219 \nL 404.832859 219.457755 \nL 402.180978 219.457755 \nz\n\" style=\"fill:#0000ff;\"/>\n   </g>\n   <g id=\"patch_157\">\n    <path clip-path=\"url(#pea7b065b23)\" d=\"M 408.810681 2450.359219 \nL 411.462562 2450.359219 \nL 411.462562 219.398275 \nL 408.810681 219.398275 \nz\n\" style=\"fill:#0000ff;\"/>\n   </g>\n   <g id=\"patch_158\">\n    <path clip-path=\"url(#pea7b065b23)\" d=\"M 415.440384 2450.359219 \nL 418.092265 2450.359219 \nL 418.092265 219.285394 \nL 415.440384 219.285394 \nz\n\" style=\"fill:#0000ff;\"/>\n   </g>\n   <g id=\"patch_159\">\n    <path clip-path=\"url(#pea7b065b23)\" d=\"M 422.070087 2450.359219 \nL 424.721968 2450.359219 \nL 424.721968 218.995128 \nL 422.070087 218.995128 \nz\n\" style=\"fill:#0000ff;\"/>\n   </g>\n   <g id=\"patch_160\">\n    <path clip-path=\"url(#pea7b065b23)\" d=\"M 428.69979 2450.359219 \nL 431.351671 2450.359219 \nL 431.351671 218.962612 \nL 428.69979 218.962612 \nz\n\" style=\"fill:#0000ff;\"/>\n   </g>\n   <g id=\"patch_161\">\n    <path clip-path=\"url(#pea7b065b23)\" d=\"M 435.329493 2450.359219 \nL 437.981374 2450.359219 \nL 437.981374 217.913373 \nL 435.329493 217.913373 \nz\n\" style=\"fill:#0000ff;\"/>\n   </g>\n   <g id=\"patch_162\">\n    <path clip-path=\"url(#pea7b065b23)\" d=\"M 441.959196 2450.359219 \nL 444.611077 2450.359219 \nL 444.611077 217.863145 \nL 441.959196 217.863145 \nz\n\" style=\"fill:#0000ff;\"/>\n   </g>\n   <g id=\"patch_163\">\n    <path clip-path=\"url(#pea7b065b23)\" d=\"M 448.588899 2450.359219 \nL 451.24078 2450.359219 \nL 451.24078 217.810802 \nL 448.588899 217.810802 \nz\n\" style=\"fill:#0000ff;\"/>\n   </g>\n   <g id=\"patch_164\">\n    <path clip-path=\"url(#pea7b065b23)\" d=\"M 455.218601 2450.359219 \nL 457.870483 2450.359219 \nL 457.870483 217.683645 \nL 455.218601 217.683645 \nz\n\" style=\"fill:#0000ff;\"/>\n   </g>\n   <g id=\"patch_165\">\n    <path clip-path=\"url(#pea7b065b23)\" d=\"M 461.848304 2450.359219 \nL 464.500186 2450.359219 \nL 464.500186 217.493307 \nL 461.848304 217.493307 \nz\n\" style=\"fill:#0000ff;\"/>\n   </g>\n   <g id=\"patch_166\">\n    <path clip-path=\"url(#pea7b065b23)\" d=\"M 468.478007 2450.359219 \nL 471.129889 2450.359219 \nL 471.129889 216.836376 \nL 468.478007 216.836376 \nz\n\" style=\"fill:#0000ff;\"/>\n   </g>\n   <g id=\"patch_167\">\n    <path clip-path=\"url(#pea7b065b23)\" d=\"M 475.10771 2450.359219 \nL 477.759592 2450.359219 \nL 477.759592 216.618281 \nL 475.10771 216.618281 \nz\n\" style=\"fill:#0000ff;\"/>\n   </g>\n   <g id=\"patch_168\">\n    <path clip-path=\"url(#pea7b065b23)\" d=\"M 481.737413 2450.359219 \nL 484.389295 2450.359219 \nL 484.389295 216.395162 \nL 481.737413 216.395162 \nz\n\" style=\"fill:#0000ff;\"/>\n   </g>\n   <g id=\"patch_169\">\n    <path clip-path=\"url(#pea7b065b23)\" d=\"M 488.367116 2450.359219 \nL 491.018998 2450.359219 \nL 491.018998 216.372163 \nL 488.367116 216.372163 \nz\n\" style=\"fill:#0000ff;\"/>\n   </g>\n   <g id=\"patch_170\">\n    <path clip-path=\"url(#pea7b065b23)\" d=\"M 494.996819 2450.359219 \nL 497.6487 2450.359219 \nL 497.6487 216.273028 \nL 494.996819 216.273028 \nz\n\" style=\"fill:#0000ff;\"/>\n   </g>\n   <g id=\"patch_171\">\n    <path clip-path=\"url(#pea7b065b23)\" d=\"M 501.626522 2450.359219 \nL 504.278403 2450.359219 \nL 504.278403 216.155124 \nL 501.626522 216.155124 \nz\n\" style=\"fill:#0000ff;\"/>\n   </g>\n   <g id=\"patch_172\">\n    <path clip-path=\"url(#pea7b065b23)\" d=\"M 508.256225 2450.359219 \nL 510.908106 2450.359219 \nL 510.908106 215.929362 \nL 508.256225 215.929362 \nz\n\" style=\"fill:#0000ff;\"/>\n   </g>\n   <g id=\"patch_173\">\n    <path clip-path=\"url(#pea7b065b23)\" d=\"M 514.885928 2450.359219 \nL 517.537809 2450.359219 \nL 517.537809 215.828113 \nL 514.885928 215.828113 \nz\n\" style=\"fill:#0000ff;\"/>\n   </g>\n   <g id=\"patch_174\">\n    <path clip-path=\"url(#pea7b065b23)\" d=\"M 521.515631 2450.359219 \nL 524.167512 2450.359219 \nL 524.167512 215.824412 \nL 521.515631 215.824412 \nz\n\" style=\"fill:#0000ff;\"/>\n   </g>\n   <g id=\"patch_175\">\n    <path clip-path=\"url(#pea7b065b23)\" d=\"M 528.145334 2450.359219 \nL 530.797215 2450.359219 \nL 530.797215 215.445057 \nL 528.145334 215.445057 \nz\n\" style=\"fill:#0000ff;\"/>\n   </g>\n   <g id=\"patch_176\">\n    <path clip-path=\"url(#pea7b065b23)\" d=\"M 534.775037 2450.359219 \nL 537.426918 2450.359219 \nL 537.426918 215.314464 \nL 534.775037 215.314464 \nz\n\" style=\"fill:#0000ff;\"/>\n   </g>\n   <g id=\"patch_177\">\n    <path clip-path=\"url(#pea7b065b23)\" d=\"M 541.40474 2450.359219 \nL 544.056621 2450.359219 \nL 544.056621 215.304154 \nL 541.40474 215.304154 \nz\n\" style=\"fill:#0000ff;\"/>\n   </g>\n   <g id=\"patch_178\">\n    <path clip-path=\"url(#pea7b065b23)\" d=\"M 548.034443 2450.359219 \nL 550.686324 2450.359219 \nL 550.686324 215.194446 \nL 548.034443 215.194446 \nz\n\" style=\"fill:#0000ff;\"/>\n   </g>\n   <g id=\"patch_179\">\n    <path clip-path=\"url(#pea7b065b23)\" d=\"M 554.664146 2450.359219 \nL 557.316027 2450.359219 \nL 557.316027 214.978729 \nL 554.664146 214.978729 \nz\n\" style=\"fill:#0000ff;\"/>\n   </g>\n   <g id=\"patch_180\">\n    <path clip-path=\"url(#pea7b065b23)\" d=\"M 561.293849 2450.359219 \nL 563.94573 2450.359219 \nL 563.94573 214.700359 \nL 561.293849 214.700359 \nz\n\" style=\"fill:#0000ff;\"/>\n   </g>\n   <g id=\"patch_181\">\n    <path clip-path=\"url(#pea7b065b23)\" d=\"M 567.923552 2450.359219 \nL 570.575433 2450.359219 \nL 570.575433 214.074094 \nL 567.923552 214.074094 \nz\n\" style=\"fill:#0000ff;\"/>\n   </g>\n   <g id=\"patch_182\">\n    <path clip-path=\"url(#pea7b065b23)\" d=\"M 574.553255 2450.359219 \nL 577.205136 2450.359219 \nL 577.205136 213.69659 \nL 574.553255 213.69659 \nz\n\" style=\"fill:#0000ff;\"/>\n   </g>\n   <g id=\"patch_183\">\n    <path clip-path=\"url(#pea7b065b23)\" d=\"M 581.182958 2450.359219 \nL 583.834839 2450.359219 \nL 583.834839 213.001856 \nL 581.182958 213.001856 \nz\n\" style=\"fill:#0000ff;\"/>\n   </g>\n   <g id=\"patch_184\">\n    <path clip-path=\"url(#pea7b065b23)\" d=\"M 587.812661 2450.359219 \nL 590.464542 2450.359219 \nL 590.464542 212.609019 \nL 587.812661 212.609019 \nz\n\" style=\"fill:#0000ff;\"/>\n   </g>\n   <g id=\"patch_185\">\n    <path clip-path=\"url(#pea7b065b23)\" d=\"M 594.442364 2450.359219 \nL 597.094245 2450.359219 \nL 597.094245 211.839736 \nL 594.442364 211.839736 \nz\n\" style=\"fill:#0000ff;\"/>\n   </g>\n   <g id=\"patch_186\">\n    <path clip-path=\"url(#pea7b065b23)\" d=\"M 601.072067 2450.359219 \nL 603.723948 2450.359219 \nL 603.723948 211.832598 \nL 601.072067 211.832598 \nz\n\" style=\"fill:#0000ff;\"/>\n   </g>\n   <g id=\"patch_187\">\n    <path clip-path=\"url(#pea7b065b23)\" d=\"M 607.70177 2450.359219 \nL 610.353651 2450.359219 \nL 610.353651 211.360454 \nL 607.70177 211.360454 \nz\n\" style=\"fill:#0000ff;\"/>\n   </g>\n   <g id=\"patch_188\">\n    <path clip-path=\"url(#pea7b065b23)\" d=\"M 614.331473 2450.359219 \nL 616.983354 2450.359219 \nL 616.983354 210.545437 \nL 614.331473 210.545437 \nz\n\" style=\"fill:#0000ff;\"/>\n   </g>\n   <g id=\"patch_189\">\n    <path clip-path=\"url(#pea7b065b23)\" d=\"M 620.961176 2450.359219 \nL 623.613057 2450.359219 \nL 623.613057 210.456348 \nL 620.961176 210.456348 \nz\n\" style=\"fill:#0000ff;\"/>\n   </g>\n   <g id=\"patch_190\">\n    <path clip-path=\"url(#pea7b065b23)\" d=\"M 627.590879 2450.359219 \nL 630.24276 2450.359219 \nL 630.24276 210.217896 \nL 627.590879 210.217896 \nz\n\" style=\"fill:#0000ff;\"/>\n   </g>\n   <g id=\"patch_191\">\n    <path clip-path=\"url(#pea7b065b23)\" d=\"M 634.220582 2450.359219 \nL 636.872463 2450.359219 \nL 636.872463 209.972043 \nL 634.220582 209.972043 \nz\n\" style=\"fill:#0000ff;\"/>\n   </g>\n   <g id=\"patch_192\">\n    <path clip-path=\"url(#pea7b065b23)\" d=\"M 640.850285 2450.359219 \nL 643.502166 2450.359219 \nL 643.502166 209.483773 \nL 640.850285 209.483773 \nz\n\" style=\"fill:#0000ff;\"/>\n   </g>\n   <g id=\"patch_193\">\n    <path clip-path=\"url(#pea7b065b23)\" d=\"M 647.479988 2450.359219 \nL 650.131869 2450.359219 \nL 650.131869 208.988629 \nL 647.479988 208.988629 \nz\n\" style=\"fill:#0000ff;\"/>\n   </g>\n   <g id=\"patch_194\">\n    <path clip-path=\"url(#pea7b065b23)\" d=\"M 654.109691 2450.359219 \nL 656.761572 2450.359219 \nL 656.761572 207.479407 \nL 654.109691 207.479407 \nz\n\" style=\"fill:#0000ff;\"/>\n   </g>\n   <g id=\"patch_195\">\n    <path clip-path=\"url(#pea7b065b23)\" d=\"M 660.739394 2450.359219 \nL 663.391275 2450.359219 \nL 663.391275 207.201037 \nL 660.739394 207.201037 \nz\n\" style=\"fill:#0000ff;\"/>\n   </g>\n   <g id=\"patch_196\">\n    <path clip-path=\"url(#pea7b065b23)\" d=\"M 667.369097 2450.359219 \nL 670.020978 2450.359219 \nL 670.020978 206.872175 \nL 667.369097 206.872175 \nz\n\" style=\"fill:#0000ff;\"/>\n   </g>\n   <g id=\"patch_197\">\n    <path clip-path=\"url(#pea7b065b23)\" d=\"M 673.9988 2450.359219 \nL 676.650681 2450.359219 \nL 676.650681 206.672849 \nL 673.9988 206.672849 \nz\n\" style=\"fill:#0000ff;\"/>\n   </g>\n   <g id=\"patch_198\">\n    <path clip-path=\"url(#pea7b065b23)\" d=\"M 680.628502 2450.359219 \nL 683.280384 2450.359219 \nL 683.280384 204.964564 \nL 680.628502 204.964564 \nz\n\" style=\"fill:#0000ff;\"/>\n   </g>\n   <g id=\"patch_199\">\n    <path clip-path=\"url(#pea7b065b23)\" d=\"M 687.258205 2450.359219 \nL 689.910087 2450.359219 \nL 689.910087 203.47649 \nL 687.258205 203.47649 \nz\n\" style=\"fill:#0000ff;\"/>\n   </g>\n   <g id=\"patch_200\">\n    <path clip-path=\"url(#pea7b065b23)\" d=\"M 693.887908 2450.359219 \nL 696.53979 2450.359219 \nL 696.53979 203.208959 \nL 693.887908 203.208959 \nz\n\" style=\"fill:#0000ff;\"/>\n   </g>\n   <g id=\"patch_201\">\n    <path clip-path=\"url(#pea7b065b23)\" d=\"M 700.517611 2450.359219 \nL 703.169493 2450.359219 \nL 703.169493 201.832444 \nL 700.517611 201.832444 \nz\n\" style=\"fill:#0000ff;\"/>\n   </g>\n   <g id=\"patch_202\">\n    <path clip-path=\"url(#pea7b065b23)\" d=\"M 707.147314 2450.359219 \nL 709.799196 2450.359219 \nL 709.799196 200.897408 \nL 707.147314 200.897408 \nz\n\" style=\"fill:#0000ff;\"/>\n   </g>\n   <g id=\"matplotlib.axis_1\">\n    <g id=\"xtick_1\">\n     <g id=\"line2d_1\">\n      <path clip-path=\"url(#pea7b065b23)\" d=\"M 53.458601 343.639219 \nL 53.458601 10.999219 \n\" style=\"fill:none;stroke:#b0b0b0;stroke-linecap:square;stroke-width:0.8;\"/>\n     </g>\n     <g id=\"line2d_2\">\n      <defs>\n       <path d=\"M 0 0 \nL 0 3.5 \n\" id=\"me1e03d1d79\" style=\"stroke:#000000;stroke-width:0.8;\"/>\n      </defs>\n      <g>\n       <use style=\"stroke:#000000;stroke-width:0.8;\" x=\"53.458601\" xlink:href=\"#me1e03d1d79\" y=\"343.639219\"/>\n      </g>\n     </g>\n     <g id=\"text_1\">\n      <!-- 0 -->\n      <defs>\n       <path d=\"M 31.78125 66.40625 \nQ 24.171875 66.40625 20.328125 58.90625 \nQ 16.5 51.421875 16.5 36.375 \nQ 16.5 21.390625 20.328125 13.890625 \nQ 24.171875 6.390625 31.78125 6.390625 \nQ 39.453125 6.390625 43.28125 13.890625 \nQ 47.125 21.390625 47.125 36.375 \nQ 47.125 51.421875 43.28125 58.90625 \nQ 39.453125 66.40625 31.78125 66.40625 \nz\nM 31.78125 74.21875 \nQ 44.046875 74.21875 50.515625 64.515625 \nQ 56.984375 54.828125 56.984375 36.375 \nQ 56.984375 17.96875 50.515625 8.265625 \nQ 44.046875 -1.421875 31.78125 -1.421875 \nQ 19.53125 -1.421875 13.0625 8.265625 \nQ 6.59375 17.96875 6.59375 36.375 \nQ 6.59375 54.828125 13.0625 64.515625 \nQ 19.53125 74.21875 31.78125 74.21875 \nz\n\" id=\"DejaVuSans-48\"/>\n      </defs>\n      <g transform=\"translate(50.277351 358.237656)scale(0.1 -0.1)\">\n       <use xlink:href=\"#DejaVuSans-48\"/>\n      </g>\n     </g>\n    </g>\n    <g id=\"xtick_2\">\n     <g id=\"line2d_3\">\n      <path clip-path=\"url(#pea7b065b23)\" d=\"M 186.052661 343.639219 \nL 186.052661 10.999219 \n\" style=\"fill:none;stroke:#b0b0b0;stroke-linecap:square;stroke-width:0.8;\"/>\n     </g>\n     <g id=\"line2d_4\">\n      <g>\n       <use style=\"stroke:#000000;stroke-width:0.8;\" x=\"186.052661\" xlink:href=\"#me1e03d1d79\" y=\"343.639219\"/>\n      </g>\n     </g>\n     <g id=\"text_2\">\n      <!-- 20 -->\n      <defs>\n       <path d=\"M 19.1875 8.296875 \nL 53.609375 8.296875 \nL 53.609375 0 \nL 7.328125 0 \nL 7.328125 8.296875 \nQ 12.9375 14.109375 22.625 23.890625 \nQ 32.328125 33.6875 34.8125 36.53125 \nQ 39.546875 41.84375 41.421875 45.53125 \nQ 43.3125 49.21875 43.3125 52.78125 \nQ 43.3125 58.59375 39.234375 62.25 \nQ 35.15625 65.921875 28.609375 65.921875 \nQ 23.96875 65.921875 18.8125 64.3125 \nQ 13.671875 62.703125 7.8125 59.421875 \nL 7.8125 69.390625 \nQ 13.765625 71.78125 18.9375 73 \nQ 24.125 74.21875 28.421875 74.21875 \nQ 39.75 74.21875 46.484375 68.546875 \nQ 53.21875 62.890625 53.21875 53.421875 \nQ 53.21875 48.921875 51.53125 44.890625 \nQ 49.859375 40.875 45.40625 35.40625 \nQ 44.1875 33.984375 37.640625 27.21875 \nQ 31.109375 20.453125 19.1875 8.296875 \nz\n\" id=\"DejaVuSans-50\"/>\n      </defs>\n      <g transform=\"translate(179.690161 358.237656)scale(0.1 -0.1)\">\n       <use xlink:href=\"#DejaVuSans-50\"/>\n       <use x=\"63.623047\" xlink:href=\"#DejaVuSans-48\"/>\n      </g>\n     </g>\n    </g>\n    <g id=\"xtick_3\">\n     <g id=\"line2d_5\">\n      <path clip-path=\"url(#pea7b065b23)\" d=\"M 318.64672 343.639219 \nL 318.64672 10.999219 \n\" style=\"fill:none;stroke:#b0b0b0;stroke-linecap:square;stroke-width:0.8;\"/>\n     </g>\n     <g id=\"line2d_6\">\n      <g>\n       <use style=\"stroke:#000000;stroke-width:0.8;\" x=\"318.64672\" xlink:href=\"#me1e03d1d79\" y=\"343.639219\"/>\n      </g>\n     </g>\n     <g id=\"text_3\">\n      <!-- 40 -->\n      <defs>\n       <path d=\"M 37.796875 64.3125 \nL 12.890625 25.390625 \nL 37.796875 25.390625 \nz\nM 35.203125 72.90625 \nL 47.609375 72.90625 \nL 47.609375 25.390625 \nL 58.015625 25.390625 \nL 58.015625 17.1875 \nL 47.609375 17.1875 \nL 47.609375 0 \nL 37.796875 0 \nL 37.796875 17.1875 \nL 4.890625 17.1875 \nL 4.890625 26.703125 \nz\n\" id=\"DejaVuSans-52\"/>\n      </defs>\n      <g transform=\"translate(312.28422 358.237656)scale(0.1 -0.1)\">\n       <use xlink:href=\"#DejaVuSans-52\"/>\n       <use x=\"63.623047\" xlink:href=\"#DejaVuSans-48\"/>\n      </g>\n     </g>\n    </g>\n    <g id=\"xtick_4\">\n     <g id=\"line2d_7\">\n      <path clip-path=\"url(#pea7b065b23)\" d=\"M 451.24078 343.639219 \nL 451.24078 10.999219 \n\" style=\"fill:none;stroke:#b0b0b0;stroke-linecap:square;stroke-width:0.8;\"/>\n     </g>\n     <g id=\"line2d_8\">\n      <g>\n       <use style=\"stroke:#000000;stroke-width:0.8;\" x=\"451.24078\" xlink:href=\"#me1e03d1d79\" y=\"343.639219\"/>\n      </g>\n     </g>\n     <g id=\"text_4\">\n      <!-- 60 -->\n      <defs>\n       <path d=\"M 33.015625 40.375 \nQ 26.375 40.375 22.484375 35.828125 \nQ 18.609375 31.296875 18.609375 23.390625 \nQ 18.609375 15.53125 22.484375 10.953125 \nQ 26.375 6.390625 33.015625 6.390625 \nQ 39.65625 6.390625 43.53125 10.953125 \nQ 47.40625 15.53125 47.40625 23.390625 \nQ 47.40625 31.296875 43.53125 35.828125 \nQ 39.65625 40.375 33.015625 40.375 \nz\nM 52.59375 71.296875 \nL 52.59375 62.3125 \nQ 48.875 64.0625 45.09375 64.984375 \nQ 41.3125 65.921875 37.59375 65.921875 \nQ 27.828125 65.921875 22.671875 59.328125 \nQ 17.53125 52.734375 16.796875 39.40625 \nQ 19.671875 43.65625 24.015625 45.921875 \nQ 28.375 48.1875 33.59375 48.1875 \nQ 44.578125 48.1875 50.953125 41.515625 \nQ 57.328125 34.859375 57.328125 23.390625 \nQ 57.328125 12.15625 50.6875 5.359375 \nQ 44.046875 -1.421875 33.015625 -1.421875 \nQ 20.359375 -1.421875 13.671875 8.265625 \nQ 6.984375 17.96875 6.984375 36.375 \nQ 6.984375 53.65625 15.1875 63.9375 \nQ 23.390625 74.21875 37.203125 74.21875 \nQ 40.921875 74.21875 44.703125 73.484375 \nQ 48.484375 72.75 52.59375 71.296875 \nz\n\" id=\"DejaVuSans-54\"/>\n      </defs>\n      <g transform=\"translate(444.87828 358.237656)scale(0.1 -0.1)\">\n       <use xlink:href=\"#DejaVuSans-54\"/>\n       <use x=\"63.623047\" xlink:href=\"#DejaVuSans-48\"/>\n      </g>\n     </g>\n    </g>\n    <g id=\"xtick_5\">\n     <g id=\"line2d_9\">\n      <path clip-path=\"url(#pea7b065b23)\" d=\"M 583.834839 343.639219 \nL 583.834839 10.999219 \n\" style=\"fill:none;stroke:#b0b0b0;stroke-linecap:square;stroke-width:0.8;\"/>\n     </g>\n     <g id=\"line2d_10\">\n      <g>\n       <use style=\"stroke:#000000;stroke-width:0.8;\" x=\"583.834839\" xlink:href=\"#me1e03d1d79\" y=\"343.639219\"/>\n      </g>\n     </g>\n     <g id=\"text_5\">\n      <!-- 80 -->\n      <defs>\n       <path d=\"M 31.78125 34.625 \nQ 24.75 34.625 20.71875 30.859375 \nQ 16.703125 27.09375 16.703125 20.515625 \nQ 16.703125 13.921875 20.71875 10.15625 \nQ 24.75 6.390625 31.78125 6.390625 \nQ 38.8125 6.390625 42.859375 10.171875 \nQ 46.921875 13.96875 46.921875 20.515625 \nQ 46.921875 27.09375 42.890625 30.859375 \nQ 38.875 34.625 31.78125 34.625 \nz\nM 21.921875 38.8125 \nQ 15.578125 40.375 12.03125 44.71875 \nQ 8.5 49.078125 8.5 55.328125 \nQ 8.5 64.0625 14.71875 69.140625 \nQ 20.953125 74.21875 31.78125 74.21875 \nQ 42.671875 74.21875 48.875 69.140625 \nQ 55.078125 64.0625 55.078125 55.328125 \nQ 55.078125 49.078125 51.53125 44.71875 \nQ 48 40.375 41.703125 38.8125 \nQ 48.828125 37.15625 52.796875 32.3125 \nQ 56.78125 27.484375 56.78125 20.515625 \nQ 56.78125 9.90625 50.3125 4.234375 \nQ 43.84375 -1.421875 31.78125 -1.421875 \nQ 19.734375 -1.421875 13.25 4.234375 \nQ 6.78125 9.90625 6.78125 20.515625 \nQ 6.78125 27.484375 10.78125 32.3125 \nQ 14.796875 37.15625 21.921875 38.8125 \nz\nM 18.3125 54.390625 \nQ 18.3125 48.734375 21.84375 45.5625 \nQ 25.390625 42.390625 31.78125 42.390625 \nQ 38.140625 42.390625 41.71875 45.5625 \nQ 45.3125 48.734375 45.3125 54.390625 \nQ 45.3125 60.0625 41.71875 63.234375 \nQ 38.140625 66.40625 31.78125 66.40625 \nQ 25.390625 66.40625 21.84375 63.234375 \nQ 18.3125 60.0625 18.3125 54.390625 \nz\n\" id=\"DejaVuSans-56\"/>\n      </defs>\n      <g transform=\"translate(577.472339 358.237656)scale(0.1 -0.1)\">\n       <use xlink:href=\"#DejaVuSans-56\"/>\n       <use x=\"63.623047\" xlink:href=\"#DejaVuSans-48\"/>\n      </g>\n     </g>\n    </g>\n    <g id=\"xtick_6\">\n     <g id=\"line2d_11\">\n      <path clip-path=\"url(#pea7b065b23)\" d=\"M 716.428899 343.639219 \nL 716.428899 10.999219 \n\" style=\"fill:none;stroke:#b0b0b0;stroke-linecap:square;stroke-width:0.8;\"/>\n     </g>\n     <g id=\"line2d_12\">\n      <g>\n       <use style=\"stroke:#000000;stroke-width:0.8;\" x=\"716.428899\" xlink:href=\"#me1e03d1d79\" y=\"343.639219\"/>\n      </g>\n     </g>\n     <g id=\"text_6\">\n      <!-- 100 -->\n      <defs>\n       <path d=\"M 12.40625 8.296875 \nL 28.515625 8.296875 \nL 28.515625 63.921875 \nL 10.984375 60.40625 \nL 10.984375 69.390625 \nL 28.421875 72.90625 \nL 38.28125 72.90625 \nL 38.28125 8.296875 \nL 54.390625 8.296875 \nL 54.390625 0 \nL 12.40625 0 \nz\n\" id=\"DejaVuSans-49\"/>\n      </defs>\n      <g transform=\"translate(706.885149 358.237656)scale(0.1 -0.1)\">\n       <use xlink:href=\"#DejaVuSans-49\"/>\n       <use x=\"63.623047\" xlink:href=\"#DejaVuSans-48\"/>\n       <use x=\"127.246094\" xlink:href=\"#DejaVuSans-48\"/>\n      </g>\n     </g>\n    </g>\n    <g id=\"text_7\">\n     <!-- usefulness -->\n     <defs>\n      <path d=\"M 8.5 21.578125 \nL 8.5 54.6875 \nL 17.484375 54.6875 \nL 17.484375 21.921875 \nQ 17.484375 14.15625 20.5 10.265625 \nQ 23.53125 6.390625 29.59375 6.390625 \nQ 36.859375 6.390625 41.078125 11.03125 \nQ 45.3125 15.671875 45.3125 23.6875 \nL 45.3125 54.6875 \nL 54.296875 54.6875 \nL 54.296875 0 \nL 45.3125 0 \nL 45.3125 8.40625 \nQ 42.046875 3.421875 37.71875 1 \nQ 33.40625 -1.421875 27.6875 -1.421875 \nQ 18.265625 -1.421875 13.375 4.4375 \nQ 8.5 10.296875 8.5 21.578125 \nz\nM 31.109375 56 \nz\n\" id=\"DejaVuSans-117\"/>\n      <path d=\"M 44.28125 53.078125 \nL 44.28125 44.578125 \nQ 40.484375 46.53125 36.375 47.5 \nQ 32.28125 48.484375 27.875 48.484375 \nQ 21.1875 48.484375 17.84375 46.4375 \nQ 14.5 44.390625 14.5 40.28125 \nQ 14.5 37.15625 16.890625 35.375 \nQ 19.28125 33.59375 26.515625 31.984375 \nL 29.59375 31.296875 \nQ 39.15625 29.25 43.1875 25.515625 \nQ 47.21875 21.78125 47.21875 15.09375 \nQ 47.21875 7.46875 41.1875 3.015625 \nQ 35.15625 -1.421875 24.609375 -1.421875 \nQ 20.21875 -1.421875 15.453125 -0.5625 \nQ 10.6875 0.296875 5.421875 2 \nL 5.421875 11.28125 \nQ 10.40625 8.6875 15.234375 7.390625 \nQ 20.0625 6.109375 24.8125 6.109375 \nQ 31.15625 6.109375 34.5625 8.28125 \nQ 37.984375 10.453125 37.984375 14.40625 \nQ 37.984375 18.0625 35.515625 20.015625 \nQ 33.0625 21.96875 24.703125 23.78125 \nL 21.578125 24.515625 \nQ 13.234375 26.265625 9.515625 29.90625 \nQ 5.8125 33.546875 5.8125 39.890625 \nQ 5.8125 47.609375 11.28125 51.796875 \nQ 16.75 56 26.8125 56 \nQ 31.78125 56 36.171875 55.265625 \nQ 40.578125 54.546875 44.28125 53.078125 \nz\n\" id=\"DejaVuSans-115\"/>\n      <path d=\"M 56.203125 29.59375 \nL 56.203125 25.203125 \nL 14.890625 25.203125 \nQ 15.484375 15.921875 20.484375 11.0625 \nQ 25.484375 6.203125 34.421875 6.203125 \nQ 39.59375 6.203125 44.453125 7.46875 \nQ 49.3125 8.734375 54.109375 11.28125 \nL 54.109375 2.78125 \nQ 49.265625 0.734375 44.1875 -0.34375 \nQ 39.109375 -1.421875 33.890625 -1.421875 \nQ 20.796875 -1.421875 13.15625 6.1875 \nQ 5.515625 13.8125 5.515625 26.8125 \nQ 5.515625 40.234375 12.765625 48.109375 \nQ 20.015625 56 32.328125 56 \nQ 43.359375 56 49.78125 48.890625 \nQ 56.203125 41.796875 56.203125 29.59375 \nz\nM 47.21875 32.234375 \nQ 47.125 39.59375 43.09375 43.984375 \nQ 39.0625 48.390625 32.421875 48.390625 \nQ 24.90625 48.390625 20.390625 44.140625 \nQ 15.875 39.890625 15.1875 32.171875 \nz\n\" id=\"DejaVuSans-101\"/>\n      <path d=\"M 37.109375 75.984375 \nL 37.109375 68.5 \nL 28.515625 68.5 \nQ 23.6875 68.5 21.796875 66.546875 \nQ 19.921875 64.59375 19.921875 59.515625 \nL 19.921875 54.6875 \nL 34.71875 54.6875 \nL 34.71875 47.703125 \nL 19.921875 47.703125 \nL 19.921875 0 \nL 10.890625 0 \nL 10.890625 47.703125 \nL 2.296875 47.703125 \nL 2.296875 54.6875 \nL 10.890625 54.6875 \nL 10.890625 58.5 \nQ 10.890625 67.625 15.140625 71.796875 \nQ 19.390625 75.984375 28.609375 75.984375 \nz\n\" id=\"DejaVuSans-102\"/>\n      <path d=\"M 9.421875 75.984375 \nL 18.40625 75.984375 \nL 18.40625 0 \nL 9.421875 0 \nz\n\" id=\"DejaVuSans-108\"/>\n      <path d=\"M 54.890625 33.015625 \nL 54.890625 0 \nL 45.90625 0 \nL 45.90625 32.71875 \nQ 45.90625 40.484375 42.875 44.328125 \nQ 39.84375 48.1875 33.796875 48.1875 \nQ 26.515625 48.1875 22.3125 43.546875 \nQ 18.109375 38.921875 18.109375 30.90625 \nL 18.109375 0 \nL 9.078125 0 \nL 9.078125 54.6875 \nL 18.109375 54.6875 \nL 18.109375 46.1875 \nQ 21.34375 51.125 25.703125 53.5625 \nQ 30.078125 56 35.796875 56 \nQ 45.21875 56 50.046875 50.171875 \nQ 54.890625 44.34375 54.890625 33.015625 \nz\n\" id=\"DejaVuSans-110\"/>\n     </defs>\n     <g transform=\"translate(358.321094 371.915781)scale(0.1 -0.1)\">\n      <use xlink:href=\"#DejaVuSans-117\"/>\n      <use x=\"63.378906\" xlink:href=\"#DejaVuSans-115\"/>\n      <use x=\"115.478516\" xlink:href=\"#DejaVuSans-101\"/>\n      <use x=\"177.001953\" xlink:href=\"#DejaVuSans-102\"/>\n      <use x=\"212.207031\" xlink:href=\"#DejaVuSans-117\"/>\n      <use x=\"275.585938\" xlink:href=\"#DejaVuSans-108\"/>\n      <use x=\"303.369141\" xlink:href=\"#DejaVuSans-110\"/>\n      <use x=\"366.748047\" xlink:href=\"#DejaVuSans-101\"/>\n      <use x=\"428.271484\" xlink:href=\"#DejaVuSans-115\"/>\n      <use x=\"480.371094\" xlink:href=\"#DejaVuSans-115\"/>\n     </g>\n    </g>\n   </g>\n   <g id=\"matplotlib.axis_2\">\n    <g id=\"ytick_1\">\n     <g id=\"line2d_13\">\n      <path clip-path=\"url(#pea7b065b23)\" d=\"M 50.14375 321.463219 \nL 719.74375 321.463219 \n\" style=\"fill:none;stroke:#b0b0b0;stroke-linecap:square;stroke-width:0.8;\"/>\n     </g>\n     <g id=\"line2d_14\">\n      <defs>\n       <path d=\"M 0 0 \nL -3.5 0 \n\" id=\"m8932141103\" style=\"stroke:#000000;stroke-width:0.8;\"/>\n      </defs>\n      <g>\n       <use style=\"stroke:#000000;stroke-width:0.8;\" x=\"50.14375\" xlink:href=\"#m8932141103\" y=\"321.463219\"/>\n      </g>\n     </g>\n     <g id=\"text_8\">\n      <!-- 0.96 -->\n      <defs>\n       <path d=\"M 10.6875 12.40625 \nL 21 12.40625 \nL 21 0 \nL 10.6875 0 \nz\n\" id=\"DejaVuSans-46\"/>\n       <path d=\"M 10.984375 1.515625 \nL 10.984375 10.5 \nQ 14.703125 8.734375 18.5 7.8125 \nQ 22.3125 6.890625 25.984375 6.890625 \nQ 35.75 6.890625 40.890625 13.453125 \nQ 46.046875 20.015625 46.78125 33.40625 \nQ 43.953125 29.203125 39.59375 26.953125 \nQ 35.25 24.703125 29.984375 24.703125 \nQ 19.046875 24.703125 12.671875 31.3125 \nQ 6.296875 37.9375 6.296875 49.421875 \nQ 6.296875 60.640625 12.9375 67.421875 \nQ 19.578125 74.21875 30.609375 74.21875 \nQ 43.265625 74.21875 49.921875 64.515625 \nQ 56.59375 54.828125 56.59375 36.375 \nQ 56.59375 19.140625 48.40625 8.859375 \nQ 40.234375 -1.421875 26.421875 -1.421875 \nQ 22.703125 -1.421875 18.890625 -0.6875 \nQ 15.09375 0.046875 10.984375 1.515625 \nz\nM 30.609375 32.421875 \nQ 37.25 32.421875 41.125 36.953125 \nQ 45.015625 41.5 45.015625 49.421875 \nQ 45.015625 57.28125 41.125 61.84375 \nQ 37.25 66.40625 30.609375 66.40625 \nQ 23.96875 66.40625 20.09375 61.84375 \nQ 16.21875 57.28125 16.21875 49.421875 \nQ 16.21875 41.5 20.09375 36.953125 \nQ 23.96875 32.421875 30.609375 32.421875 \nz\n\" id=\"DejaVuSans-57\"/>\n      </defs>\n      <g transform=\"translate(20.878125 325.262437)scale(0.1 -0.1)\">\n       <use xlink:href=\"#DejaVuSans-48\"/>\n       <use x=\"63.623047\" xlink:href=\"#DejaVuSans-46\"/>\n       <use x=\"95.410156\" xlink:href=\"#DejaVuSans-57\"/>\n       <use x=\"159.033203\" xlink:href=\"#DejaVuSans-54\"/>\n      </g>\n     </g>\n    </g>\n    <g id=\"ytick_2\">\n     <g id=\"line2d_15\">\n      <path clip-path=\"url(#pea7b065b23)\" d=\"M 50.14375 277.111219 \nL 719.74375 277.111219 \n\" style=\"fill:none;stroke:#b0b0b0;stroke-linecap:square;stroke-width:0.8;\"/>\n     </g>\n     <g id=\"line2d_16\">\n      <g>\n       <use style=\"stroke:#000000;stroke-width:0.8;\" x=\"50.14375\" xlink:href=\"#m8932141103\" y=\"277.111219\"/>\n      </g>\n     </g>\n     <g id=\"text_9\">\n      <!-- 0.98 -->\n      <g transform=\"translate(20.878125 280.910437)scale(0.1 -0.1)\">\n       <use xlink:href=\"#DejaVuSans-48\"/>\n       <use x=\"63.623047\" xlink:href=\"#DejaVuSans-46\"/>\n       <use x=\"95.410156\" xlink:href=\"#DejaVuSans-57\"/>\n       <use x=\"159.033203\" xlink:href=\"#DejaVuSans-56\"/>\n      </g>\n     </g>\n    </g>\n    <g id=\"ytick_3\">\n     <g id=\"line2d_17\">\n      <path clip-path=\"url(#pea7b065b23)\" d=\"M 50.14375 232.759219 \nL 719.74375 232.759219 \n\" style=\"fill:none;stroke:#b0b0b0;stroke-linecap:square;stroke-width:0.8;\"/>\n     </g>\n     <g id=\"line2d_18\">\n      <g>\n       <use style=\"stroke:#000000;stroke-width:0.8;\" x=\"50.14375\" xlink:href=\"#m8932141103\" y=\"232.759219\"/>\n      </g>\n     </g>\n     <g id=\"text_10\">\n      <!-- 1.00 -->\n      <g transform=\"translate(20.878125 236.558438)scale(0.1 -0.1)\">\n       <use xlink:href=\"#DejaVuSans-49\"/>\n       <use x=\"63.623047\" xlink:href=\"#DejaVuSans-46\"/>\n       <use x=\"95.410156\" xlink:href=\"#DejaVuSans-48\"/>\n       <use x=\"159.033203\" xlink:href=\"#DejaVuSans-48\"/>\n      </g>\n     </g>\n    </g>\n    <g id=\"ytick_4\">\n     <g id=\"line2d_19\">\n      <path clip-path=\"url(#pea7b065b23)\" d=\"M 50.14375 188.407219 \nL 719.74375 188.407219 \n\" style=\"fill:none;stroke:#b0b0b0;stroke-linecap:square;stroke-width:0.8;\"/>\n     </g>\n     <g id=\"line2d_20\">\n      <g>\n       <use style=\"stroke:#000000;stroke-width:0.8;\" x=\"50.14375\" xlink:href=\"#m8932141103\" y=\"188.407219\"/>\n      </g>\n     </g>\n     <g id=\"text_11\">\n      <!-- 1.02 -->\n      <g transform=\"translate(20.878125 192.206438)scale(0.1 -0.1)\">\n       <use xlink:href=\"#DejaVuSans-49\"/>\n       <use x=\"63.623047\" xlink:href=\"#DejaVuSans-46\"/>\n       <use x=\"95.410156\" xlink:href=\"#DejaVuSans-48\"/>\n       <use x=\"159.033203\" xlink:href=\"#DejaVuSans-50\"/>\n      </g>\n     </g>\n    </g>\n    <g id=\"ytick_5\">\n     <g id=\"line2d_21\">\n      <path clip-path=\"url(#pea7b065b23)\" d=\"M 50.14375 144.055219 \nL 719.74375 144.055219 \n\" style=\"fill:none;stroke:#b0b0b0;stroke-linecap:square;stroke-width:0.8;\"/>\n     </g>\n     <g id=\"line2d_22\">\n      <g>\n       <use style=\"stroke:#000000;stroke-width:0.8;\" x=\"50.14375\" xlink:href=\"#m8932141103\" y=\"144.055219\"/>\n      </g>\n     </g>\n     <g id=\"text_12\">\n      <!-- 1.04 -->\n      <g transform=\"translate(20.878125 147.854437)scale(0.1 -0.1)\">\n       <use xlink:href=\"#DejaVuSans-49\"/>\n       <use x=\"63.623047\" xlink:href=\"#DejaVuSans-46\"/>\n       <use x=\"95.410156\" xlink:href=\"#DejaVuSans-48\"/>\n       <use x=\"159.033203\" xlink:href=\"#DejaVuSans-52\"/>\n      </g>\n     </g>\n    </g>\n    <g id=\"ytick_6\">\n     <g id=\"line2d_23\">\n      <path clip-path=\"url(#pea7b065b23)\" d=\"M 50.14375 99.703219 \nL 719.74375 99.703219 \n\" style=\"fill:none;stroke:#b0b0b0;stroke-linecap:square;stroke-width:0.8;\"/>\n     </g>\n     <g id=\"line2d_24\">\n      <g>\n       <use style=\"stroke:#000000;stroke-width:0.8;\" x=\"50.14375\" xlink:href=\"#m8932141103\" y=\"99.703219\"/>\n      </g>\n     </g>\n     <g id=\"text_13\">\n      <!-- 1.06 -->\n      <g transform=\"translate(20.878125 103.502438)scale(0.1 -0.1)\">\n       <use xlink:href=\"#DejaVuSans-49\"/>\n       <use x=\"63.623047\" xlink:href=\"#DejaVuSans-46\"/>\n       <use x=\"95.410156\" xlink:href=\"#DejaVuSans-48\"/>\n       <use x=\"159.033203\" xlink:href=\"#DejaVuSans-54\"/>\n      </g>\n     </g>\n    </g>\n    <g id=\"ytick_7\">\n     <g id=\"line2d_25\">\n      <path clip-path=\"url(#pea7b065b23)\" d=\"M 50.14375 55.351219 \nL 719.74375 55.351219 \n\" style=\"fill:none;stroke:#b0b0b0;stroke-linecap:square;stroke-width:0.8;\"/>\n     </g>\n     <g id=\"line2d_26\">\n      <g>\n       <use style=\"stroke:#000000;stroke-width:0.8;\" x=\"50.14375\" xlink:href=\"#m8932141103\" y=\"55.351219\"/>\n      </g>\n     </g>\n     <g id=\"text_14\">\n      <!-- 1.08 -->\n      <g transform=\"translate(20.878125 59.150438)scale(0.1 -0.1)\">\n       <use xlink:href=\"#DejaVuSans-49\"/>\n       <use x=\"63.623047\" xlink:href=\"#DejaVuSans-46\"/>\n       <use x=\"95.410156\" xlink:href=\"#DejaVuSans-48\"/>\n       <use x=\"159.033203\" xlink:href=\"#DejaVuSans-56\"/>\n      </g>\n     </g>\n    </g>\n    <g id=\"ytick_8\">\n     <g id=\"line2d_27\">\n      <path clip-path=\"url(#pea7b065b23)\" d=\"M 50.14375 10.999219 \nL 719.74375 10.999219 \n\" style=\"fill:none;stroke:#b0b0b0;stroke-linecap:square;stroke-width:0.8;\"/>\n     </g>\n     <g id=\"line2d_28\">\n      <g>\n       <use style=\"stroke:#000000;stroke-width:0.8;\" x=\"50.14375\" xlink:href=\"#m8932141103\" y=\"10.999219\"/>\n      </g>\n     </g>\n     <g id=\"text_15\">\n      <!-- 1.10 -->\n      <g transform=\"translate(20.878125 14.798437)scale(0.1 -0.1)\">\n       <use xlink:href=\"#DejaVuSans-49\"/>\n       <use x=\"63.623047\" xlink:href=\"#DejaVuSans-46\"/>\n       <use x=\"95.410156\" xlink:href=\"#DejaVuSans-49\"/>\n       <use x=\"159.033203\" xlink:href=\"#DejaVuSans-48\"/>\n      </g>\n     </g>\n    </g>\n    <g id=\"text_16\">\n     <!-- neuron index -->\n     <defs>\n      <path d=\"M 41.109375 46.296875 \nQ 39.59375 47.171875 37.8125 47.578125 \nQ 36.03125 48 33.890625 48 \nQ 26.265625 48 22.1875 43.046875 \nQ 18.109375 38.09375 18.109375 28.8125 \nL 18.109375 0 \nL 9.078125 0 \nL 9.078125 54.6875 \nL 18.109375 54.6875 \nL 18.109375 46.1875 \nQ 20.953125 51.171875 25.484375 53.578125 \nQ 30.03125 56 36.53125 56 \nQ 37.453125 56 38.578125 55.875 \nQ 39.703125 55.765625 41.0625 55.515625 \nz\n\" id=\"DejaVuSans-114\"/>\n      <path d=\"M 30.609375 48.390625 \nQ 23.390625 48.390625 19.1875 42.75 \nQ 14.984375 37.109375 14.984375 27.296875 \nQ 14.984375 17.484375 19.15625 11.84375 \nQ 23.34375 6.203125 30.609375 6.203125 \nQ 37.796875 6.203125 41.984375 11.859375 \nQ 46.1875 17.53125 46.1875 27.296875 \nQ 46.1875 37.015625 41.984375 42.703125 \nQ 37.796875 48.390625 30.609375 48.390625 \nz\nM 30.609375 56 \nQ 42.328125 56 49.015625 48.375 \nQ 55.71875 40.765625 55.71875 27.296875 \nQ 55.71875 13.875 49.015625 6.21875 \nQ 42.328125 -1.421875 30.609375 -1.421875 \nQ 18.84375 -1.421875 12.171875 6.21875 \nQ 5.515625 13.875 5.515625 27.296875 \nQ 5.515625 40.765625 12.171875 48.375 \nQ 18.84375 56 30.609375 56 \nz\n\" id=\"DejaVuSans-111\"/>\n      <path id=\"DejaVuSans-32\"/>\n      <path d=\"M 9.421875 54.6875 \nL 18.40625 54.6875 \nL 18.40625 0 \nL 9.421875 0 \nz\nM 9.421875 75.984375 \nL 18.40625 75.984375 \nL 18.40625 64.59375 \nL 9.421875 64.59375 \nz\n\" id=\"DejaVuSans-105\"/>\n      <path d=\"M 45.40625 46.390625 \nL 45.40625 75.984375 \nL 54.390625 75.984375 \nL 54.390625 0 \nL 45.40625 0 \nL 45.40625 8.203125 \nQ 42.578125 3.328125 38.25 0.953125 \nQ 33.9375 -1.421875 27.875 -1.421875 \nQ 17.96875 -1.421875 11.734375 6.484375 \nQ 5.515625 14.40625 5.515625 27.296875 \nQ 5.515625 40.1875 11.734375 48.09375 \nQ 17.96875 56 27.875 56 \nQ 33.9375 56 38.25 53.625 \nQ 42.578125 51.265625 45.40625 46.390625 \nz\nM 14.796875 27.296875 \nQ 14.796875 17.390625 18.875 11.75 \nQ 22.953125 6.109375 30.078125 6.109375 \nQ 37.203125 6.109375 41.296875 11.75 \nQ 45.40625 17.390625 45.40625 27.296875 \nQ 45.40625 37.203125 41.296875 42.84375 \nQ 37.203125 48.484375 30.078125 48.484375 \nQ 22.953125 48.484375 18.875 42.84375 \nQ 14.796875 37.203125 14.796875 27.296875 \nz\n\" id=\"DejaVuSans-100\"/>\n      <path d=\"M 54.890625 54.6875 \nL 35.109375 28.078125 \nL 55.90625 0 \nL 45.3125 0 \nL 29.390625 21.484375 \nL 13.484375 0 \nL 2.875 0 \nL 24.125 28.609375 \nL 4.6875 54.6875 \nL 15.28125 54.6875 \nL 29.78125 35.203125 \nL 44.28125 54.6875 \nz\n\" id=\"DejaVuSans-120\"/>\n     </defs>\n     <g transform=\"translate(14.798438 210.371563)rotate(-90)scale(0.1 -0.1)\">\n      <use xlink:href=\"#DejaVuSans-110\"/>\n      <use x=\"63.378906\" xlink:href=\"#DejaVuSans-101\"/>\n      <use x=\"124.902344\" xlink:href=\"#DejaVuSans-117\"/>\n      <use x=\"188.28125\" xlink:href=\"#DejaVuSans-114\"/>\n      <use x=\"229.363281\" xlink:href=\"#DejaVuSans-111\"/>\n      <use x=\"290.544922\" xlink:href=\"#DejaVuSans-110\"/>\n      <use x=\"353.923828\" xlink:href=\"#DejaVuSans-32\"/>\n      <use x=\"385.710938\" xlink:href=\"#DejaVuSans-105\"/>\n      <use x=\"413.494141\" xlink:href=\"#DejaVuSans-110\"/>\n      <use x=\"476.873047\" xlink:href=\"#DejaVuSans-100\"/>\n      <use x=\"540.349609\" xlink:href=\"#DejaVuSans-101\"/>\n      <use x=\"601.857422\" xlink:href=\"#DejaVuSans-120\"/>\n     </g>\n    </g>\n   </g>\n   <g id=\"patch_203\">\n    <path d=\"M 50.14375 343.639219 \nL 50.14375 10.999219 \n\" style=\"fill:none;stroke:#000000;stroke-linecap:square;stroke-linejoin:miter;stroke-width:0.8;\"/>\n   </g>\n   <g id=\"patch_204\">\n    <path d=\"M 719.74375 343.639219 \nL 719.74375 10.999219 \n\" style=\"fill:none;stroke:#000000;stroke-linecap:square;stroke-linejoin:miter;stroke-width:0.8;\"/>\n   </g>\n   <g id=\"patch_205\">\n    <path d=\"M 50.14375 343.639219 \nL 719.74375 343.639219 \n\" style=\"fill:none;stroke:#000000;stroke-linecap:square;stroke-linejoin:miter;stroke-width:0.8;\"/>\n   </g>\n   <g id=\"patch_206\">\n    <path d=\"M 50.14375 10.999219 \nL 719.74375 10.999219 \n\" style=\"fill:none;stroke:#000000;stroke-linecap:square;stroke-linejoin:miter;stroke-width:0.8;\"/>\n   </g>\n   <g id=\"text_17\">\n    <!-- epoch: 9 -->\n    <defs>\n     <path d=\"M 18.109375 8.203125 \nL 18.109375 -20.796875 \nL 9.078125 -20.796875 \nL 9.078125 54.6875 \nL 18.109375 54.6875 \nL 18.109375 46.390625 \nQ 20.953125 51.265625 25.265625 53.625 \nQ 29.59375 56 35.59375 56 \nQ 45.5625 56 51.78125 48.09375 \nQ 58.015625 40.1875 58.015625 27.296875 \nQ 58.015625 14.40625 51.78125 6.484375 \nQ 45.5625 -1.421875 35.59375 -1.421875 \nQ 29.59375 -1.421875 25.265625 0.953125 \nQ 20.953125 3.328125 18.109375 8.203125 \nz\nM 48.6875 27.296875 \nQ 48.6875 37.203125 44.609375 42.84375 \nQ 40.53125 48.484375 33.40625 48.484375 \nQ 26.265625 48.484375 22.1875 42.84375 \nQ 18.109375 37.203125 18.109375 27.296875 \nQ 18.109375 17.390625 22.1875 11.75 \nQ 26.265625 6.109375 33.40625 6.109375 \nQ 40.53125 6.109375 44.609375 11.75 \nQ 48.6875 17.390625 48.6875 27.296875 \nz\n\" id=\"DejaVuSans-112\"/>\n     <path d=\"M 48.78125 52.59375 \nL 48.78125 44.1875 \nQ 44.96875 46.296875 41.140625 47.34375 \nQ 37.3125 48.390625 33.40625 48.390625 \nQ 24.65625 48.390625 19.8125 42.84375 \nQ 14.984375 37.3125 14.984375 27.296875 \nQ 14.984375 17.28125 19.8125 11.734375 \nQ 24.65625 6.203125 33.40625 6.203125 \nQ 37.3125 6.203125 41.140625 7.25 \nQ 44.96875 8.296875 48.78125 10.40625 \nL 48.78125 2.09375 \nQ 45.015625 0.34375 40.984375 -0.53125 \nQ 36.96875 -1.421875 32.421875 -1.421875 \nQ 20.0625 -1.421875 12.78125 6.34375 \nQ 5.515625 14.109375 5.515625 27.296875 \nQ 5.515625 40.671875 12.859375 48.328125 \nQ 20.21875 56 33.015625 56 \nQ 37.15625 56 41.109375 55.140625 \nQ 45.0625 54.296875 48.78125 52.59375 \nz\n\" id=\"DejaVuSans-99\"/>\n     <path d=\"M 54.890625 33.015625 \nL 54.890625 0 \nL 45.90625 0 \nL 45.90625 32.71875 \nQ 45.90625 40.484375 42.875 44.328125 \nQ 39.84375 48.1875 33.796875 48.1875 \nQ 26.515625 48.1875 22.3125 43.546875 \nQ 18.109375 38.921875 18.109375 30.90625 \nL 18.109375 0 \nL 9.078125 0 \nL 9.078125 75.984375 \nL 18.109375 75.984375 \nL 18.109375 46.1875 \nQ 21.34375 51.125 25.703125 53.5625 \nQ 30.078125 56 35.796875 56 \nQ 45.21875 56 50.046875 50.171875 \nQ 54.890625 44.34375 54.890625 33.015625 \nz\n\" id=\"DejaVuSans-104\"/>\n     <path d=\"M 11.71875 12.40625 \nL 22.015625 12.40625 \nL 22.015625 0 \nL 11.71875 0 \nz\nM 11.71875 51.703125 \nL 22.015625 51.703125 \nL 22.015625 39.3125 \nL 11.71875 39.3125 \nz\n\" id=\"DejaVuSans-58\"/>\n    </defs>\n    <g transform=\"translate(53.458601 33.175219)scale(0.1 -0.1)\">\n     <use xlink:href=\"#DejaVuSans-101\"/>\n     <use x=\"61.523438\" xlink:href=\"#DejaVuSans-112\"/>\n     <use x=\"125\" xlink:href=\"#DejaVuSans-111\"/>\n     <use x=\"186.181641\" xlink:href=\"#DejaVuSans-99\"/>\n     <use x=\"241.162109\" xlink:href=\"#DejaVuSans-104\"/>\n     <use x=\"304.541016\" xlink:href=\"#DejaVuSans-58\"/>\n     <use x=\"338.232422\" xlink:href=\"#DejaVuSans-32\"/>\n     <use x=\"370.019531\" xlink:href=\"#DejaVuSans-57\"/>\n    </g>\n   </g>\n   <g id=\"legend_1\">\n    <g id=\"patch_207\">\n     <path d=\"M 561.114063 48.355469 \nL 712.74375 48.355469 \nQ 714.74375 48.355469 714.74375 46.355469 \nL 714.74375 17.999219 \nQ 714.74375 15.999219 712.74375 15.999219 \nL 561.114063 15.999219 \nQ 559.114063 15.999219 559.114063 17.999219 \nL 559.114063 46.355469 \nQ 559.114063 48.355469 561.114063 48.355469 \nz\n\" style=\"fill:#ffffff;opacity:0.8;stroke:#cccccc;stroke-linejoin:miter;\"/>\n    </g>\n    <g id=\"patch_208\">\n     <path d=\"M 563.114063 27.597656 \nL 583.114063 27.597656 \nL 583.114063 20.597656 \nL 563.114063 20.597656 \nz\n\" style=\"fill:#ff0000;\"/>\n    </g>\n    <g id=\"text_18\">\n     <!-- usefulness -->\n     <g transform=\"translate(591.114063 27.597656)scale(0.1 -0.1)\">\n      <use xlink:href=\"#DejaVuSans-117\"/>\n      <use x=\"63.378906\" xlink:href=\"#DejaVuSans-115\"/>\n      <use x=\"115.478516\" xlink:href=\"#DejaVuSans-101\"/>\n      <use x=\"177.001953\" xlink:href=\"#DejaVuSans-102\"/>\n      <use x=\"212.207031\" xlink:href=\"#DejaVuSans-117\"/>\n      <use x=\"275.585938\" xlink:href=\"#DejaVuSans-108\"/>\n      <use x=\"303.369141\" xlink:href=\"#DejaVuSans-110\"/>\n      <use x=\"366.748047\" xlink:href=\"#DejaVuSans-101\"/>\n      <use x=\"428.271484\" xlink:href=\"#DejaVuSans-115\"/>\n      <use x=\"480.371094\" xlink:href=\"#DejaVuSans-115\"/>\n     </g>\n    </g>\n    <g id=\"patch_209\">\n     <path d=\"M 563.114063 42.275781 \nL 583.114063 42.275781 \nL 583.114063 35.275781 \nL 563.114063 35.275781 \nz\n\" style=\"fill:#0000ff;\"/>\n    </g>\n    <g id=\"text_19\">\n     <!-- prediction of usefulness -->\n     <defs>\n      <path d=\"M 18.3125 70.21875 \nL 18.3125 54.6875 \nL 36.8125 54.6875 \nL 36.8125 47.703125 \nL 18.3125 47.703125 \nL 18.3125 18.015625 \nQ 18.3125 11.328125 20.140625 9.421875 \nQ 21.96875 7.515625 27.59375 7.515625 \nL 36.8125 7.515625 \nL 36.8125 0 \nL 27.59375 0 \nQ 17.1875 0 13.234375 3.875 \nQ 9.28125 7.765625 9.28125 18.015625 \nL 9.28125 47.703125 \nL 2.6875 47.703125 \nL 2.6875 54.6875 \nL 9.28125 54.6875 \nL 9.28125 70.21875 \nz\n\" id=\"DejaVuSans-116\"/>\n     </defs>\n     <g transform=\"translate(591.114063 42.275781)scale(0.1 -0.1)\">\n      <use xlink:href=\"#DejaVuSans-112\"/>\n      <use x=\"63.476562\" xlink:href=\"#DejaVuSans-114\"/>\n      <use x=\"104.558594\" xlink:href=\"#DejaVuSans-101\"/>\n      <use x=\"166.082031\" xlink:href=\"#DejaVuSans-100\"/>\n      <use x=\"229.558594\" xlink:href=\"#DejaVuSans-105\"/>\n      <use x=\"257.341797\" xlink:href=\"#DejaVuSans-99\"/>\n      <use x=\"312.322266\" xlink:href=\"#DejaVuSans-116\"/>\n      <use x=\"351.53125\" xlink:href=\"#DejaVuSans-105\"/>\n      <use x=\"379.314453\" xlink:href=\"#DejaVuSans-111\"/>\n      <use x=\"440.496094\" xlink:href=\"#DejaVuSans-110\"/>\n      <use x=\"503.875\" xlink:href=\"#DejaVuSans-32\"/>\n      <use x=\"535.662109\" xlink:href=\"#DejaVuSans-111\"/>\n      <use x=\"596.84375\" xlink:href=\"#DejaVuSans-102\"/>\n      <use x=\"632.048828\" xlink:href=\"#DejaVuSans-32\"/>\n      <use x=\"663.835938\" xlink:href=\"#DejaVuSans-117\"/>\n      <use x=\"727.214844\" xlink:href=\"#DejaVuSans-115\"/>\n      <use x=\"779.314453\" xlink:href=\"#DejaVuSans-101\"/>\n      <use x=\"840.837891\" xlink:href=\"#DejaVuSans-102\"/>\n      <use x=\"876.042969\" xlink:href=\"#DejaVuSans-117\"/>\n      <use x=\"939.421875\" xlink:href=\"#DejaVuSans-108\"/>\n      <use x=\"967.205078\" xlink:href=\"#DejaVuSans-110\"/>\n      <use x=\"1030.583984\" xlink:href=\"#DejaVuSans-101\"/>\n      <use x=\"1092.107422\" xlink:href=\"#DejaVuSans-115\"/>\n      <use x=\"1144.207031\" xlink:href=\"#DejaVuSans-115\"/>\n     </g>\n    </g>\n   </g>\n  </g>\n </g>\n <defs>\n  <clipPath id=\"pea7b065b23\">\n   <rect height=\"332.64\" width=\"669.6\" x=\"50.14375\" y=\"10.999219\"/>\n  </clipPath>\n </defs>\n</svg>\n",
      "image/png": "[encoded data removed]"
     },
     "metadata": {}
    }
   ],
   "metadata": {},
   "execution_count": 13
  },
  {
   "cell_type": "code",
   "execution_count": 12,
   "metadata": {},
   "outputs": [],
   "source": [
    "def plot_bar(e, layer):\n",
    "    e = str(e)\n",
    "    layer = str(layer)\n",
    "    data = np.array([usefulness_per_neuron[e][x] for x in usefulness_per_neuron[e] if x[0] == layer])\n",
    "    data = np.array(sorted(data, key = lambda x: x[0]))\n",
    "    width = 0.4\n",
    "    x_axis_ = np.array(range(100))\n",
    "    plt.bar(x_axis_ + width/2, data[:, 0], width, color = 'red', label = 'usefulness')\n",
    "    plt.bar(x_axis_ - width/2, data[:, 1], width, color = 'blue', label = 'prediction of usefulness')\n",
    "    plt.legend(loc=1)\n",
    "    plt.grid()\n",
    "    plt.text(0, 1.1, f'epoch: {e}')\n"
   ]
  },
  {
   "cell_type": "code",
   "execution_count": 13,
   "metadata": {},
   "outputs": [
    {
     "name": "stderr",
     "output_type": "stream",
     "text": [
      "/home/levai/miniconda3/envs/tensorflow/lib/python3.7/site-packages/ipykernel_launcher.py:3: RuntimeWarning: More than 20 figures have been opened. Figures created through the pyplot interface (`matplotlib.pyplot.figure`) are retained until explicitly closed and may consume too much memory. (To control this warning, see the rcParam `figure.max_open_warning`).\n",
      "  This is separate from the ipykernel package so we can avoid doing imports until\n"
     ]
    },
    {
     "data": {
      "text/plain": [
       "<Figure size 1200x600 with 0 Axes>"
      ]
     },
     "metadata": {},
     "output_type": "display_data"
    },
    {
     "data": {
      "text/plain": [
       "<Figure size 1200x600 with 0 Axes>"
      ]
     },
     "metadata": {},
     "output_type": "display_data"
    },
    {
     "data": {
      "text/plain": [
       "<Figure size 1200x600 with 0 Axes>"
      ]
     },
     "metadata": {},
     "output_type": "display_data"
    },
    {
     "data": {
      "text/plain": [
       "<Figure size 1200x600 with 0 Axes>"
      ]
     },
     "metadata": {},
     "output_type": "display_data"
    },
    {
     "data": {
      "text/plain": [
       "<Figure size 1200x600 with 0 Axes>"
      ]
     },
     "metadata": {},
     "output_type": "display_data"
    },
    {
     "data": {
      "text/plain": [
       "<Figure size 1200x600 with 0 Axes>"
      ]
     },
     "metadata": {},
     "output_type": "display_data"
    },
    {
     "data": {
      "text/plain": [
       "<Figure size 1200x600 with 0 Axes>"
      ]
     },
     "metadata": {},
     "output_type": "display_data"
    },
    {
     "data": {
      "text/plain": [
       "<Figure size 1200x600 with 0 Axes>"
      ]
     },
     "metadata": {},
     "output_type": "display_data"
    },
    {
     "data": {
      "text/plain": [
       "<Figure size 1200x600 with 0 Axes>"
      ]
     },
     "metadata": {},
     "output_type": "display_data"
    },
    {
     "data": {
      "text/plain": [
       "<Figure size 1200x600 with 0 Axes>"
      ]
     },
     "metadata": {},
     "output_type": "display_data"
    },
    {
     "data": {
      "text/plain": [
       "<Figure size 1200x600 with 0 Axes>"
      ]
     },
     "metadata": {},
     "output_type": "display_data"
    },
    {
     "data": {
      "text/plain": [
       "<Figure size 1200x600 with 0 Axes>"
      ]
     },
     "metadata": {},
     "output_type": "display_data"
    },
    {
     "data": {
      "text/plain": [
       "<Figure size 1200x600 with 0 Axes>"
      ]
     },
     "metadata": {},
     "output_type": "display_data"
    },
    {
     "data": {
      "text/plain": [
       "<Figure size 1200x600 with 0 Axes>"
      ]
     },
     "metadata": {},
     "output_type": "display_data"
    },
    {
     "data": {
      "text/plain": [
       "<Figure size 1200x600 with 0 Axes>"
      ]
     },
     "metadata": {},
     "output_type": "display_data"
    },
    {
     "data": {
      "text/plain": [
       "<Figure size 1200x600 with 0 Axes>"
      ]
     },
     "metadata": {},
     "output_type": "display_data"
    },
    {
     "data": {
      "text/plain": [
       "<Figure size 1200x600 with 0 Axes>"
      ]
     },
     "metadata": {},
     "output_type": "display_data"
    },
    {
     "data": {
      "text/plain": [
       "<Figure size 1200x600 with 0 Axes>"
      ]
     },
     "metadata": {},
     "output_type": "display_data"
    },
    {
     "data": {
      "text/plain": [
       "<Figure size 1200x600 with 0 Axes>"
      ]
     },
     "metadata": {},
     "output_type": "display_data"
    },
    {
     "data": {
      "text/plain": [
       "<Figure size 1200x600 with 0 Axes>"
      ]
     },
     "metadata": {},
     "output_type": "display_data"
    },
    {
     "data": {
      "text/plain": [
       "<Figure size 1200x600 with 0 Axes>"
      ]
     },
     "metadata": {},
     "output_type": "display_data"
    },
    {
     "data": {
      "text/plain": [
       "<Figure size 1200x600 with 0 Axes>"
      ]
     },
     "metadata": {},
     "output_type": "display_data"
    },
    {
     "data": {
      "text/plain": [
       "<Figure size 1200x600 with 0 Axes>"
      ]
     },
     "metadata": {},
     "output_type": "display_data"
    },
    {
     "data": {
      "text/plain": [
       "<Figure size 1200x600 with 0 Axes>"
      ]
     },
     "metadata": {},
     "output_type": "display_data"
    },
    {
     "data": {
      "text/plain": [
       "<Figure size 1200x600 with 0 Axes>"
      ]
     },
     "metadata": {},
     "output_type": "display_data"
    },
    {
     "data": {
      "text/plain": [
       "<Figure size 1200x600 with 0 Axes>"
      ]
     },
     "metadata": {},
     "output_type": "display_data"
    },
    {
     "data": {
      "text/plain": [
       "<Figure size 1200x600 with 0 Axes>"
      ]
     },
     "metadata": {},
     "output_type": "display_data"
    },
    {
     "data": {
      "text/plain": [
       "<Figure size 1200x600 with 0 Axes>"
      ]
     },
     "metadata": {},
     "output_type": "display_data"
    },
    {
     "data": {
      "text/plain": [
       "<Figure size 1200x600 with 0 Axes>"
      ]
     },
     "metadata": {},
     "output_type": "display_data"
    },
    {
     "data": {
      "text/plain": [
       "<Figure size 1200x600 with 0 Axes>"
      ]
     },
     "metadata": {},
     "output_type": "display_data"
    },
    {
     "data": {
      "text/plain": [
       "<Figure size 1200x600 with 0 Axes>"
      ]
     },
     "metadata": {},
     "output_type": "display_data"
    },
    {
     "data": {
      "text/plain": [
       "<Figure size 1200x600 with 0 Axes>"
      ]
     },
     "metadata": {},
     "output_type": "display_data"
    },
    {
     "data": {
      "text/plain": [
       "<Figure size 1200x600 with 0 Axes>"
      ]
     },
     "metadata": {},
     "output_type": "display_data"
    },
    {
     "data": {
      "text/plain": [
       "<Figure size 1200x600 with 0 Axes>"
      ]
     },
     "metadata": {},
     "output_type": "display_data"
    },
    {
     "data": {
      "text/plain": [
       "<Figure size 1200x600 with 0 Axes>"
      ]
     },
     "metadata": {},
     "output_type": "display_data"
    },
    {
     "data": {
      "text/plain": [
       "<Figure size 1200x600 with 0 Axes>"
      ]
     },
     "metadata": {},
     "output_type": "display_data"
    },
    {
     "data": {
      "text/plain": [
       "<Figure size 1200x600 with 0 Axes>"
      ]
     },
     "metadata": {},
     "output_type": "display_data"
    },
    {
     "data": {
      "text/plain": [
       "<Figure size 1200x600 with 0 Axes>"
      ]
     },
     "metadata": {},
     "output_type": "display_data"
    },
    {
     "data": {
      "text/plain": [
       "<Figure size 1200x600 with 0 Axes>"
      ]
     },
     "metadata": {},
     "output_type": "display_data"
    },
    {
     "data": {
      "text/plain": [
       "<Figure size 1200x600 with 0 Axes>"
      ]
     },
     "metadata": {},
     "output_type": "display_data"
    },
    {
     "data": {
      "text/plain": [
       "<Figure size 1200x600 with 0 Axes>"
      ]
     },
     "metadata": {},
     "output_type": "display_data"
    },
    {
     "data": {
      "text/plain": [
       "<Figure size 1200x600 with 0 Axes>"
      ]
     },
     "metadata": {},
     "output_type": "display_data"
    },
    {
     "data": {
      "text/plain": [
       "<Figure size 1200x600 with 0 Axes>"
      ]
     },
     "metadata": {},
     "output_type": "display_data"
    },
    {
     "data": {
      "text/plain": [
       "<Figure size 1200x600 with 0 Axes>"
      ]
     },
     "metadata": {},
     "output_type": "display_data"
    },
    {
     "data": {
      "text/plain": [
       "<Figure size 1200x600 with 0 Axes>"
      ]
     },
     "metadata": {},
     "output_type": "display_data"
    },
    {
     "data": {
      "text/plain": [
       "<Figure size 1200x600 with 0 Axes>"
      ]
     },
     "metadata": {},
     "output_type": "display_data"
    },
    {
     "data": {
      "text/plain": [
       "<Figure size 1200x600 with 0 Axes>"
      ]
     },
     "metadata": {},
     "output_type": "display_data"
    },
    {
     "data": {
      "text/plain": [
       "<Figure size 1200x600 with 0 Axes>"
      ]
     },
     "metadata": {},
     "output_type": "display_data"
    },
    {
     "data": {
      "text/plain": [
       "<Figure size 1200x600 with 0 Axes>"
      ]
     },
     "metadata": {},
     "output_type": "display_data"
    },
    {
     "data": {
      "text/plain": [
       "<Figure size 1200x600 with 0 Axes>"
      ]
     },
     "metadata": {},
     "output_type": "display_data"
    },
    {
     "data": {
      "text/plain": [
       "<Figure size 1200x600 with 0 Axes>"
      ]
     },
     "metadata": {},
     "output_type": "display_data"
    },
    {
     "data": {
      "text/plain": [
       "<Figure size 1200x600 with 0 Axes>"
      ]
     },
     "metadata": {},
     "output_type": "display_data"
    },
    {
     "data": {
      "text/plain": [
       "<Figure size 1200x600 with 0 Axes>"
      ]
     },
     "metadata": {},
     "output_type": "display_data"
    },
    {
     "data": {
      "text/plain": [
       "<Figure size 1200x600 with 0 Axes>"
      ]
     },
     "metadata": {},
     "output_type": "display_data"
    },
    {
     "data": {
      "text/plain": [
       "<Figure size 1200x600 with 0 Axes>"
      ]
     },
     "metadata": {},
     "output_type": "display_data"
    },
    {
     "data": {
      "text/plain": [
       "<Figure size 1200x600 with 0 Axes>"
      ]
     },
     "metadata": {},
     "output_type": "display_data"
    },
    {
     "data": {
      "text/plain": [
       "<Figure size 1200x600 with 0 Axes>"
      ]
     },
     "metadata": {},
     "output_type": "display_data"
    },
    {
     "data": {
      "text/plain": [
       "<Figure size 1200x600 with 0 Axes>"
      ]
     },
     "metadata": {},
     "output_type": "display_data"
    },
    {
     "data": {
      "text/plain": [
       "<Figure size 1200x600 with 0 Axes>"
      ]
     },
     "metadata": {},
     "output_type": "display_data"
    },
    {
     "data": {
      "text/plain": [
       "<Figure size 1200x600 with 0 Axes>"
      ]
     },
     "metadata": {},
     "output_type": "display_data"
    },
    {
     "data": {
      "text/plain": [
       "<Figure size 1200x600 with 0 Axes>"
      ]
     },
     "metadata": {},
     "output_type": "display_data"
    },
    {
     "data": {
      "text/plain": [
       "<Figure size 1200x600 with 0 Axes>"
      ]
     },
     "metadata": {},
     "output_type": "display_data"
    },
    {
     "data": {
      "text/plain": [
       "<Figure size 1200x600 with 0 Axes>"
      ]
     },
     "metadata": {},
     "output_type": "display_data"
    },
    {
     "data": {
      "text/plain": [
       "<Figure size 1200x600 with 0 Axes>"
      ]
     },
     "metadata": {},
     "output_type": "display_data"
    },
    {
     "data": {
      "text/plain": [
       "<Figure size 1200x600 with 0 Axes>"
      ]
     },
     "metadata": {},
     "output_type": "display_data"
    },
    {
     "data": {
      "text/plain": [
       "<Figure size 1200x600 with 0 Axes>"
      ]
     },
     "metadata": {},
     "output_type": "display_data"
    },
    {
     "data": {
      "text/plain": [
       "<Figure size 1200x600 with 0 Axes>"
      ]
     },
     "metadata": {},
     "output_type": "display_data"
    },
    {
     "data": {
      "text/plain": [
       "<Figure size 1200x600 with 0 Axes>"
      ]
     },
     "metadata": {},
     "output_type": "display_data"
    },
    {
     "data": {
      "text/plain": [
       "<Figure size 1200x600 with 0 Axes>"
      ]
     },
     "metadata": {},
     "output_type": "display_data"
    },
    {
     "data": {
      "text/plain": [
       "<Figure size 1200x600 with 0 Axes>"
      ]
     },
     "metadata": {},
     "output_type": "display_data"
    },
    {
     "data": {
      "text/plain": [
       "<Figure size 1200x600 with 0 Axes>"
      ]
     },
     "metadata": {},
     "output_type": "display_data"
    },
    {
     "data": {
      "text/plain": [
       "<Figure size 1200x600 with 0 Axes>"
      ]
     },
     "metadata": {},
     "output_type": "display_data"
    },
    {
     "data": {
      "text/plain": [
       "<Figure size 1200x600 with 0 Axes>"
      ]
     },
     "metadata": {},
     "output_type": "display_data"
    },
    {
     "data": {
      "text/plain": [
       "<Figure size 1200x600 with 0 Axes>"
      ]
     },
     "metadata": {},
     "output_type": "display_data"
    },
    {
     "data": {
      "text/plain": [
       "<Figure size 1200x600 with 0 Axes>"
      ]
     },
     "metadata": {},
     "output_type": "display_data"
    },
    {
     "data": {
      "text/plain": [
       "<Figure size 1200x600 with 0 Axes>"
      ]
     },
     "metadata": {},
     "output_type": "display_data"
    },
    {
     "data": {
      "text/plain": [
       "<Figure size 1200x600 with 0 Axes>"
      ]
     },
     "metadata": {},
     "output_type": "display_data"
    },
    {
     "data": {
      "text/plain": [
       "<Figure size 1200x600 with 0 Axes>"
      ]
     },
     "metadata": {},
     "output_type": "display_data"
    },
    {
     "data": {
      "text/plain": [
       "<Figure size 1200x600 with 0 Axes>"
      ]
     },
     "metadata": {},
     "output_type": "display_data"
    },
    {
     "data": {
      "text/plain": [
       "<Figure size 1200x600 with 0 Axes>"
      ]
     },
     "metadata": {},
     "output_type": "display_data"
    },
    {
     "data": {
      "text/plain": [
       "<Figure size 1200x600 with 0 Axes>"
      ]
     },
     "metadata": {},
     "output_type": "display_data"
    },
    {
     "data": {
      "text/plain": [
       "<Figure size 1200x600 with 0 Axes>"
      ]
     },
     "metadata": {},
     "output_type": "display_data"
    },
    {
     "data": {
      "text/plain": [
       "<Figure size 1200x600 with 0 Axes>"
      ]
     },
     "metadata": {},
     "output_type": "display_data"
    },
    {
     "data": {
      "text/plain": [
       "<Figure size 1200x600 with 0 Axes>"
      ]
     },
     "metadata": {},
     "output_type": "display_data"
    },
    {
     "data": {
      "text/plain": [
       "<Figure size 1200x600 with 0 Axes>"
      ]
     },
     "metadata": {},
     "output_type": "display_data"
    },
    {
     "data": {
      "text/plain": [
       "<Figure size 1200x600 with 0 Axes>"
      ]
     },
     "metadata": {},
     "output_type": "display_data"
    },
    {
     "data": {
      "text/plain": [
       "<Figure size 1200x600 with 0 Axes>"
      ]
     },
     "metadata": {},
     "output_type": "display_data"
    },
    {
     "data": {
      "text/plain": [
       "<Figure size 1200x600 with 0 Axes>"
      ]
     },
     "metadata": {},
     "output_type": "display_data"
    },
    {
     "data": {
      "text/plain": [
       "<Figure size 1200x600 with 0 Axes>"
      ]
     },
     "metadata": {},
     "output_type": "display_data"
    },
    {
     "data": {
      "text/plain": [
       "<Figure size 1200x600 with 0 Axes>"
      ]
     },
     "metadata": {},
     "output_type": "display_data"
    },
    {
     "data": {
      "text/plain": [
       "<Figure size 1200x600 with 0 Axes>"
      ]
     },
     "metadata": {},
     "output_type": "display_data"
    },
    {
     "data": {
      "text/plain": [
       "<Figure size 1200x600 with 0 Axes>"
      ]
     },
     "metadata": {},
     "output_type": "display_data"
    },
    {
     "data": {
      "text/plain": [
       "<Figure size 1200x600 with 0 Axes>"
      ]
     },
     "metadata": {},
     "output_type": "display_data"
    },
    {
     "data": {
      "text/plain": [
       "<Figure size 1200x600 with 0 Axes>"
      ]
     },
     "metadata": {},
     "output_type": "display_data"
    },
    {
     "data": {
      "text/plain": [
       "<Figure size 1200x600 with 0 Axes>"
      ]
     },
     "metadata": {},
     "output_type": "display_data"
    },
    {
     "data": {
      "text/plain": [
       "<Figure size 1200x600 with 0 Axes>"
      ]
     },
     "metadata": {},
     "output_type": "display_data"
    },
    {
     "data": {
      "text/plain": [
       "<Figure size 1200x600 with 0 Axes>"
      ]
     },
     "metadata": {},
     "output_type": "display_data"
    },
    {
     "data": {
      "text/plain": [
       "<Figure size 1200x600 with 0 Axes>"
      ]
     },
     "metadata": {},
     "output_type": "display_data"
    },
    {
     "data": {
      "text/plain": [
       "<Figure size 1200x600 with 0 Axes>"
      ]
     },
     "metadata": {},
     "output_type": "display_data"
    },
    {
     "data": {
      "text/plain": [
       "<Figure size 1200x600 with 0 Axes>"
      ]
     },
     "metadata": {},
     "output_type": "display_data"
    },
    {
     "data": {
      "text/plain": [
       "<Figure size 1200x600 with 0 Axes>"
      ]
     },
     "metadata": {},
     "output_type": "display_data"
    },
    {
     "data": {
      "text/plain": [
       "<Figure size 1200x600 with 0 Axes>"
      ]
     },
     "metadata": {},
     "output_type": "display_data"
    },
    {
     "data": {
      "text/plain": [
       "<Figure size 1200x600 with 0 Axes>"
      ]
     },
     "metadata": {},
     "output_type": "display_data"
    },
    {
     "data": {
      "text/plain": [
       "<Figure size 1200x600 with 0 Axes>"
      ]
     },
     "metadata": {},
     "output_type": "display_data"
    },
    {
     "data": {
      "text/plain": [
       "<Figure size 1200x600 with 0 Axes>"
      ]
     },
     "metadata": {},
     "output_type": "display_data"
    },
    {
     "data": {
      "text/plain": [
       "<Figure size 1200x600 with 0 Axes>"
      ]
     },
     "metadata": {},
     "output_type": "display_data"
    },
    {
     "data": {
      "text/plain": [
       "<Figure size 1200x600 with 0 Axes>"
      ]
     },
     "metadata": {},
     "output_type": "display_data"
    },
    {
     "data": {
      "text/plain": [
       "<Figure size 1200x600 with 0 Axes>"
      ]
     },
     "metadata": {},
     "output_type": "display_data"
    },
    {
     "data": {
      "text/plain": [
       "<Figure size 1200x600 with 0 Axes>"
      ]
     },
     "metadata": {},
     "output_type": "display_data"
    },
    {
     "data": {
      "text/plain": [
       "<Figure size 1200x600 with 0 Axes>"
      ]
     },
     "metadata": {},
     "output_type": "display_data"
    },
    {
     "data": {
      "text/plain": [
       "<Figure size 1200x600 with 0 Axes>"
      ]
     },
     "metadata": {},
     "output_type": "display_data"
    },
    {
     "data": {
      "text/plain": [
       "<Figure size 1200x600 with 0 Axes>"
      ]
     },
     "metadata": {},
     "output_type": "display_data"
    },
    {
     "data": {
      "text/plain": [
       "<Figure size 1200x600 with 0 Axes>"
      ]
     },
     "metadata": {},
     "output_type": "display_data"
    },
    {
     "data": {
      "text/plain": [
       "<Figure size 1200x600 with 0 Axes>"
      ]
     },
     "metadata": {},
     "output_type": "display_data"
    },
    {
     "data": {
      "text/plain": [
       "<Figure size 1200x600 with 0 Axes>"
      ]
     },
     "metadata": {},
     "output_type": "display_data"
    },
    {
     "data": {
      "text/plain": [
       "<Figure size 1200x600 with 0 Axes>"
      ]
     },
     "metadata": {},
     "output_type": "display_data"
    },
    {
     "data": {
      "text/plain": [
       "<Figure size 1200x600 with 0 Axes>"
      ]
     },
     "metadata": {},
     "output_type": "display_data"
    },
    {
     "data": {
      "text/plain": [
       "<Figure size 1200x600 with 0 Axes>"
      ]
     },
     "metadata": {},
     "output_type": "display_data"
    },
    {
     "data": {
      "text/plain": [
       "<Figure size 1200x600 with 0 Axes>"
      ]
     },
     "metadata": {},
     "output_type": "display_data"
    },
    {
     "data": {
      "text/plain": [
       "<Figure size 1200x600 with 0 Axes>"
      ]
     },
     "metadata": {},
     "output_type": "display_data"
    },
    {
     "data": {
      "text/plain": [
       "<Figure size 1200x600 with 0 Axes>"
      ]
     },
     "metadata": {},
     "output_type": "display_data"
    },
    {
     "data": {
      "text/plain": [
       "<Figure size 1200x600 with 0 Axes>"
      ]
     },
     "metadata": {},
     "output_type": "display_data"
    },
    {
     "data": {
      "text/plain": [
       "<Figure size 1200x600 with 0 Axes>"
      ]
     },
     "metadata": {},
     "output_type": "display_data"
    },
    {
     "data": {
      "text/plain": [
       "<Figure size 1200x600 with 0 Axes>"
      ]
     },
     "metadata": {},
     "output_type": "display_data"
    },
    {
     "data": {
      "text/plain": [
       "<Figure size 1200x600 with 0 Axes>"
      ]
     },
     "metadata": {},
     "output_type": "display_data"
    },
    {
     "data": {
      "text/plain": [
       "<Figure size 1200x600 with 0 Axes>"
      ]
     },
     "metadata": {},
     "output_type": "display_data"
    },
    {
     "data": {
      "text/plain": [
       "<Figure size 1200x600 with 0 Axes>"
      ]
     },
     "metadata": {},
     "output_type": "display_data"
    },
    {
     "data": {
      "text/plain": [
       "<Figure size 1200x600 with 0 Axes>"
      ]
     },
     "metadata": {},
     "output_type": "display_data"
    },
    {
     "data": {
      "text/plain": [
       "<Figure size 1200x600 with 0 Axes>"
      ]
     },
     "metadata": {},
     "output_type": "display_data"
    },
    {
     "data": {
      "text/plain": [
       "<Figure size 1200x600 with 0 Axes>"
      ]
     },
     "metadata": {},
     "output_type": "display_data"
    },
    {
     "data": {
      "text/plain": [
       "<Figure size 1200x600 with 0 Axes>"
      ]
     },
     "metadata": {},
     "output_type": "display_data"
    },
    {
     "data": {
      "text/plain": [
       "<Figure size 1200x600 with 0 Axes>"
      ]
     },
     "metadata": {},
     "output_type": "display_data"
    },
    {
     "data": {
      "text/plain": [
       "<Figure size 1200x600 with 0 Axes>"
      ]
     },
     "metadata": {},
     "output_type": "display_data"
    },
    {
     "data": {
      "text/plain": [
       "<Figure size 1200x600 with 0 Axes>"
      ]
     },
     "metadata": {},
     "output_type": "display_data"
    },
    {
     "data": {
      "text/plain": [
       "<Figure size 1200x600 with 0 Axes>"
      ]
     },
     "metadata": {},
     "output_type": "display_data"
    },
    {
     "data": {
      "text/plain": [
       "<Figure size 1200x600 with 0 Axes>"
      ]
     },
     "metadata": {},
     "output_type": "display_data"
    },
    {
     "data": {
      "text/plain": [
       "<Figure size 1200x600 with 0 Axes>"
      ]
     },
     "metadata": {},
     "output_type": "display_data"
    },
    {
     "data": {
      "text/plain": [
       "<Figure size 1200x600 with 0 Axes>"
      ]
     },
     "metadata": {},
     "output_type": "display_data"
    },
    {
     "data": {
      "text/plain": [
       "<Figure size 1200x600 with 0 Axes>"
      ]
     },
     "metadata": {},
     "output_type": "display_data"
    },
    {
     "data": {
      "text/plain": [
       "<Figure size 1200x600 with 0 Axes>"
      ]
     },
     "metadata": {},
     "output_type": "display_data"
    },
    {
     "data": {
      "text/plain": [
       "<Figure size 1200x600 with 0 Axes>"
      ]
     },
     "metadata": {},
     "output_type": "display_data"
    },
    {
     "data": {
      "text/plain": [
       "<Figure size 1200x600 with 0 Axes>"
      ]
     },
     "metadata": {},
     "output_type": "display_data"
    },
    {
     "data": {
      "text/plain": [
       "<Figure size 1200x600 with 0 Axes>"
      ]
     },
     "metadata": {},
     "output_type": "display_data"
    },
    {
     "data": {
      "text/plain": [
       "<Figure size 1200x600 with 0 Axes>"
      ]
     },
     "metadata": {},
     "output_type": "display_data"
    },
    {
     "data": {
      "text/plain": [
       "<Figure size 1200x600 with 0 Axes>"
      ]
     },
     "metadata": {},
     "output_type": "display_data"
    },
    {
     "data": {
      "text/plain": [
       "<Figure size 1200x600 with 0 Axes>"
      ]
     },
     "metadata": {},
     "output_type": "display_data"
    },
    {
     "data": {
      "text/plain": [
       "<Figure size 1200x600 with 0 Axes>"
      ]
     },
     "metadata": {},
     "output_type": "display_data"
    },
    {
     "data": {
      "text/plain": [
       "<Figure size 1200x600 with 0 Axes>"
      ]
     },
     "metadata": {},
     "output_type": "display_data"
    },
    {
     "data": {
      "text/plain": [
       "<Figure size 1200x600 with 0 Axes>"
      ]
     },
     "metadata": {},
     "output_type": "display_data"
    },
    {
     "data": {
      "text/plain": [
       "<Figure size 1200x600 with 0 Axes>"
      ]
     },
     "metadata": {},
     "output_type": "display_data"
    },
    {
     "data": {
      "text/plain": [
       "<Figure size 1200x600 with 0 Axes>"
      ]
     },
     "metadata": {},
     "output_type": "display_data"
    },
    {
     "data": {
      "text/plain": [
       "<Figure size 1200x600 with 0 Axes>"
      ]
     },
     "metadata": {},
     "output_type": "display_data"
    },
    {
     "data": {
      "text/plain": [
       "<Figure size 1200x600 with 0 Axes>"
      ]
     },
     "metadata": {},
     "output_type": "display_data"
    },
    {
     "data": {
      "text/plain": [
       "<Figure size 1200x600 with 0 Axes>"
      ]
     },
     "metadata": {},
     "output_type": "display_data"
    },
    {
     "data": {
      "text/plain": [
       "<Figure size 1200x600 with 0 Axes>"
      ]
     },
     "metadata": {},
     "output_type": "display_data"
    },
    {
     "data": {
      "text/plain": [
       "<Figure size 1200x600 with 0 Axes>"
      ]
     },
     "metadata": {},
     "output_type": "display_data"
    },
    {
     "data": {
      "text/plain": [
       "<Figure size 1200x600 with 0 Axes>"
      ]
     },
     "metadata": {},
     "output_type": "display_data"
    },
    {
     "data": {
      "text/plain": [
       "<Figure size 1200x600 with 0 Axes>"
      ]
     },
     "metadata": {},
     "output_type": "display_data"
    },
    {
     "data": {
      "text/plain": [
       "<Figure size 1200x600 with 0 Axes>"
      ]
     },
     "metadata": {},
     "output_type": "display_data"
    },
    {
     "data": {
      "text/plain": [
       "<Figure size 1200x600 with 0 Axes>"
      ]
     },
     "metadata": {},
     "output_type": "display_data"
    },
    {
     "data": {
      "text/plain": [
       "<Figure size 1200x600 with 0 Axes>"
      ]
     },
     "metadata": {},
     "output_type": "display_data"
    },
    {
     "data": {
      "text/plain": [
       "<Figure size 1200x600 with 0 Axes>"
      ]
     },
     "metadata": {},
     "output_type": "display_data"
    },
    {
     "data": {
      "text/plain": [
       "<Figure size 1200x600 with 0 Axes>"
      ]
     },
     "metadata": {},
     "output_type": "display_data"
    },
    {
     "data": {
      "text/plain": [
       "<Figure size 1200x600 with 0 Axes>"
      ]
     },
     "metadata": {},
     "output_type": "display_data"
    },
    {
     "data": {
      "text/plain": [
       "<Figure size 1200x600 with 0 Axes>"
      ]
     },
     "metadata": {},
     "output_type": "display_data"
    },
    {
     "data": {
      "text/plain": [
       "<Figure size 1200x600 with 0 Axes>"
      ]
     },
     "metadata": {},
     "output_type": "display_data"
    },
    {
     "data": {
      "text/plain": [
       "<Figure size 1200x600 with 0 Axes>"
      ]
     },
     "metadata": {},
     "output_type": "display_data"
    },
    {
     "data": {
      "text/plain": [
       "<Figure size 1200x600 with 0 Axes>"
      ]
     },
     "metadata": {},
     "output_type": "display_data"
    },
    {
     "data": {
      "text/plain": [
       "<Figure size 1200x600 with 0 Axes>"
      ]
     },
     "metadata": {},
     "output_type": "display_data"
    },
    {
     "data": {
      "text/plain": [
       "<Figure size 1200x600 with 0 Axes>"
      ]
     },
     "metadata": {},
     "output_type": "display_data"
    },
    {
     "data": {
      "text/plain": [
       "<Figure size 1200x600 with 0 Axes>"
      ]
     },
     "metadata": {},
     "output_type": "display_data"
    },
    {
     "data": {
      "text/plain": [
       "<Figure size 1200x600 with 0 Axes>"
      ]
     },
     "metadata": {},
     "output_type": "display_data"
    },
    {
     "data": {
      "text/plain": [
       "<Figure size 1200x600 with 0 Axes>"
      ]
     },
     "metadata": {},
     "output_type": "display_data"
    },
    {
     "data": {
      "text/plain": [
       "<Figure size 1200x600 with 0 Axes>"
      ]
     },
     "metadata": {},
     "output_type": "display_data"
    },
    {
     "data": {
      "text/plain": [
       "<Figure size 1200x600 with 0 Axes>"
      ]
     },
     "metadata": {},
     "output_type": "display_data"
    },
    {
     "data": {
      "text/plain": [
       "<Figure size 1200x600 with 0 Axes>"
      ]
     },
     "metadata": {},
     "output_type": "display_data"
    },
    {
     "data": {
      "text/plain": [
       "<Figure size 1200x600 with 0 Axes>"
      ]
     },
     "metadata": {},
     "output_type": "display_data"
    },
    {
     "data": {
      "text/plain": [
       "<Figure size 1200x600 with 0 Axes>"
      ]
     },
     "metadata": {},
     "output_type": "display_data"
    },
    {
     "data": {
      "text/plain": [
       "<Figure size 1200x600 with 0 Axes>"
      ]
     },
     "metadata": {},
     "output_type": "display_data"
    },
    {
     "data": {
      "text/plain": [
       "<Figure size 1200x600 with 0 Axes>"
      ]
     },
     "metadata": {},
     "output_type": "display_data"
    },
    {
     "data": {
      "text/plain": [
       "<Figure size 1200x600 with 0 Axes>"
      ]
     },
     "metadata": {},
     "output_type": "display_data"
    },
    {
     "data": {
      "text/plain": [
       "<Figure size 1200x600 with 0 Axes>"
      ]
     },
     "metadata": {},
     "output_type": "display_data"
    },
    {
     "data": {
      "text/plain": [
       "<Figure size 1200x600 with 0 Axes>"
      ]
     },
     "metadata": {},
     "output_type": "display_data"
    },
    {
     "data": {
      "text/plain": [
       "<Figure size 1200x600 with 0 Axes>"
      ]
     },
     "metadata": {},
     "output_type": "display_data"
    },
    {
     "data": {
      "text/plain": [
       "<Figure size 1200x600 with 0 Axes>"
      ]
     },
     "metadata": {},
     "output_type": "display_data"
    },
    {
     "data": {
      "text/plain": [
       "<Figure size 1200x600 with 0 Axes>"
      ]
     },
     "metadata": {},
     "output_type": "display_data"
    },
    {
     "data": {
      "text/plain": [
       "<Figure size 1200x600 with 0 Axes>"
      ]
     },
     "metadata": {},
     "output_type": "display_data"
    },
    {
     "data": {
      "text/plain": [
       "<Figure size 1200x600 with 0 Axes>"
      ]
     },
     "metadata": {},
     "output_type": "display_data"
    },
    {
     "data": {
      "text/plain": [
       "<Figure size 1200x600 with 0 Axes>"
      ]
     },
     "metadata": {},
     "output_type": "display_data"
    },
    {
     "data": {
      "text/plain": [
       "<Figure size 1200x600 with 0 Axes>"
      ]
     },
     "metadata": {},
     "output_type": "display_data"
    },
    {
     "data": {
      "text/plain": [
       "<Figure size 1200x600 with 0 Axes>"
      ]
     },
     "metadata": {},
     "output_type": "display_data"
    },
    {
     "data": {
      "text/plain": [
       "<Figure size 1200x600 with 0 Axes>"
      ]
     },
     "metadata": {},
     "output_type": "display_data"
    },
    {
     "data": {
      "text/plain": [
       "<Figure size 1200x600 with 0 Axes>"
      ]
     },
     "metadata": {},
     "output_type": "display_data"
    },
    {
     "data": {
      "text/plain": [
       "<Figure size 1200x600 with 0 Axes>"
      ]
     },
     "metadata": {},
     "output_type": "display_data"
    },
    {
     "data": {
      "text/plain": [
       "<Figure size 1200x600 with 0 Axes>"
      ]
     },
     "metadata": {},
     "output_type": "display_data"
    },
    {
     "data": {
      "text/plain": [
       "<Figure size 1200x600 with 0 Axes>"
      ]
     },
     "metadata": {},
     "output_type": "display_data"
    },
    {
     "data": {
      "text/plain": [
       "<Figure size 1200x600 with 0 Axes>"
      ]
     },
     "metadata": {},
     "output_type": "display_data"
    },
    {
     "data": {
      "text/plain": [
       "<Figure size 1200x600 with 0 Axes>"
      ]
     },
     "metadata": {},
     "output_type": "display_data"
    },
    {
     "data": {
      "text/plain": [
       "<Figure size 1200x600 with 0 Axes>"
      ]
     },
     "metadata": {},
     "output_type": "display_data"
    },
    {
     "data": {
      "text/plain": [
       "<Figure size 1200x600 with 0 Axes>"
      ]
     },
     "metadata": {},
     "output_type": "display_data"
    },
    {
     "data": {
      "text/plain": [
       "<Figure size 1200x600 with 0 Axes>"
      ]
     },
     "metadata": {},
     "output_type": "display_data"
    },
    {
     "data": {
      "text/plain": [
       "<Figure size 1200x600 with 0 Axes>"
      ]
     },
     "metadata": {},
     "output_type": "display_data"
    },
    {
     "data": {
      "text/plain": [
       "<Figure size 1200x600 with 0 Axes>"
      ]
     },
     "metadata": {},
     "output_type": "display_data"
    },
    {
     "data": {
      "text/plain": [
       "<Figure size 1200x600 with 0 Axes>"
      ]
     },
     "metadata": {},
     "output_type": "display_data"
    },
    {
     "data": {
      "text/plain": [
       "<Figure size 1200x600 with 0 Axes>"
      ]
     },
     "metadata": {},
     "output_type": "display_data"
    },
    {
     "data": {
      "text/plain": [
       "<Figure size 1200x600 with 0 Axes>"
      ]
     },
     "metadata": {},
     "output_type": "display_data"
    },
    {
     "data": {
      "text/plain": [
       "<Figure size 1200x600 with 0 Axes>"
      ]
     },
     "metadata": {},
     "output_type": "display_data"
    },
    {
     "data": {
      "text/plain": [
       "<Figure size 1200x600 with 0 Axes>"
      ]
     },
     "metadata": {},
     "output_type": "display_data"
    },
    {
     "data": {
      "text/plain": [
       "<Figure size 1200x600 with 0 Axes>"
      ]
     },
     "metadata": {},
     "output_type": "display_data"
    },
    {
     "data": {
      "text/plain": [
       "<Figure size 1200x600 with 0 Axes>"
      ]
     },
     "metadata": {},
     "output_type": "display_data"
    },
    {
     "data": {
      "text/plain": [
       "<Figure size 1200x600 with 0 Axes>"
      ]
     },
     "metadata": {},
     "output_type": "display_data"
    },
    {
     "data": {
      "text/plain": [
       "<Figure size 1200x600 with 0 Axes>"
      ]
     },
     "metadata": {},
     "output_type": "display_data"
    },
    {
     "data": {
      "text/plain": [
       "<Figure size 1200x600 with 0 Axes>"
      ]
     },
     "metadata": {},
     "output_type": "display_data"
    },
    {
     "data": {
      "text/plain": [
       "<Figure size 1200x600 with 0 Axes>"
      ]
     },
     "metadata": {},
     "output_type": "display_data"
    },
    {
     "data": {
      "text/plain": [
       "<Figure size 1200x600 with 0 Axes>"
      ]
     },
     "metadata": {},
     "output_type": "display_data"
    },
    {
     "data": {
      "text/plain": [
       "<Figure size 1200x600 with 0 Axes>"
      ]
     },
     "metadata": {},
     "output_type": "display_data"
    },
    {
     "data": {
      "text/plain": [
       "<Figure size 1200x600 with 0 Axes>"
      ]
     },
     "metadata": {},
     "output_type": "display_data"
    },
    {
     "data": {
      "text/plain": [
       "<Figure size 1200x600 with 0 Axes>"
      ]
     },
     "metadata": {},
     "output_type": "display_data"
    },
    {
     "data": {
      "text/plain": [
       "<Figure size 1200x600 with 0 Axes>"
      ]
     },
     "metadata": {},
     "output_type": "display_data"
    },
    {
     "data": {
      "text/plain": [
       "<Figure size 1200x600 with 0 Axes>"
      ]
     },
     "metadata": {},
     "output_type": "display_data"
    },
    {
     "data": {
      "text/plain": [
       "<Figure size 1200x600 with 0 Axes>"
      ]
     },
     "metadata": {},
     "output_type": "display_data"
    },
    {
     "data": {
      "text/plain": [
       "<Figure size 1200x600 with 0 Axes>"
      ]
     },
     "metadata": {},
     "output_type": "display_data"
    },
    {
     "data": {
      "text/plain": [
       "<Figure size 1200x600 with 0 Axes>"
      ]
     },
     "metadata": {},
     "output_type": "display_data"
    },
    {
     "data": {
      "text/plain": [
       "<Figure size 1200x600 with 0 Axes>"
      ]
     },
     "metadata": {},
     "output_type": "display_data"
    },
    {
     "data": {
      "text/plain": [
       "<Figure size 1200x600 with 0 Axes>"
      ]
     },
     "metadata": {},
     "output_type": "display_data"
    },
    {
     "data": {
      "text/plain": [
       "<Figure size 1200x600 with 0 Axes>"
      ]
     },
     "metadata": {},
     "output_type": "display_data"
    },
    {
     "data": {
      "text/plain": [
       "<Figure size 1200x600 with 0 Axes>"
      ]
     },
     "metadata": {},
     "output_type": "display_data"
    },
    {
     "data": {
      "text/plain": [
       "<Figure size 1200x600 with 0 Axes>"
      ]
     },
     "metadata": {},
     "output_type": "display_data"
    },
    {
     "data": {
      "text/plain": [
       "<Figure size 1200x600 with 0 Axes>"
      ]
     },
     "metadata": {},
     "output_type": "display_data"
    },
    {
     "data": {
      "text/plain": [
       "<Figure size 1200x600 with 0 Axes>"
      ]
     },
     "metadata": {},
     "output_type": "display_data"
    },
    {
     "data": {
      "text/plain": [
       "<Figure size 1200x600 with 0 Axes>"
      ]
     },
     "metadata": {},
     "output_type": "display_data"
    },
    {
     "data": {
      "text/plain": [
       "<Figure size 1200x600 with 0 Axes>"
      ]
     },
     "metadata": {},
     "output_type": "display_data"
    },
    {
     "data": {
      "text/plain": [
       "<Figure size 1200x600 with 0 Axes>"
      ]
     },
     "metadata": {},
     "output_type": "display_data"
    },
    {
     "data": {
      "text/plain": [
       "<Figure size 1200x600 with 0 Axes>"
      ]
     },
     "metadata": {},
     "output_type": "display_data"
    },
    {
     "data": {
      "text/plain": [
       "<Figure size 1200x600 with 0 Axes>"
      ]
     },
     "metadata": {},
     "output_type": "display_data"
    },
    {
     "data": {
      "text/plain": [
       "<Figure size 1200x600 with 0 Axes>"
      ]
     },
     "metadata": {},
     "output_type": "display_data"
    },
    {
     "data": {
      "text/plain": [
       "<Figure size 1200x600 with 0 Axes>"
      ]
     },
     "metadata": {},
     "output_type": "display_data"
    },
    {
     "data": {
      "text/plain": [
       "<Figure size 1200x600 with 0 Axes>"
      ]
     },
     "metadata": {},
     "output_type": "display_data"
    },
    {
     "data": {
      "text/plain": [
       "<Figure size 1200x600 with 0 Axes>"
      ]
     },
     "metadata": {},
     "output_type": "display_data"
    },
    {
     "data": {
      "text/plain": [
       "<Figure size 1200x600 with 0 Axes>"
      ]
     },
     "metadata": {},
     "output_type": "display_data"
    },
    {
     "data": {
      "text/plain": [
       "<Figure size 1200x600 with 0 Axes>"
      ]
     },
     "metadata": {},
     "output_type": "display_data"
    },
    {
     "data": {
      "text/plain": [
       "<Figure size 1200x600 with 0 Axes>"
      ]
     },
     "metadata": {},
     "output_type": "display_data"
    },
    {
     "data": {
      "text/plain": [
       "<Figure size 1200x600 with 0 Axes>"
      ]
     },
     "metadata": {},
     "output_type": "display_data"
    },
    {
     "data": {
      "text/plain": [
       "<Figure size 1200x600 with 0 Axes>"
      ]
     },
     "metadata": {},
     "output_type": "display_data"
    },
    {
     "data": {
      "text/plain": [
       "<Figure size 1200x600 with 0 Axes>"
      ]
     },
     "metadata": {},
     "output_type": "display_data"
    },
    {
     "data": {
      "text/plain": [
       "<Figure size 1200x600 with 0 Axes>"
      ]
     },
     "metadata": {},
     "output_type": "display_data"
    },
    {
     "data": {
      "text/plain": [
       "<Figure size 1200x600 with 0 Axes>"
      ]
     },
     "metadata": {},
     "output_type": "display_data"
    },
    {
     "data": {
      "text/plain": [
       "<Figure size 1200x600 with 0 Axes>"
      ]
     },
     "metadata": {},
     "output_type": "display_data"
    },
    {
     "data": {
      "text/plain": [
       "<Figure size 1200x600 with 0 Axes>"
      ]
     },
     "metadata": {},
     "output_type": "display_data"
    },
    {
     "data": {
      "text/plain": [
       "<Figure size 1200x600 with 0 Axes>"
      ]
     },
     "metadata": {},
     "output_type": "display_data"
    },
    {
     "data": {
      "text/plain": [
       "<Figure size 1200x600 with 0 Axes>"
      ]
     },
     "metadata": {},
     "output_type": "display_data"
    },
    {
     "data": {
      "text/plain": [
       "<Figure size 1200x600 with 0 Axes>"
      ]
     },
     "metadata": {},
     "output_type": "display_data"
    },
    {
     "data": {
      "text/plain": [
       "<Figure size 1200x600 with 0 Axes>"
      ]
     },
     "metadata": {},
     "output_type": "display_data"
    },
    {
     "data": {
      "text/plain": [
       "<Figure size 1200x600 with 0 Axes>"
      ]
     },
     "metadata": {},
     "output_type": "display_data"
    },
    {
     "data": {
      "text/plain": [
       "<Figure size 1200x600 with 0 Axes>"
      ]
     },
     "metadata": {},
     "output_type": "display_data"
    },
    {
     "data": {
      "text/plain": [
       "<Figure size 1200x600 with 0 Axes>"
      ]
     },
     "metadata": {},
     "output_type": "display_data"
    },
    {
     "data": {
      "text/plain": [
       "<Figure size 1200x600 with 0 Axes>"
      ]
     },
     "metadata": {},
     "output_type": "display_data"
    },
    {
     "data": {
      "text/plain": [
       "<Figure size 1200x600 with 0 Axes>"
      ]
     },
     "metadata": {},
     "output_type": "display_data"
    },
    {
     "data": {
      "text/plain": [
       "<Figure size 1200x600 with 0 Axes>"
      ]
     },
     "metadata": {},
     "output_type": "display_data"
    },
    {
     "data": {
      "text/plain": [
       "<Figure size 1200x600 with 0 Axes>"
      ]
     },
     "metadata": {},
     "output_type": "display_data"
    },
    {
     "data": {
      "text/plain": [
       "<Figure size 1200x600 with 0 Axes>"
      ]
     },
     "metadata": {},
     "output_type": "display_data"
    },
    {
     "data": {
      "text/plain": [
       "<Figure size 1200x600 with 0 Axes>"
      ]
     },
     "metadata": {},
     "output_type": "display_data"
    },
    {
     "data": {
      "text/plain": [
       "<Figure size 1200x600 with 0 Axes>"
      ]
     },
     "metadata": {},
     "output_type": "display_data"
    },
    {
     "data": {
      "text/plain": [
       "<Figure size 1200x600 with 0 Axes>"
      ]
     },
     "metadata": {},
     "output_type": "display_data"
    },
    {
     "data": {
      "text/plain": [
       "<Figure size 1200x600 with 0 Axes>"
      ]
     },
     "metadata": {},
     "output_type": "display_data"
    },
    {
     "data": {
      "text/plain": [
       "<Figure size 1200x600 with 0 Axes>"
      ]
     },
     "metadata": {},
     "output_type": "display_data"
    },
    {
     "data": {
      "text/plain": [
       "<Figure size 1200x600 with 0 Axes>"
      ]
     },
     "metadata": {},
     "output_type": "display_data"
    },
    {
     "data": {
      "text/plain": [
       "<Figure size 1200x600 with 0 Axes>"
      ]
     },
     "metadata": {},
     "output_type": "display_data"
    },
    {
     "data": {
      "text/plain": [
       "<Figure size 1200x600 with 0 Axes>"
      ]
     },
     "metadata": {},
     "output_type": "display_data"
    },
    {
     "data": {
      "text/plain": [
       "<Figure size 1200x600 with 0 Axes>"
      ]
     },
     "metadata": {},
     "output_type": "display_data"
    },
    {
     "data": {
      "text/plain": [
       "<Figure size 1200x600 with 0 Axes>"
      ]
     },
     "metadata": {},
     "output_type": "display_data"
    },
    {
     "data": {
      "text/plain": [
       "<Figure size 1200x600 with 0 Axes>"
      ]
     },
     "metadata": {},
     "output_type": "display_data"
    },
    {
     "data": {
      "text/plain": [
       "<Figure size 1200x600 with 0 Axes>"
      ]
     },
     "metadata": {},
     "output_type": "display_data"
    },
    {
     "data": {
      "text/plain": [
       "<Figure size 1200x600 with 0 Axes>"
      ]
     },
     "metadata": {},
     "output_type": "display_data"
    },
    {
     "data": {
      "text/plain": [
       "<Figure size 1200x600 with 0 Axes>"
      ]
     },
     "metadata": {},
     "output_type": "display_data"
    },
    {
     "data": {
      "text/plain": [
       "<Figure size 1200x600 with 0 Axes>"
      ]
     },
     "metadata": {},
     "output_type": "display_data"
    },
    {
     "data": {
      "text/plain": [
       "<Figure size 1200x600 with 0 Axes>"
      ]
     },
     "metadata": {},
     "output_type": "display_data"
    },
    {
     "data": {
      "text/plain": [
       "<Figure size 1200x600 with 0 Axes>"
      ]
     },
     "metadata": {},
     "output_type": "display_data"
    },
    {
     "data": {
      "text/plain": [
       "<Figure size 1200x600 with 0 Axes>"
      ]
     },
     "metadata": {},
     "output_type": "display_data"
    },
    {
     "data": {
      "text/plain": [
       "<Figure size 1200x600 with 0 Axes>"
      ]
     },
     "metadata": {},
     "output_type": "display_data"
    },
    {
     "data": {
      "text/plain": [
       "<Figure size 1200x600 with 0 Axes>"
      ]
     },
     "metadata": {},
     "output_type": "display_data"
    },
    {
     "data": {
      "text/plain": [
       "<Figure size 1200x600 with 0 Axes>"
      ]
     },
     "metadata": {},
     "output_type": "display_data"
    },
    {
     "data": {
      "text/plain": [
       "<Figure size 1200x600 with 0 Axes>"
      ]
     },
     "metadata": {},
     "output_type": "display_data"
    },
    {
     "data": {
      "text/plain": [
       "<Figure size 1200x600 with 0 Axes>"
      ]
     },
     "metadata": {},
     "output_type": "display_data"
    },
    {
     "data": {
      "text/plain": [
       "<Figure size 1200x600 with 0 Axes>"
      ]
     },
     "metadata": {},
     "output_type": "display_data"
    },
    {
     "data": {
      "text/plain": [
       "<Figure size 1200x600 with 0 Axes>"
      ]
     },
     "metadata": {},
     "output_type": "display_data"
    },
    {
     "data": {
      "text/plain": [
       "<Figure size 1200x600 with 0 Axes>"
      ]
     },
     "metadata": {},
     "output_type": "display_data"
    },
    {
     "data": {
      "text/plain": [
       "<Figure size 1200x600 with 0 Axes>"
      ]
     },
     "metadata": {},
     "output_type": "display_data"
    },
    {
     "data": {
      "text/plain": [
       "<Figure size 1200x600 with 0 Axes>"
      ]
     },
     "metadata": {},
     "output_type": "display_data"
    },
    {
     "data": {
      "text/plain": [
       "<Figure size 1200x600 with 0 Axes>"
      ]
     },
     "metadata": {},
     "output_type": "display_data"
    },
    {
     "data": {
      "text/plain": [
       "<Figure size 1200x600 with 0 Axes>"
      ]
     },
     "metadata": {},
     "output_type": "display_data"
    },
    {
     "data": {
      "text/plain": [
       "<Figure size 1200x600 with 0 Axes>"
      ]
     },
     "metadata": {},
     "output_type": "display_data"
    },
    {
     "data": {
      "text/plain": [
       "<Figure size 1200x600 with 0 Axes>"
      ]
     },
     "metadata": {},
     "output_type": "display_data"
    },
    {
     "data": {
      "text/plain": [
       "<Figure size 1200x600 with 0 Axes>"
      ]
     },
     "metadata": {},
     "output_type": "display_data"
    },
    {
     "data": {
      "text/plain": [
       "<Figure size 1200x600 with 0 Axes>"
      ]
     },
     "metadata": {},
     "output_type": "display_data"
    },
    {
     "data": {
      "text/plain": [
       "<Figure size 1200x600 with 0 Axes>"
      ]
     },
     "metadata": {},
     "output_type": "display_data"
    },
    {
     "data": {
      "text/plain": [
       "<Figure size 1200x600 with 0 Axes>"
      ]
     },
     "metadata": {},
     "output_type": "display_data"
    },
    {
     "data": {
      "text/plain": [
       "<Figure size 1200x600 with 0 Axes>"
      ]
     },
     "metadata": {},
     "output_type": "display_data"
    },
    {
     "data": {
      "text/plain": [
       "<Figure size 1200x600 with 0 Axes>"
      ]
     },
     "metadata": {},
     "output_type": "display_data"
    },
    {
     "data": {
      "text/plain": [
       "<Figure size 1200x600 with 0 Axes>"
      ]
     },
     "metadata": {},
     "output_type": "display_data"
    },
    {
     "data": {
      "text/plain": [
       "<Figure size 1200x600 with 0 Axes>"
      ]
     },
     "metadata": {},
     "output_type": "display_data"
    },
    {
     "data": {
      "text/plain": [
       "<Figure size 1200x600 with 0 Axes>"
      ]
     },
     "metadata": {},
     "output_type": "display_data"
    },
    {
     "data": {
      "text/plain": [
       "<Figure size 1200x600 with 0 Axes>"
      ]
     },
     "metadata": {},
     "output_type": "display_data"
    },
    {
     "data": {
      "text/plain": [
       "<Figure size 1200x600 with 0 Axes>"
      ]
     },
     "metadata": {},
     "output_type": "display_data"
    },
    {
     "data": {
      "text/plain": [
       "<Figure size 1200x600 with 0 Axes>"
      ]
     },
     "metadata": {},
     "output_type": "display_data"
    },
    {
     "data": {
      "text/plain": [
       "<Figure size 1200x600 with 0 Axes>"
      ]
     },
     "metadata": {},
     "output_type": "display_data"
    },
    {
     "data": {
      "text/plain": [
       "<Figure size 1200x600 with 0 Axes>"
      ]
     },
     "metadata": {},
     "output_type": "display_data"
    },
    {
     "data": {
      "text/plain": [
       "<Figure size 1200x600 with 0 Axes>"
      ]
     },
     "metadata": {},
     "output_type": "display_data"
    },
    {
     "data": {
      "text/plain": [
       "<Figure size 1200x600 with 0 Axes>"
      ]
     },
     "metadata": {},
     "output_type": "display_data"
    },
    {
     "data": {
      "text/plain": [
       "<Figure size 1200x600 with 0 Axes>"
      ]
     },
     "metadata": {},
     "output_type": "display_data"
    },
    {
     "data": {
      "text/plain": [
       "<Figure size 1200x600 with 0 Axes>"
      ]
     },
     "metadata": {},
     "output_type": "display_data"
    },
    {
     "data": {
      "text/plain": [
       "<Figure size 1200x600 with 0 Axes>"
      ]
     },
     "metadata": {},
     "output_type": "display_data"
    },
    {
     "data": {
      "text/plain": [
       "<Figure size 1200x600 with 0 Axes>"
      ]
     },
     "metadata": {},
     "output_type": "display_data"
    },
    {
     "data": {
      "text/plain": [
       "<Figure size 1200x600 with 0 Axes>"
      ]
     },
     "metadata": {},
     "output_type": "display_data"
    },
    {
     "data": {
      "text/plain": [
       "<Figure size 1200x600 with 0 Axes>"
      ]
     },
     "metadata": {},
     "output_type": "display_data"
    },
    {
     "data": {
      "text/plain": [
       "<Figure size 1200x600 with 0 Axes>"
      ]
     },
     "metadata": {},
     "output_type": "display_data"
    },
    {
     "data": {
      "text/plain": [
       "<Figure size 1200x600 with 0 Axes>"
      ]
     },
     "metadata": {},
     "output_type": "display_data"
    },
    {
     "data": {
      "text/plain": [
       "<Figure size 1200x600 with 0 Axes>"
      ]
     },
     "metadata": {},
     "output_type": "display_data"
    },
    {
     "data": {
      "text/plain": [
       "<Figure size 1200x600 with 0 Axes>"
      ]
     },
     "metadata": {},
     "output_type": "display_data"
    },
    {
     "data": {
      "text/plain": [
       "<Figure size 1200x600 with 0 Axes>"
      ]
     },
     "metadata": {},
     "output_type": "display_data"
    },
    {
     "data": {
      "text/plain": [
       "<Figure size 1200x600 with 0 Axes>"
      ]
     },
     "metadata": {},
     "output_type": "display_data"
    },
    {
     "data": {
      "text/plain": [
       "<Figure size 1200x600 with 0 Axes>"
      ]
     },
     "metadata": {},
     "output_type": "display_data"
    },
    {
     "data": {
      "text/plain": [
       "<Figure size 1200x600 with 0 Axes>"
      ]
     },
     "metadata": {},
     "output_type": "display_data"
    },
    {
     "data": {
      "text/plain": [
       "<Figure size 1200x600 with 0 Axes>"
      ]
     },
     "metadata": {},
     "output_type": "display_data"
    },
    {
     "data": {
      "text/plain": [
       "<Figure size 1200x600 with 0 Axes>"
      ]
     },
     "metadata": {},
     "output_type": "display_data"
    },
    {
     "data": {
      "text/plain": [
       "<Figure size 1200x600 with 0 Axes>"
      ]
     },
     "metadata": {},
     "output_type": "display_data"
    },
    {
     "data": {
      "text/plain": [
       "<Figure size 1200x600 with 0 Axes>"
      ]
     },
     "metadata": {},
     "output_type": "display_data"
    },
    {
     "data": {
      "text/plain": [
       "<Figure size 1200x600 with 0 Axes>"
      ]
     },
     "metadata": {},
     "output_type": "display_data"
    },
    {
     "data": {
      "text/plain": [
       "<Figure size 1200x600 with 0 Axes>"
      ]
     },
     "metadata": {},
     "output_type": "display_data"
    },
    {
     "data": {
      "text/plain": [
       "<Figure size 1200x600 with 0 Axes>"
      ]
     },
     "metadata": {},
     "output_type": "display_data"
    },
    {
     "data": {
      "text/plain": [
       "<Figure size 1200x600 with 0 Axes>"
      ]
     },
     "metadata": {},
     "output_type": "display_data"
    },
    {
     "data": {
      "text/plain": [
       "<Figure size 1200x600 with 0 Axes>"
      ]
     },
     "metadata": {},
     "output_type": "display_data"
    },
    {
     "data": {
      "text/plain": [
       "<Figure size 1200x600 with 0 Axes>"
      ]
     },
     "metadata": {},
     "output_type": "display_data"
    },
    {
     "data": {
      "text/plain": [
       "<Figure size 1200x600 with 0 Axes>"
      ]
     },
     "metadata": {},
     "output_type": "display_data"
    },
    {
     "data": {
      "text/plain": [
       "<Figure size 1200x600 with 0 Axes>"
      ]
     },
     "metadata": {},
     "output_type": "display_data"
    },
    {
     "data": {
      "text/plain": [
       "<Figure size 1200x600 with 0 Axes>"
      ]
     },
     "metadata": {},
     "output_type": "display_data"
    },
    {
     "data": {
      "text/plain": [
       "<Figure size 1200x600 with 0 Axes>"
      ]
     },
     "metadata": {},
     "output_type": "display_data"
    },
    {
     "data": {
      "text/plain": [
       "<Figure size 1200x600 with 0 Axes>"
      ]
     },
     "metadata": {},
     "output_type": "display_data"
    },
    {
     "data": {
      "text/plain": [
       "<Figure size 1200x600 with 0 Axes>"
      ]
     },
     "metadata": {},
     "output_type": "display_data"
    },
    {
     "data": {
      "text/plain": [
       "<Figure size 1200x600 with 0 Axes>"
      ]
     },
     "metadata": {},
     "output_type": "display_data"
    },
    {
     "data": {
      "text/plain": [
       "<Figure size 1200x600 with 0 Axes>"
      ]
     },
     "metadata": {},
     "output_type": "display_data"
    },
    {
     "data": {
      "text/plain": [
       "<Figure size 1200x600 with 0 Axes>"
      ]
     },
     "metadata": {},
     "output_type": "display_data"
    },
    {
     "data": {
      "text/plain": [
       "<Figure size 1200x600 with 0 Axes>"
      ]
     },
     "metadata": {},
     "output_type": "display_data"
    },
    {
     "data": {
      "text/plain": [
       "<Figure size 1200x600 with 0 Axes>"
      ]
     },
     "metadata": {},
     "output_type": "display_data"
    },
    {
     "data": {
      "text/plain": [
       "<Figure size 1200x600 with 0 Axes>"
      ]
     },
     "metadata": {},
     "output_type": "display_data"
    },
    {
     "data": {
      "text/plain": [
       "<Figure size 1200x600 with 0 Axes>"
      ]
     },
     "metadata": {},
     "output_type": "display_data"
    },
    {
     "data": {
      "text/plain": [
       "<Figure size 1200x600 with 0 Axes>"
      ]
     },
     "metadata": {},
     "output_type": "display_data"
    },
    {
     "data": {
      "text/plain": [
       "<Figure size 1200x600 with 0 Axes>"
      ]
     },
     "metadata": {},
     "output_type": "display_data"
    },
    {
     "data": {
      "text/plain": [
       "<Figure size 1200x600 with 0 Axes>"
      ]
     },
     "metadata": {},
     "output_type": "display_data"
    },
    {
     "data": {
      "text/plain": [
       "<Figure size 1200x600 with 0 Axes>"
      ]
     },
     "metadata": {},
     "output_type": "display_data"
    },
    {
     "data": {
      "text/plain": [
       "<Figure size 1200x600 with 0 Axes>"
      ]
     },
     "metadata": {},
     "output_type": "display_data"
    },
    {
     "data": {
      "text/plain": [
       "<Figure size 1200x600 with 0 Axes>"
      ]
     },
     "metadata": {},
     "output_type": "display_data"
    },
    {
     "data": {
      "text/plain": [
       "<Figure size 1200x600 with 0 Axes>"
      ]
     },
     "metadata": {},
     "output_type": "display_data"
    },
    {
     "data": {
      "text/plain": [
       "<Figure size 1200x600 with 0 Axes>"
      ]
     },
     "metadata": {},
     "output_type": "display_data"
    },
    {
     "data": {
      "text/plain": [
       "<Figure size 1200x600 with 0 Axes>"
      ]
     },
     "metadata": {},
     "output_type": "display_data"
    },
    {
     "data": {
      "text/plain": [
       "<Figure size 1200x600 with 0 Axes>"
      ]
     },
     "metadata": {},
     "output_type": "display_data"
    },
    {
     "data": {
      "text/plain": [
       "<Figure size 1200x600 with 0 Axes>"
      ]
     },
     "metadata": {},
     "output_type": "display_data"
    },
    {
     "data": {
      "text/plain": [
       "<Figure size 1200x600 with 0 Axes>"
      ]
     },
     "metadata": {},
     "output_type": "display_data"
    },
    {
     "data": {
      "text/plain": [
       "<Figure size 1200x600 with 0 Axes>"
      ]
     },
     "metadata": {},
     "output_type": "display_data"
    },
    {
     "data": {
      "text/plain": [
       "<Figure size 1200x600 with 0 Axes>"
      ]
     },
     "metadata": {},
     "output_type": "display_data"
    },
    {
     "data": {
      "text/plain": [
       "<Figure size 1200x600 with 0 Axes>"
      ]
     },
     "metadata": {},
     "output_type": "display_data"
    },
    {
     "data": {
      "text/plain": [
       "<Figure size 1200x600 with 0 Axes>"
      ]
     },
     "metadata": {},
     "output_type": "display_data"
    },
    {
     "data": {
      "text/plain": [
       "<Figure size 1200x600 with 0 Axes>"
      ]
     },
     "metadata": {},
     "output_type": "display_data"
    },
    {
     "data": {
      "text/plain": [
       "<Figure size 1200x600 with 0 Axes>"
      ]
     },
     "metadata": {},
     "output_type": "display_data"
    },
    {
     "data": {
      "text/plain": [
       "<Figure size 1200x600 with 0 Axes>"
      ]
     },
     "metadata": {},
     "output_type": "display_data"
    },
    {
     "data": {
      "text/plain": [
       "<Figure size 1200x600 with 0 Axes>"
      ]
     },
     "metadata": {},
     "output_type": "display_data"
    },
    {
     "data": {
      "text/plain": [
       "<Figure size 1200x600 with 0 Axes>"
      ]
     },
     "metadata": {},
     "output_type": "display_data"
    },
    {
     "data": {
      "text/plain": [
       "<Figure size 1200x600 with 0 Axes>"
      ]
     },
     "metadata": {},
     "output_type": "display_data"
    },
    {
     "data": {
      "text/plain": [
       "<Figure size 1200x600 with 0 Axes>"
      ]
     },
     "metadata": {},
     "output_type": "display_data"
    },
    {
     "data": {
      "text/plain": [
       "<Figure size 1200x600 with 0 Axes>"
      ]
     },
     "metadata": {},
     "output_type": "display_data"
    },
    {
     "data": {
      "text/plain": [
       "<Figure size 1200x600 with 0 Axes>"
      ]
     },
     "metadata": {},
     "output_type": "display_data"
    },
    {
     "data": {
      "text/plain": [
       "<Figure size 1200x600 with 0 Axes>"
      ]
     },
     "metadata": {},
     "output_type": "display_data"
    },
    {
     "data": {
      "text/plain": [
       "<Figure size 1200x600 with 0 Axes>"
      ]
     },
     "metadata": {},
     "output_type": "display_data"
    },
    {
     "data": {
      "text/plain": [
       "<Figure size 1200x600 with 0 Axes>"
      ]
     },
     "metadata": {},
     "output_type": "display_data"
    },
    {
     "data": {
      "text/plain": [
       "<Figure size 1200x600 with 0 Axes>"
      ]
     },
     "metadata": {},
     "output_type": "display_data"
    },
    {
     "data": {
      "text/plain": [
       "<Figure size 1200x600 with 0 Axes>"
      ]
     },
     "metadata": {},
     "output_type": "display_data"
    },
    {
     "data": {
      "text/plain": [
       "<Figure size 1200x600 with 0 Axes>"
      ]
     },
     "metadata": {},
     "output_type": "display_data"
    },
    {
     "data": {
      "text/plain": [
       "<Figure size 1200x600 with 0 Axes>"
      ]
     },
     "metadata": {},
     "output_type": "display_data"
    },
    {
     "data": {
      "text/plain": [
       "<Figure size 1200x600 with 0 Axes>"
      ]
     },
     "metadata": {},
     "output_type": "display_data"
    },
    {
     "data": {
      "text/plain": [
       "<Figure size 1200x600 with 0 Axes>"
      ]
     },
     "metadata": {},
     "output_type": "display_data"
    },
    {
     "data": {
      "text/plain": [
       "<Figure size 1200x600 with 0 Axes>"
      ]
     },
     "metadata": {},
     "output_type": "display_data"
    },
    {
     "data": {
      "text/plain": [
       "<Figure size 1200x600 with 0 Axes>"
      ]
     },
     "metadata": {},
     "output_type": "display_data"
    },
    {
     "data": {
      "text/plain": [
       "<Figure size 1200x600 with 0 Axes>"
      ]
     },
     "metadata": {},
     "output_type": "display_data"
    },
    {
     "data": {
      "text/plain": [
       "<Figure size 1200x600 with 0 Axes>"
      ]
     },
     "metadata": {},
     "output_type": "display_data"
    },
    {
     "data": {
      "text/plain": [
       "<Figure size 1200x600 with 0 Axes>"
      ]
     },
     "metadata": {},
     "output_type": "display_data"
    },
    {
     "data": {
      "text/plain": [
       "<Figure size 1200x600 with 0 Axes>"
      ]
     },
     "metadata": {},
     "output_type": "display_data"
    },
    {
     "data": {
      "text/plain": [
       "<Figure size 1200x600 with 0 Axes>"
      ]
     },
     "metadata": {},
     "output_type": "display_data"
    },
    {
     "data": {
      "text/plain": [
       "<Figure size 1200x600 with 0 Axes>"
      ]
     },
     "metadata": {},
     "output_type": "display_data"
    },
    {
     "data": {
      "text/plain": [
       "<Figure size 1200x600 with 0 Axes>"
      ]
     },
     "metadata": {},
     "output_type": "display_data"
    },
    {
     "data": {
      "text/plain": [
       "<Figure size 1200x600 with 0 Axes>"
      ]
     },
     "metadata": {},
     "output_type": "display_data"
    },
    {
     "data": {
      "text/plain": [
       "<Figure size 1200x600 with 0 Axes>"
      ]
     },
     "metadata": {},
     "output_type": "display_data"
    },
    {
     "data": {
      "text/plain": [
       "<Figure size 1200x600 with 0 Axes>"
      ]
     },
     "metadata": {},
     "output_type": "display_data"
    },
    {
     "data": {
      "text/plain": [
       "<Figure size 1200x600 with 0 Axes>"
      ]
     },
     "metadata": {},
     "output_type": "display_data"
    },
    {
     "data": {
      "text/plain": [
       "<Figure size 1200x600 with 0 Axes>"
      ]
     },
     "metadata": {},
     "output_type": "display_data"
    },
    {
     "data": {
      "text/plain": [
       "<Figure size 1200x600 with 0 Axes>"
      ]
     },
     "metadata": {},
     "output_type": "display_data"
    },
    {
     "data": {
      "text/plain": [
       "<Figure size 1200x600 with 0 Axes>"
      ]
     },
     "metadata": {},
     "output_type": "display_data"
    },
    {
     "data": {
      "text/plain": [
       "<Figure size 1200x600 with 0 Axes>"
      ]
     },
     "metadata": {},
     "output_type": "display_data"
    },
    {
     "data": {
      "text/plain": [
       "<Figure size 1200x600 with 0 Axes>"
      ]
     },
     "metadata": {},
     "output_type": "display_data"
    },
    {
     "data": {
      "text/plain": [
       "<Figure size 1200x600 with 0 Axes>"
      ]
     },
     "metadata": {},
     "output_type": "display_data"
    },
    {
     "data": {
      "text/plain": [
       "<Figure size 1200x600 with 0 Axes>"
      ]
     },
     "metadata": {},
     "output_type": "display_data"
    },
    {
     "data": {
      "text/plain": [
       "<Figure size 1200x600 with 0 Axes>"
      ]
     },
     "metadata": {},
     "output_type": "display_data"
    },
    {
     "data": {
      "text/plain": [
       "<Figure size 1200x600 with 0 Axes>"
      ]
     },
     "metadata": {},
     "output_type": "display_data"
    },
    {
     "data": {
      "text/plain": [
       "<Figure size 1200x600 with 0 Axes>"
      ]
     },
     "metadata": {},
     "output_type": "display_data"
    },
    {
     "data": {
      "text/plain": [
       "<Figure size 1200x600 with 0 Axes>"
      ]
     },
     "metadata": {},
     "output_type": "display_data"
    },
    {
     "data": {
      "text/plain": [
       "<Figure size 1200x600 with 0 Axes>"
      ]
     },
     "metadata": {},
     "output_type": "display_data"
    },
    {
     "data": {
      "text/plain": [
       "<Figure size 1200x600 with 0 Axes>"
      ]
     },
     "metadata": {},
     "output_type": "display_data"
    },
    {
     "data": {
      "text/plain": [
       "<Figure size 1200x600 with 0 Axes>"
      ]
     },
     "metadata": {},
     "output_type": "display_data"
    },
    {
     "data": {
      "text/plain": [
       "<Figure size 1200x600 with 0 Axes>"
      ]
     },
     "metadata": {},
     "output_type": "display_data"
    },
    {
     "data": {
      "text/plain": [
       "<Figure size 1200x600 with 0 Axes>"
      ]
     },
     "metadata": {},
     "output_type": "display_data"
    },
    {
     "data": {
      "text/plain": [
       "<Figure size 1200x600 with 0 Axes>"
      ]
     },
     "metadata": {},
     "output_type": "display_data"
    },
    {
     "data": {
      "text/plain": [
       "<Figure size 1200x600 with 0 Axes>"
      ]
     },
     "metadata": {},
     "output_type": "display_data"
    },
    {
     "data": {
      "text/plain": [
       "<Figure size 1200x600 with 0 Axes>"
      ]
     },
     "metadata": {},
     "output_type": "display_data"
    },
    {
     "data": {
      "text/plain": [
       "<Figure size 1200x600 with 0 Axes>"
      ]
     },
     "metadata": {},
     "output_type": "display_data"
    },
    {
     "data": {
      "text/plain": [
       "<Figure size 1200x600 with 0 Axes>"
      ]
     },
     "metadata": {},
     "output_type": "display_data"
    },
    {
     "data": {
      "text/plain": [
       "<Figure size 1200x600 with 0 Axes>"
      ]
     },
     "metadata": {},
     "output_type": "display_data"
    },
    {
     "data": {
      "text/plain": [
       "<Figure size 1200x600 with 0 Axes>"
      ]
     },
     "metadata": {},
     "output_type": "display_data"
    },
    {
     "data": {
      "text/plain": [
       "<Figure size 1200x600 with 0 Axes>"
      ]
     },
     "metadata": {},
     "output_type": "display_data"
    },
    {
     "data": {
      "text/plain": [
       "<Figure size 1200x600 with 0 Axes>"
      ]
     },
     "metadata": {},
     "output_type": "display_data"
    },
    {
     "data": {
      "text/plain": [
       "<Figure size 1200x600 with 0 Axes>"
      ]
     },
     "metadata": {},
     "output_type": "display_data"
    },
    {
     "data": {
      "text/plain": [
       "<Figure size 1200x600 with 0 Axes>"
      ]
     },
     "metadata": {},
     "output_type": "display_data"
    },
    {
     "data": {
      "text/plain": [
       "<Figure size 1200x600 with 0 Axes>"
      ]
     },
     "metadata": {},
     "output_type": "display_data"
    },
    {
     "data": {
      "text/plain": [
       "<Figure size 1200x600 with 0 Axes>"
      ]
     },
     "metadata": {},
     "output_type": "display_data"
    },
    {
     "data": {
      "text/plain": [
       "<Figure size 1200x600 with 0 Axes>"
      ]
     },
     "metadata": {},
     "output_type": "display_data"
    },
    {
     "data": {
      "text/plain": [
       "<Figure size 1200x600 with 0 Axes>"
      ]
     },
     "metadata": {},
     "output_type": "display_data"
    },
    {
     "data": {
      "text/plain": [
       "<Figure size 1200x600 with 0 Axes>"
      ]
     },
     "metadata": {},
     "output_type": "display_data"
    },
    {
     "data": {
      "text/plain": [
       "<Figure size 1200x600 with 0 Axes>"
      ]
     },
     "metadata": {},
     "output_type": "display_data"
    },
    {
     "data": {
      "text/plain": [
       "<Figure size 1200x600 with 0 Axes>"
      ]
     },
     "metadata": {},
     "output_type": "display_data"
    },
    {
     "data": {
      "text/plain": [
       "<Figure size 1200x600 with 0 Axes>"
      ]
     },
     "metadata": {},
     "output_type": "display_data"
    },
    {
     "data": {
      "text/plain": [
       "<Figure size 1200x600 with 0 Axes>"
      ]
     },
     "metadata": {},
     "output_type": "display_data"
    },
    {
     "data": {
      "text/plain": [
       "<Figure size 1200x600 with 0 Axes>"
      ]
     },
     "metadata": {},
     "output_type": "display_data"
    },
    {
     "data": {
      "text/plain": [
       "<Figure size 1200x600 with 0 Axes>"
      ]
     },
     "metadata": {},
     "output_type": "display_data"
    },
    {
     "data": {
      "text/plain": [
       "<Figure size 1200x600 with 0 Axes>"
      ]
     },
     "metadata": {},
     "output_type": "display_data"
    },
    {
     "data": {
      "text/plain": [
       "<Figure size 1200x600 with 0 Axes>"
      ]
     },
     "metadata": {},
     "output_type": "display_data"
    },
    {
     "data": {
      "text/plain": [
       "<Figure size 1200x600 with 0 Axes>"
      ]
     },
     "metadata": {},
     "output_type": "display_data"
    },
    {
     "data": {
      "text/plain": [
       "<Figure size 1200x600 with 0 Axes>"
      ]
     },
     "metadata": {},
     "output_type": "display_data"
    },
    {
     "data": {
      "text/plain": [
       "<Figure size 1200x600 with 0 Axes>"
      ]
     },
     "metadata": {},
     "output_type": "display_data"
    },
    {
     "data": {
      "text/plain": [
       "<Figure size 1200x600 with 0 Axes>"
      ]
     },
     "metadata": {},
     "output_type": "display_data"
    },
    {
     "data": {
      "text/plain": [
       "<Figure size 1200x600 with 0 Axes>"
      ]
     },
     "metadata": {},
     "output_type": "display_data"
    },
    {
     "data": {
      "text/plain": [
       "<Figure size 1200x600 with 0 Axes>"
      ]
     },
     "metadata": {},
     "output_type": "display_data"
    },
    {
     "data": {
      "text/plain": [
       "<Figure size 1200x600 with 0 Axes>"
      ]
     },
     "metadata": {},
     "output_type": "display_data"
    },
    {
     "data": {
      "text/plain": [
       "<Figure size 1200x600 with 0 Axes>"
      ]
     },
     "metadata": {},
     "output_type": "display_data"
    },
    {
     "data": {
      "text/plain": [
       "<Figure size 1200x600 with 0 Axes>"
      ]
     },
     "metadata": {},
     "output_type": "display_data"
    },
    {
     "data": {
      "text/plain": [
       "<Figure size 1200x600 with 0 Axes>"
      ]
     },
     "metadata": {},
     "output_type": "display_data"
    },
    {
     "data": {
      "text/plain": [
       "<Figure size 1200x600 with 0 Axes>"
      ]
     },
     "metadata": {},
     "output_type": "display_data"
    },
    {
     "data": {
      "text/plain": [
       "<Figure size 1200x600 with 0 Axes>"
      ]
     },
     "metadata": {},
     "output_type": "display_data"
    },
    {
     "data": {
      "text/plain": [
       "<Figure size 1200x600 with 0 Axes>"
      ]
     },
     "metadata": {},
     "output_type": "display_data"
    },
    {
     "data": {
      "text/plain": [
       "<Figure size 1200x600 with 0 Axes>"
      ]
     },
     "metadata": {},
     "output_type": "display_data"
    },
    {
     "data": {
      "text/plain": [
       "<Figure size 1200x600 with 0 Axes>"
      ]
     },
     "metadata": {},
     "output_type": "display_data"
    },
    {
     "data": {
      "text/plain": [
       "<Figure size 1200x600 with 0 Axes>"
      ]
     },
     "metadata": {},
     "output_type": "display_data"
    },
    {
     "data": {
      "text/plain": [
       "<Figure size 1200x600 with 0 Axes>"
      ]
     },
     "metadata": {},
     "output_type": "display_data"
    },
    {
     "data": {
      "text/plain": [
       "<Figure size 1200x600 with 0 Axes>"
      ]
     },
     "metadata": {},
     "output_type": "display_data"
    },
    {
     "data": {
      "text/plain": [
       "<Figure size 1200x600 with 0 Axes>"
      ]
     },
     "metadata": {},
     "output_type": "display_data"
    },
    {
     "data": {
      "text/plain": [
       "<Figure size 1200x600 with 0 Axes>"
      ]
     },
     "metadata": {},
     "output_type": "display_data"
    },
    {
     "data": {
      "text/plain": [
       "<Figure size 1200x600 with 0 Axes>"
      ]
     },
     "metadata": {},
     "output_type": "display_data"
    },
    {
     "data": {
      "text/plain": [
       "<Figure size 1200x600 with 0 Axes>"
      ]
     },
     "metadata": {},
     "output_type": "display_data"
    },
    {
     "data": {
      "text/plain": [
       "<Figure size 1200x600 with 0 Axes>"
      ]
     },
     "metadata": {},
     "output_type": "display_data"
    },
    {
     "data": {
      "text/plain": [
       "<Figure size 1200x600 with 0 Axes>"
      ]
     },
     "metadata": {},
     "output_type": "display_data"
    },
    {
     "data": {
      "text/plain": [
       "<Figure size 1200x600 with 0 Axes>"
      ]
     },
     "metadata": {},
     "output_type": "display_data"
    },
    {
     "data": {
      "text/plain": [
       "<Figure size 1200x600 with 0 Axes>"
      ]
     },
     "metadata": {},
     "output_type": "display_data"
    },
    {
     "data": {
      "text/plain": [
       "<Figure size 1200x600 with 0 Axes>"
      ]
     },
     "metadata": {},
     "output_type": "display_data"
    },
    {
     "data": {
      "text/plain": [
       "<Figure size 1200x600 with 0 Axes>"
      ]
     },
     "metadata": {},
     "output_type": "display_data"
    },
    {
     "data": {
      "text/plain": [
       "<Figure size 1200x600 with 0 Axes>"
      ]
     },
     "metadata": {},
     "output_type": "display_data"
    },
    {
     "data": {
      "text/plain": [
       "<Figure size 1200x600 with 0 Axes>"
      ]
     },
     "metadata": {},
     "output_type": "display_data"
    },
    {
     "data": {
      "text/plain": [
       "<Figure size 1200x600 with 0 Axes>"
      ]
     },
     "metadata": {},
     "output_type": "display_data"
    },
    {
     "data": {
      "text/plain": [
       "<Figure size 1200x600 with 0 Axes>"
      ]
     },
     "metadata": {},
     "output_type": "display_data"
    },
    {
     "data": {
      "text/plain": [
       "<Figure size 1200x600 with 0 Axes>"
      ]
     },
     "metadata": {},
     "output_type": "display_data"
    },
    {
     "data": {
      "text/plain": [
       "<Figure size 1200x600 with 0 Axes>"
      ]
     },
     "metadata": {},
     "output_type": "display_data"
    },
    {
     "data": {
      "text/plain": [
       "<Figure size 1200x600 with 0 Axes>"
      ]
     },
     "metadata": {},
     "output_type": "display_data"
    },
    {
     "data": {
      "text/plain": [
       "<Figure size 1200x600 with 0 Axes>"
      ]
     },
     "metadata": {},
     "output_type": "display_data"
    },
    {
     "data": {
      "text/plain": [
       "<Figure size 1200x600 with 0 Axes>"
      ]
     },
     "metadata": {},
     "output_type": "display_data"
    },
    {
     "data": {
      "text/plain": [
       "<Figure size 1200x600 with 0 Axes>"
      ]
     },
     "metadata": {},
     "output_type": "display_data"
    },
    {
     "data": {
      "text/plain": [
       "<Figure size 1200x600 with 0 Axes>"
      ]
     },
     "metadata": {},
     "output_type": "display_data"
    },
    {
     "data": {
      "text/plain": [
       "<Figure size 1200x600 with 0 Axes>"
      ]
     },
     "metadata": {},
     "output_type": "display_data"
    },
    {
     "data": {
      "text/plain": [
       "<Figure size 1200x600 with 0 Axes>"
      ]
     },
     "metadata": {},
     "output_type": "display_data"
    },
    {
     "data": {
      "text/plain": [
       "<Figure size 1200x600 with 0 Axes>"
      ]
     },
     "metadata": {},
     "output_type": "display_data"
    },
    {
     "data": {
      "text/plain": [
       "<Figure size 1200x600 with 0 Axes>"
      ]
     },
     "metadata": {},
     "output_type": "display_data"
    },
    {
     "data": {
      "text/plain": [
       "<Figure size 1200x600 with 0 Axes>"
      ]
     },
     "metadata": {},
     "output_type": "display_data"
    },
    {
     "data": {
      "text/plain": [
       "<Figure size 1200x600 with 0 Axes>"
      ]
     },
     "metadata": {},
     "output_type": "display_data"
    },
    {
     "data": {
      "text/plain": [
       "<Figure size 1200x600 with 0 Axes>"
      ]
     },
     "metadata": {},
     "output_type": "display_data"
    },
    {
     "data": {
      "text/plain": [
       "<Figure size 1200x600 with 0 Axes>"
      ]
     },
     "metadata": {},
     "output_type": "display_data"
    },
    {
     "data": {
      "text/plain": [
       "<Figure size 1200x600 with 0 Axes>"
      ]
     },
     "metadata": {},
     "output_type": "display_data"
    },
    {
     "data": {
      "text/plain": [
       "<Figure size 1200x600 with 0 Axes>"
      ]
     },
     "metadata": {},
     "output_type": "display_data"
    },
    {
     "data": {
      "text/plain": [
       "<Figure size 1200x600 with 0 Axes>"
      ]
     },
     "metadata": {},
     "output_type": "display_data"
    },
    {
     "data": {
      "text/plain": [
       "<Figure size 1200x600 with 0 Axes>"
      ]
     },
     "metadata": {},
     "output_type": "display_data"
    },
    {
     "data": {
      "text/plain": [
       "<Figure size 1200x600 with 0 Axes>"
      ]
     },
     "metadata": {},
     "output_type": "display_data"
    },
    {
     "data": {
      "text/plain": [
       "<Figure size 1200x600 with 0 Axes>"
      ]
     },
     "metadata": {},
     "output_type": "display_data"
    },
    {
     "data": {
      "text/plain": [
       "<Figure size 1200x600 with 0 Axes>"
      ]
     },
     "metadata": {},
     "output_type": "display_data"
    },
    {
     "data": {
      "text/plain": [
       "<Figure size 1200x600 with 0 Axes>"
      ]
     },
     "metadata": {},
     "output_type": "display_data"
    },
    {
     "data": {
      "text/plain": [
       "<Figure size 1200x600 with 0 Axes>"
      ]
     },
     "metadata": {},
     "output_type": "display_data"
    },
    {
     "data": {
      "text/plain": [
       "<Figure size 1200x600 with 0 Axes>"
      ]
     },
     "metadata": {},
     "output_type": "display_data"
    },
    {
     "data": {
      "text/plain": [
       "<Figure size 1200x600 with 0 Axes>"
      ]
     },
     "metadata": {},
     "output_type": "display_data"
    },
    {
     "data": {
      "text/plain": [
       "<Figure size 1200x600 with 0 Axes>"
      ]
     },
     "metadata": {},
     "output_type": "display_data"
    },
    {
     "data": {
      "text/plain": [
       "<Figure size 1200x600 with 0 Axes>"
      ]
     },
     "metadata": {},
     "output_type": "display_data"
    },
    {
     "data": {
      "text/plain": [
       "<Figure size 1200x600 with 0 Axes>"
      ]
     },
     "metadata": {},
     "output_type": "display_data"
    },
    {
     "data": {
      "text/plain": [
       "<Figure size 1200x600 with 0 Axes>"
      ]
     },
     "metadata": {},
     "output_type": "display_data"
    },
    {
     "data": {
      "text/plain": [
       "<Figure size 1200x600 with 0 Axes>"
      ]
     },
     "metadata": {},
     "output_type": "display_data"
    },
    {
     "data": {
      "text/plain": [
       "<Figure size 1200x600 with 0 Axes>"
      ]
     },
     "metadata": {},
     "output_type": "display_data"
    },
    {
     "data": {
      "text/plain": [
       "<Figure size 1200x600 with 0 Axes>"
      ]
     },
     "metadata": {},
     "output_type": "display_data"
    },
    {
     "data": {
      "text/plain": [
       "<Figure size 1200x600 with 0 Axes>"
      ]
     },
     "metadata": {},
     "output_type": "display_data"
    },
    {
     "data": {
      "text/plain": [
       "<Figure size 1200x600 with 0 Axes>"
      ]
     },
     "metadata": {},
     "output_type": "display_data"
    },
    {
     "data": {
      "text/plain": [
       "<Figure size 1200x600 with 0 Axes>"
      ]
     },
     "metadata": {},
     "output_type": "display_data"
    },
    {
     "data": {
      "text/plain": [
       "<Figure size 1200x600 with 0 Axes>"
      ]
     },
     "metadata": {},
     "output_type": "display_data"
    },
    {
     "data": {
      "text/plain": [
       "<Figure size 1200x600 with 0 Axes>"
      ]
     },
     "metadata": {},
     "output_type": "display_data"
    },
    {
     "data": {
      "text/plain": [
       "<Figure size 1200x600 with 0 Axes>"
      ]
     },
     "metadata": {},
     "output_type": "display_data"
    },
    {
     "data": {
      "text/plain": [
       "<Figure size 1200x600 with 0 Axes>"
      ]
     },
     "metadata": {},
     "output_type": "display_data"
    }
   ],
   "source": [
    "for layer in range(5):\n",
    "    for e in range(101):\n",
    "        plt.figure(figsize = (12,6))\n",
    "        plt.ylim(0.95, 1.12)\n",
    "        plt.title(f'plot of layer {layer} with a predictive model teached after the 40th iteration')\n",
    "        plt.xlim(-0.5, 100.5)\n",
    "        #plt.xticks(np.array(range(100))+width/2)\n",
    "        plot_bar(e, layer)\n",
    "        plt.ylabel('usefulness')\n",
    "        plt.xlabel('neuron index')\n",
    "        plt.savefig(f'usefulness_sorted/image_of_epoch_{e:03}_layer_{layer}.png')\n",
    "        plt.clf()\n",
    "\n",
    "\n"
   ]
  },
  {
   "cell_type": "code",
   "execution_count": 75,
   "metadata": {},
   "outputs": [
    {
     "data": {
      "image/png": "[encoded data removed]",
      "text/plain": [
       "<Figure size 640x480 with 1 Axes>"
      ]
     },
     "metadata": {},
     "output_type": "display_data"
    }
   ],
   "source": [
    "ani = animation.FuncAnimation(fig, plot_bar, frames=101, repeat=True)\n",
    "Writer = animation.writers['ffmpeg']\n",
    "writer = Writer(fps=10, metadata=dict(artist='Me'), bitrate=1800)\n",
    "', writer=writer)\n",
    "    \n",
    "\n",
    "# ani.save('movie.mp4')"
   ]
  },
  {
   "cell_type": "code",
   "execution_count": 40,
   "metadata": {},
   "outputs": [
    {
     "data": {
      "image/png": "[encoded data removed]",
      "text/plain": [
       "<Figure size 640x480 with 1 Axes>"
      ]
     },
     "metadata": {},
     "output_type": "display_data"
    }
   ],
   "source": [
    "import numpy as np\n",
    "\n",
    "\n",
    "import matplotlib.pyplot as plt\n",
    "\n",
    "cm = 10\n",
    "inch = 2.5\n",
    "N = 5\n",
    "menMeans = (150*cm, 160*cm, 146*cm, 172*cm, 155*cm)\n",
    "menStd = (20*cm, 30*cm, 32*cm, 10*cm, 20*cm)\n",
    "\n",
    "fig, ax = plt.subplots()\n",
    "\n",
    "ind = np.arange(N)    # the x locations for the groups\n",
    "width = 0.35         # the width of the bars\n",
    "p1 = ax.bar(ind, menMeans, width, bottom=0*cm, yerr=menStd)\n",
    "\n",
    "\n",
    "womenMeans = (145*cm, 149*cm, 172*cm, 165*cm, 200*cm)\n",
    "womenStd = (30*cm, 25*cm, 20*cm, 31*cm, 22*cm)\n",
    "p2 = ax.bar(ind + width, womenMeans, width, bottom=0*cm, yerr=womenStd)\n",
    "\n",
    "ax.set_title('Scores by group and gender')\n",
    "ax.set_xticks(ind + width / 2)\n",
    "ax.set_xticklabels(('G1', 'G2', 'G3', 'G4', 'G5'))\n",
    "\n",
    "ax.legend((p1[0], p2[0]), ('Men', 'Women'))\n",
    "ax.yaxis.set_units(inch)\n",
    "ax.autoscale_view()\n",
    "\n",
    "plt.show()"
   ]
  },
  {
   "cell_type": "code",
   "execution_count": null,
   "metadata": {},
   "outputs": [],
   "source": []
  }
 ],
 "metadata": {
  "kernelspec": {
   "display_name": "Python 3",
   "language": "python",
   "name": "python3"
  },
  "language_info": {
   "codemirror_mode": {
    "name": "ipython",
    "version": 3
   },
   "file_extension": ".py",
   "mimetype": "text/x-python",
   "name": "python",
   "nbconvert_exporter": "python",
   "pygments_lexer": "ipython3",
   "version": "3.7.4"
  }
 },
 "nbformat": 4,
 "nbformat_minor": 4
}