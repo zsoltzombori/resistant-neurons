{
 "cells": [
  {
   "cell_type": "code",
   "execution_count": 41,
   "metadata": {},
   "outputs": [],
   "source": [
    "import json\n",
    "import numpy as np\n",
    "import matplotlib.pyplot as plt\n",
    "import os\n",
    "import itertools\n",
    "import sklearn\n",
    "import pandas as pd\n",
    "import scipy.stats as stats"
   ]
  },
  {
   "cell_type": "code",
   "execution_count": 2,
   "metadata": {},
   "outputs": [],
   "source": [
    "neuron_data = {}\n",
    "\n"
   ]
  },
  {
   "cell_type": "code",
   "execution_count": 3,
   "metadata": {},
   "outputs": [],
   "source": [
    "files = os.listdir('../neuron_logs/train_data')"
   ]
  },
  {
   "cell_type": "code",
   "execution_count": 170,
   "metadata": {},
   "outputs": [
    {
     "name": "stdout",
     "output_type": "stream",
     "text": [
      "1.6581112265586857\n"
     ]
    }
   ],
   "source": [
    "with open(os.path.join('..', 'neuron_logs', 'train_data', 'output_20190923-192628.json'), 'r') as f:\n",
    "    neuron_data = json.load(f)\n",
    "\n",
    "target = 'usefulness_loss'\n",
    "\n",
    "\n",
    "target_thr = [neuron_data[e][neuron][target] for neuron in neuron_data['0'] for e in neuron_data  if e != '0' and ' ' in neuron]\n",
    "\n",
    "threshold = np.percentile(target_thr, 90) # median\n",
    "\n",
    "print(threshold)\n",
    "\n"
   ]
  },
  {
   "cell_type": "code",
   "execution_count": 171,
   "metadata": {},
   "outputs": [
    {
     "name": "stdout",
     "output_type": "stream",
     "text": [
      "dict_keys(['activations', 'usefulness_loss', 'usefulness_acc', 'depth', 'inverse_depth', 'width', 'input_weights', 'output_weights', 'reg_loss_in_layer'])\n"
     ]
    },
    {
     "data": {
      "text/plain": [
       "(10,)"
      ]
     },
     "execution_count": 171,
     "metadata": {},
     "output_type": "execute_result"
    }
   ],
   "source": [
    "print(neuron_data['1']['0 0'].keys())\n",
    "np.array(neuron_data['1']['3 0']['output_weights']).shape"
   ]
  },
  {
   "cell_type": "code",
   "execution_count": 172,
   "metadata": {},
   "outputs": [],
   "source": [
    "def reduce_to_statistics(activations, labels, debug=False):\n",
    "    sorted_data = []\n",
    "    for i in range(10): #hardcoded MOFO\n",
    "        sorted_data += [[]]\n",
    "    for i, a in zip(labels, activations):\n",
    "        sorted_data[i] += [a]\n",
    "    if debug:\n",
    "        return(sorted_data)\n",
    "    statistics = []\n",
    "    for ar in sorted_data:\n",
    "        curr_stats = stats.describe(ar)\n",
    "        statistics += [curr_stats.mean, curr_stats.variance, curr_stats.skewness, curr_stats.kurtosis, curr_stats.minmax[0],\n",
    "                       curr_stats.minmax[1], curr_stats.nobs]\n",
    "        #print(statistics)\n",
    "    return(statistics)"
   ]
  },
  {
   "cell_type": "code",
   "execution_count": 173,
   "metadata": {},
   "outputs": [],
   "source": [
    "train, test = [], []\n",
    "for i, filename in enumerate(files[:2]):\n",
    "    with open(os.path.join('..', 'neuron_logs', 'train_data', filename), 'r') as f:\n",
    "        neuron_data = json.load(f)\n",
    "    if i == 10:\n",
    "        break\n",
    "    for e in neuron_data.keys():\n",
    "        if e == '0' or int(e) > 3:\n",
    "            continue\n",
    "        for neuron in neuron_data[e]:\n",
    "            if ' ' not in neuron:\n",
    "                continue\n",
    "            current_data = neuron_data[e][neuron]\n",
    "            important_features = []\n",
    "            #important_features += reduce_to_statistics(current_data['activations'], neuron_data[e]['original_labels'])\n",
    "            important_features = current_data['activations'][:500]\n",
    "            important_features += [current_data['depth']]\n",
    "            important_features += [current_data['inverse_depth']]\n",
    "            important_features += [current_data['width']]\n",
    "            # important_features += [current_data['input_weights']]\n",
    "            # important_features += [current_data['output_weights']]\n",
    "            important_features += [current_data['reg_loss_in_layer']]\n",
    "            train += [important_features]\n",
    "            test += [int(current_data[target] > threshold)]"
   ]
  },
  {
   "cell_type": "code",
   "execution_count": null,
   "metadata": {},
   "outputs": [],
   "source": []
  },
  {
   "cell_type": "code",
   "execution_count": 174,
   "metadata": {},
   "outputs": [],
   "source": [
    "train = np.array(train)\n",
    "test = np.array(test)"
   ]
  },
  {
   "cell_type": "code",
   "execution_count": 175,
   "metadata": {},
   "outputs": [
    {
     "name": "stdout",
     "output_type": "stream",
     "text": [
      "(720, 504) (720,)\n"
     ]
    }
   ],
   "source": [
    "print(train.shape, test.shape)"
   ]
  },
  {
   "cell_type": "code",
   "execution_count": 176,
   "metadata": {},
   "outputs": [
    {
     "name": "stdout",
     "output_type": "stream",
     "text": [
      "(576, 504) (144, 504) (576,) (144,)\n"
     ]
    },
    {
     "data": {
      "text/plain": [
       "0.9236111111111112"
      ]
     },
     "execution_count": 176,
     "metadata": {},
     "output_type": "execute_result"
    }
   ],
   "source": [
    "from sklearn import svm\n",
    "from sklearn.model_selection import train_test_split\n",
    "from sklearn.neural_network import MLPClassifier\n",
    "from sklearn.linear_model import LogisticRegression\n",
    "X_train, X_test, y_train, y_test = train_test_split(train, test, test_size=0.2, random_state=0)\n",
    "print(f\"{X_train.shape} {X_test.shape} {y_train.shape} {y_test.shape}\")\n",
    "clf = LogisticRegression(solver='liblinear').fit(X_train, y_train)\n",
    "clf.score(X_test, y_test) "
   ]
  },
  {
   "cell_type": "code",
   "execution_count": null,
   "metadata": {},
   "outputs": [],
   "source": []
  },
  {
   "cell_type": "code",
   "execution_count": 114,
   "metadata": {},
   "outputs": [
    {
     "data": {
      "text/plain": [
       "array([[-1.32120456e-01, -5.46054235e-01, -2.13130681e-01,\n",
       "        -2.66430547e-01, -1.26884871e-01,  2.34496659e-01,\n",
       "        -7.86217115e-04,  2.41716901e-01, -3.77585067e-02,\n",
       "         5.40149746e-01, -1.53413039e-01, -2.65328278e-01,\n",
       "         3.58518707e-01, -8.44132130e-04,  2.60591895e-01,\n",
       "         2.43013111e-02,  3.02438517e-01,  1.03921110e-01,\n",
       "        -4.03443389e-01,  5.02036882e-01, -7.85423736e-04,\n",
       "         3.10451153e-01,  8.39404810e-03,  1.41849603e-01,\n",
       "        -3.36392453e-01, -3.52743438e-01,  2.14508419e-01,\n",
       "        -8.17157995e-04,  9.96351709e-02, -2.82241183e-01,\n",
       "         2.01286273e-01,  4.77277083e-02, -7.80988275e-01,\n",
       "        -9.35321838e-02, -7.79870339e-04,  1.74389187e-01,\n",
       "        -3.16228875e-01, -1.03751621e-01, -3.65055692e-01,\n",
       "         4.97258715e-01, -9.90957524e-02, -7.25921943e-04,\n",
       "         1.33640353e-01, -2.93801411e-01,  4.00054177e-01,\n",
       "         4.69141094e-01,  6.41159197e-02,  7.47577829e-02,\n",
       "        -7.67176493e-04,  2.51085036e-01, -5.56680525e-01,\n",
       "        -2.00083152e-02,  4.93194906e-01, -3.35548747e-01,\n",
       "        -9.22709497e-02, -8.64759456e-04,  2.19527619e-01,\n",
       "        -1.15522504e-01,  1.56143435e-01, -1.12073083e-01,\n",
       "        -3.16762113e-01,  2.36750433e-01, -8.00497486e-04,\n",
       "         2.08351805e-01, -2.31598814e-01,  7.41075245e-04,\n",
       "        -4.70800822e-01, -1.68230532e-01,  1.25346084e-01,\n",
       "        -7.62416449e-04, -1.34802813e+00,  1.34802575e+00,\n",
       "        -3.23327493e-02, -1.08528466e+00]])"
      ]
     },
     "execution_count": 114,
     "metadata": {},
     "output_type": "execute_result"
    }
   ],
   "source": [
    "clf.coef_"
   ]
  },
  {
   "cell_type": "code",
   "execution_count": 85,
   "metadata": {},
   "outputs": [
    {
     "data": {
      "text/plain": [
       "0.8166666666666667"
      ]
     },
     "execution_count": 85,
     "metadata": {},
     "output_type": "execute_result"
    }
   ],
   "source": [
    "clf.score(X_train, y_train)"
   ]
  },
  {
   "cell_type": "code",
   "execution_count": 86,
   "metadata": {},
   "outputs": [
    {
     "data": {
      "text/plain": [
       "array([[35, 14, 24, 42,  3, 18, 33, 19, 34, 37, 27, 17, 21, 32, 39,  7,\n",
       "         8, 25, 36, 15, 11, 28, 16, 38, 20,  4, 23, 26, 30, 41,  2, 10,\n",
       "        22, 43, 13, 12, 31,  0, 29,  6,  5,  1,  9, 40]])"
      ]
     },
     "execution_count": 86,
     "metadata": {},
     "output_type": "execute_result"
    }
   ],
   "source": [
    "np.argsort(np.abs(clf.coef_))\n",
    "#clf.coef_[0][10000]"
   ]
  },
  {
   "cell_type": "code",
   "execution_count": 87,
   "metadata": {},
   "outputs": [
    {
     "data": {
      "text/plain": [
       "[1.673466264199148,\n",
       " 1.3931983786172248,\n",
       " 1.3609646495077448,\n",
       " 1.1808303679732206,\n",
       " 1.1084977995972152,\n",
       " 0.9625058495082788,\n",
       " 0.9609125906963265,\n",
       " 0.7002358099089452,\n",
       " 0.6696634105210421,\n",
       " 0.63849680047462,\n",
       " 0.629008764141674,\n",
       " 0.5894373317605294,\n",
       " 0.5693977247703768,\n",
       " 0.47111225503829623,\n",
       " 0.4442808664667496,\n",
       " 0.42520268106057557,\n",
       " 0.41281068253638475,\n",
       " 0.39163864847446556,\n",
       " 0.3416550359365741,\n",
       " 0.3362720697428224,\n",
       " 0.2946802342257904,\n",
       " 0.26832188463284673,\n",
       " 0.26450756974594153,\n",
       " 0.25760475854562825,\n",
       " 0.21260076918805906,\n",
       " 0.2097503730171995,\n",
       " 0.1967097259861429,\n",
       " 0.19566432377194068,\n",
       " 0.16881596047770064,\n",
       " 0.16486119572531133,\n",
       " 0.15627494051392007,\n",
       " 0.13172571879543218,\n",
       " 0.1243778090046361,\n",
       " 0.11257936997587963,\n",
       " 0.1111809763020016,\n",
       " 0.09736815703563934,\n",
       " 0.053079743535887874,\n",
       " 0.03797586326553398,\n",
       " 0.036017924305543965,\n",
       " 0.03340058342174826,\n",
       " 0.03094543126598155,\n",
       " 0.020224336219541426,\n",
       " 0.0193033911058047,\n",
       " 0.0017554394424272122]"
      ]
     },
     "execution_count": 87,
     "metadata": {},
     "output_type": "execute_result"
    }
   ],
   "source": [
    "sorted(np.abs(clf.coef_)[0], reverse=True)"
   ]
  },
  {
   "cell_type": "code",
   "execution_count": 16,
   "metadata": {},
   "outputs": [
    {
     "data": {
      "text/plain": [
       "array([-0.43740408,  0.22133338, -0.15104726, ...,  0.55883037,\n",
       "       -0.02457438, -0.87689349])"
      ]
     },
     "execution_count": 16,
     "metadata": {},
     "output_type": "execute_result"
    }
   ],
   "source": [
    "clf.coef_[0]"
   ]
  },
  {
   "cell_type": "code",
   "execution_count": 101,
   "metadata": {},
   "outputs": [
    {
     "name": "stdout",
     "output_type": "stream",
     "text": [
      "(1920, 54) (480, 54) (1920,) (480,)\n",
      "50 0.85625\n",
      "(1920, 104) (480, 104) (1920,) (480,)\n",
      "100 0.875\n",
      "(1920, 204) (480, 204) (1920,) (480,)\n",
      "200 0.9083333333333333\n",
      "(1920, 504) (480, 504) (1920,) (480,)\n",
      "500 0.9291666666666667\n",
      "(1920, 1004) (480, 1004) (1920,) (480,)\n",
      "1000 0.9333333333333333\n",
      "(1920, 2504) (480, 2504) (1920,) (480,)\n",
      "2500 0.9416666666666667\n",
      "(1920, 5004) (480, 5004) (1920,) (480,)\n",
      "5000 0.9479166666666666\n",
      "(1920, 7504) (480, 7504) (1920,) (480,)\n",
      "7500 0.9479166666666666\n",
      "(1920, 10004) (480, 10004) (1920,) (480,)\n",
      "10000 0.9416666666666667\n"
     ]
    }
   ],
   "source": [
    "scores = {}\n",
    "for c in [50, 100, 200, 500, 1000, 2500, 5000, 7500, 10000]:\n",
    "    train, test = [], []\n",
    "    for i, filename in enumerate(files[:2]):\n",
    "        with open(os.path.join('..', 'neuron_logs', 'train_data', filename), 'r') as f:\n",
    "            neuron_data = json.load(f)\n",
    "        if i == 10:\n",
    "            break\n",
    "        for e in neuron_data.keys():\n",
    "            if e == '0' or e > 5:\n",
    "                continue\n",
    "            for neuron in neuron_data[e]:\n",
    "                if ' ' not in neuron:\n",
    "                    continue\n",
    "                current_data = neuron_data[e][neuron]\n",
    "                important_features = []\n",
    "                important_features += reduce_to_statistics(current_data['activations'], neuron_data[e]['original_labels'])\n",
    "                #important_features = current_data['activations'][:c]\n",
    "                important_features += [current_data['depth']]\n",
    "                important_features += [current_data['inverse_depth']]\n",
    "                important_features += [current_data['width']]\n",
    "                # important_features += [current_data['input_weights']]\n",
    "                # important_features += [current_data['output_weights']]\n",
    "                important_features += [current_data['reg_loss_in_layer']]\n",
    "                train += [important_features]\n",
    "                test += [int(current_data[target] > threshold)]\n",
    "\n",
    "    train = np.array(train)\n",
    "    test = np.array(test)\n",
    "    X_train, X_test, y_train, y_test = train_test_split(train, test, test_size=0.2, random_state=0)\n",
    "    print(f\"{X_train.shape} {X_test.shape} {y_train.shape} {y_test.shape}\")\n",
    "    clf = LogisticRegression(solver='liblinear').fit(X_train, y_train)\n",
    "    print(c, clf.score(X_test, y_test))\n",
    "    scores[c] = clf.score(X_test, y_test)"
   ]
  },
  {
   "cell_type": "code",
   "execution_count": 115,
   "metadata": {},
   "outputs": [
    {
     "data": {
      "text/plain": [
       "Text(0.5, 1.0, 'Accuracy versus sample size from 10000 activations')"
      ]
     },
     "execution_count": 115,
     "metadata": {},
     "output_type": "execute_result"
    },
    {
     "data": {
      "image/png": "[encoded data removed]",
      "text/plain": [
       "<Figure size 432x288 with 1 Axes>"
      ]
     },
     "metadata": {},
     "output_type": "display_data"
    }
   ],
   "source": [
    "counts, accuracies = zip(*sorted(list(scores.items()), key = lambda x: x[0]))\n",
    "plt.figure(facecolor = 'w')\n",
    "plt.plot(counts, accuracies)\n",
    "plt.grid()\n",
    "plt.title('Accuracy versus sample size from 10000 activations')"
   ]
  },
  {
   "cell_type": "code",
   "execution_count": 118,
   "metadata": {},
   "outputs": [],
   "source": [
    "e = 5\n",
    "current_data = neuron_data[e][neuron]\n",
    "some_data = reduce_to_statistics(current_data['activations'], neuron_data[e]['original_labels'], debug=True) "
   ]
  },
  {
   "cell_type": "code",
   "execution_count": 134,
   "metadata": {
    "scrolled": true
   },
   "outputs": [
    {
     "data": {
      "text/plain": [
       "Text(0.5, 1.0, \"Distribution of some neuron's activations\")"
      ]
     },
     "execution_count": 134,
     "metadata": {},
     "output_type": "execute_result"
    },
    {
     "data": {
      "image/png": "[encoded data removed]",
      "text/plain": [
       "<Figure size 432x288 with 1 Axes>"
      ]
     },
     "metadata": {
      "needs_background": "light"
     },
     "output_type": "display_data"
    }
   ],
   "source": [
    "num = 6\n",
    "plt.hist(some_data[num], bins = 50, alpha = 0.5, color = 'blue')\n",
    "plt.hist(some_data[num-2], bins = 50, alpha = 0.5, color = 'red')\n",
    "plt.title('Distribution of some neuron\\'s activations')"
   ]
  },
  {
   "cell_type": "code",
   "execution_count": null,
   "metadata": {},
   "outputs": [],
   "source": [
    "plt.hist()"
   ]
  }
 ],
 "metadata": {
  "kernelspec": {
   "display_name": "Python 3",
   "language": "python",
   "name": "python3"
  },
  "language_info": {
   "codemirror_mode": {
    "name": "ipython",
    "version": 3
   },
   "file_extension": ".py",
   "mimetype": "text/x-python",
   "name": "python",
   "nbconvert_exporter": "python",
   "pygments_lexer": "ipython3",
   "version": "3.7.4"
  }
 },
 "nbformat": 4,
 "nbformat_minor": 4
}
