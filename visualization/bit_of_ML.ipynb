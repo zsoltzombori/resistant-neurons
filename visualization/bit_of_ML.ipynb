{
 "cells": [
  {
   "cell_type": "code",
   "execution_count": 41,
   "metadata": {},
   "outputs": [],
   "source": [
    "import json\n",
    "import numpy as np\n",
    "import matplotlib.pyplot as plt\n",
    "import os\n",
    "import itertools\n",
    "import sklearn\n",
    "import pandas as pd\n",
    "import scipy.stats as stats"
   ]
  },
  {
   "cell_type": "code",
   "execution_count": 2,
   "metadata": {},
   "outputs": [],
   "source": [
    "neuron_data = {}\n",
    "\n"
   ]
  },
  {
   "cell_type": "code",
   "execution_count": 3,
   "metadata": {},
   "outputs": [],
   "source": [
    "files = os.listdir('../neuron_logs/train_data')"
   ]
  },
  {
   "cell_type": "code",
   "execution_count": 4,
   "metadata": {},
   "outputs": [
    {
     "name": "stdout",
     "output_type": "stream",
     "text": [
      "1.4357221603393555\n"
     ]
    }
   ],
   "source": [
    "with open(os.path.join('..', 'neuron_logs', 'train_data', 'output_20190923-192628.json'), 'r') as f:\n",
    "    neuron_data = json.load(f)\n",
    "\n",
    "target = 'usefulness_loss'\n",
    "\n",
    "\n",
    "target_thr = [neuron_data[e][neuron][target] for neuron in neuron_data['0'] for e in neuron_data  if e != '0' and ' ' in neuron]\n",
    "\n",
    "threshold = np.percentile(target_thr, 80) # median\n",
    "\n",
    "print(threshold)\n",
    "\n"
   ]
  },
  {
   "cell_type": "code",
   "execution_count": 5,
   "metadata": {},
   "outputs": [
    {
     "name": "stdout",
     "output_type": "stream",
     "text": [
      "dict_keys(['activations', 'usefulness_loss', 'usefulness_acc', 'depth', 'inverse_depth', 'width', 'input_weights', 'output_weights', 'reg_loss_in_layer'])\n"
     ]
    },
    {
     "data": {
      "text/plain": [
       "(10,)"
      ]
     },
     "execution_count": 5,
     "metadata": {},
     "output_type": "execute_result"
    }
   ],
   "source": [
    "print(neuron_data['1']['0 0'].keys())\n",
    "np.array(neuron_data['1']['3 0']['output_weights']).shape"
   ]
  },
  {
   "cell_type": "code",
   "execution_count": 77,
   "metadata": {},
   "outputs": [],
   "source": [
    "def reduce_to_statistics(activations, labels):\n",
    "    sorted_data = []\n",
    "    for i in range(10): #hardcoded MOFO\n",
    "        sorted_data += [[]]\n",
    "    for i, a in zip(labels, activations):\n",
    "        sorted_data[i] += [a]\n",
    "    statistics = []\n",
    "    for ar in sorted_data:\n",
    "        curr_stats = stats.describe(ar)\n",
    "        statistics += [curr_stats.mean, curr_stats.variance, curr_stats.skewness, curr_stats.kurtosis]\n",
    "        #print(statistics)\n",
    "    return(statistics)"
   ]
  },
  {
   "cell_type": "code",
   "execution_count": 93,
   "metadata": {},
   "outputs": [],
   "source": [
    "train, test = [], []\n",
    "for i, filename in enumerate(files[:2]):\n",
    "    with open(os.path.join('..', 'neuron_logs', 'train_data', filename), 'r') as f:\n",
    "        neuron_data = json.load(f)\n",
    "    if i == 10:\n",
    "        break\n",
    "    for e in neuron_data.keys():\n",
    "        if e == '0':\n",
    "            continue\n",
    "        for neuron in neuron_data[e]:\n",
    "            if ' ' not in neuron:\n",
    "                continue\n",
    "            current_data = neuron_data[e][neuron]\n",
    "            important_features = []\n",
    "            #important_features += reduce_to_statistics(current_data['activations'], neuron_data[e]['original_labels'])\n",
    "            important_features = current_data['activations'][:500]\n",
    "            important_features += [current_data['depth']]\n",
    "            important_features += [current_data['inverse_depth']]\n",
    "            important_features += [current_data['width']]\n",
    "            # important_features += [current_data['input_weights']]\n",
    "            # important_features += [current_data['output_weights']]\n",
    "            important_features += [current_data['reg_loss_in_layer']]\n",
    "            train += [important_features]\n",
    "            test += [int(current_data[target] > threshold)]"
   ]
  },
  {
   "cell_type": "code",
   "execution_count": 94,
   "metadata": {},
   "outputs": [],
   "source": [
    "train = np.array(train)\n",
    "test = np.array(test)"
   ]
  },
  {
   "cell_type": "code",
   "execution_count": 95,
   "metadata": {},
   "outputs": [
    {
     "name": "stdout",
     "output_type": "stream",
     "text": [
      "(2400, 504) (2400,)\n"
     ]
    }
   ],
   "source": [
    "print(train.shape, test.shape)"
   ]
  },
  {
   "cell_type": "code",
   "execution_count": 96,
   "metadata": {},
   "outputs": [
    {
     "name": "stdout",
     "output_type": "stream",
     "text": [
      "(1920, 504) (480, 504) (1920,) (480,)\n"
     ]
    },
    {
     "name": "stderr",
     "output_type": "stream",
     "text": [
      "/home/levai/miniconda3/envs/tensorflow/lib/python3.7/site-packages/sklearn/linear_model/logistic.py:432: FutureWarning: Default solver will be changed to 'lbfgs' in 0.22. Specify a solver to silence this warning.\n",
      "  FutureWarning)\n"
     ]
    },
    {
     "data": {
      "text/plain": [
       "0.9291666666666667"
      ]
     },
     "execution_count": 96,
     "metadata": {},
     "output_type": "execute_result"
    }
   ],
   "source": [
    "from sklearn import svm\n",
    "from sklearn.model_selection import train_test_split\n",
    "from sklearn.neural_network import MLPClassifier\n",
    "from sklearn.linear_model import LogisticRegression\n",
    "X_train, X_test, y_train, y_test = train_test_split(train, test, test_size=0.2, random_state=0)\n",
    "print(f\"{X_train.shape} {X_test.shape} {y_train.shape} {y_test.shape}\")\n",
    "clf = LogisticRegression().fit(X_train, y_train)\n",
    "clf.score(X_test, y_test) "
   ]
  },
  {
   "cell_type": "code",
   "execution_count": 84,
   "metadata": {},
   "outputs": [
    {
     "data": {
      "text/plain": [
       "array([[-0.96091259, -1.36096465, -0.47111226, -0.03340058,  0.34165504,\n",
       "         1.18083037,  1.1084978 , -0.16881596,  0.19566432,  1.39319838,\n",
       "         0.56939772,  0.25760476,  0.66966341,  0.6384968 , -0.01930339,\n",
       "        -0.21260077, -0.26832188,  0.12437781, -0.03601792,  0.05307974,\n",
       "         0.33627207,  0.13172572, -0.58943733, -0.39163865, -0.02022434,\n",
       "         0.19670973,  0.41281068,  0.11257937,  0.26450757, -0.96250585,\n",
       "        -0.42520268,  0.70023581,  0.15627494,  0.03797586,  0.09736816,\n",
       "        -0.00175544,  0.20975037,  0.11118098, -0.29468023, -0.1648612 ,\n",
       "        -1.67346626,  0.44428087, -0.03094543, -0.62900876]])"
      ]
     },
     "execution_count": 84,
     "metadata": {},
     "output_type": "execute_result"
    }
   ],
   "source": [
    "clf.coef_"
   ]
  },
  {
   "cell_type": "code",
   "execution_count": 85,
   "metadata": {},
   "outputs": [
    {
     "data": {
      "text/plain": [
       "0.8166666666666667"
      ]
     },
     "execution_count": 85,
     "metadata": {},
     "output_type": "execute_result"
    }
   ],
   "source": [
    "clf.score(X_train, y_train)"
   ]
  },
  {
   "cell_type": "code",
   "execution_count": 86,
   "metadata": {},
   "outputs": [
    {
     "data": {
      "text/plain": [
       "array([[35, 14, 24, 42,  3, 18, 33, 19, 34, 37, 27, 17, 21, 32, 39,  7,\n",
       "         8, 25, 36, 15, 11, 28, 16, 38, 20,  4, 23, 26, 30, 41,  2, 10,\n",
       "        22, 43, 13, 12, 31,  0, 29,  6,  5,  1,  9, 40]])"
      ]
     },
     "execution_count": 86,
     "metadata": {},
     "output_type": "execute_result"
    }
   ],
   "source": [
    "np.argsort(np.abs(clf.coef_))\n",
    "#clf.coef_[0][10000]"
   ]
  },
  {
   "cell_type": "code",
   "execution_count": 87,
   "metadata": {},
   "outputs": [
    {
     "data": {
      "text/plain": [
       "[1.673466264199148,\n",
       " 1.3931983786172248,\n",
       " 1.3609646495077448,\n",
       " 1.1808303679732206,\n",
       " 1.1084977995972152,\n",
       " 0.9625058495082788,\n",
       " 0.9609125906963265,\n",
       " 0.7002358099089452,\n",
       " 0.6696634105210421,\n",
       " 0.63849680047462,\n",
       " 0.629008764141674,\n",
       " 0.5894373317605294,\n",
       " 0.5693977247703768,\n",
       " 0.47111225503829623,\n",
       " 0.4442808664667496,\n",
       " 0.42520268106057557,\n",
       " 0.41281068253638475,\n",
       " 0.39163864847446556,\n",
       " 0.3416550359365741,\n",
       " 0.3362720697428224,\n",
       " 0.2946802342257904,\n",
       " 0.26832188463284673,\n",
       " 0.26450756974594153,\n",
       " 0.25760475854562825,\n",
       " 0.21260076918805906,\n",
       " 0.2097503730171995,\n",
       " 0.1967097259861429,\n",
       " 0.19566432377194068,\n",
       " 0.16881596047770064,\n",
       " 0.16486119572531133,\n",
       " 0.15627494051392007,\n",
       " 0.13172571879543218,\n",
       " 0.1243778090046361,\n",
       " 0.11257936997587963,\n",
       " 0.1111809763020016,\n",
       " 0.09736815703563934,\n",
       " 0.053079743535887874,\n",
       " 0.03797586326553398,\n",
       " 0.036017924305543965,\n",
       " 0.03340058342174826,\n",
       " 0.03094543126598155,\n",
       " 0.020224336219541426,\n",
       " 0.0193033911058047,\n",
       " 0.0017554394424272122]"
      ]
     },
     "execution_count": 87,
     "metadata": {},
     "output_type": "execute_result"
    }
   ],
   "source": [
    "sorted(np.abs(clf.coef_)[0], reverse=True)"
   ]
  },
  {
   "cell_type": "code",
   "execution_count": 16,
   "metadata": {},
   "outputs": [
    {
     "data": {
      "text/plain": [
       "array([-0.43740408,  0.22133338, -0.15104726, ...,  0.55883037,\n",
       "       -0.02457438, -0.87689349])"
      ]
     },
     "execution_count": 16,
     "metadata": {},
     "output_type": "execute_result"
    }
   ],
   "source": [
    "clf.coef_[0]"
   ]
  },
  {
   "cell_type": "code",
   "execution_count": 101,
   "metadata": {},
   "outputs": [
    {
     "name": "stdout",
     "output_type": "stream",
     "text": [
      "(1920, 54) (480, 54) (1920,) (480,)\n",
      "50 0.85625\n",
      "(1920, 104) (480, 104) (1920,) (480,)\n",
      "100 0.875\n",
      "(1920, 204) (480, 204) (1920,) (480,)\n",
      "200 0.9083333333333333\n",
      "(1920, 504) (480, 504) (1920,) (480,)\n",
      "500 0.9291666666666667\n",
      "(1920, 1004) (480, 1004) (1920,) (480,)\n",
      "1000 0.9333333333333333\n",
      "(1920, 2504) (480, 2504) (1920,) (480,)\n",
      "2500 0.9416666666666667\n",
      "(1920, 5004) (480, 5004) (1920,) (480,)\n",
      "5000 0.9479166666666666\n",
      "(1920, 7504) (480, 7504) (1920,) (480,)\n",
      "7500 0.9479166666666666\n",
      "(1920, 10004) (480, 10004) (1920,) (480,)\n",
      "10000 0.9416666666666667\n"
     ]
    }
   ],
   "source": [
    "scores = {}\n",
    "for c in [50, 100, 200, 500, 1000, 2500, 5000, 7500, 10000]:\n",
    "    train, test = [], []\n",
    "    for i, filename in enumerate(files[:2]):\n",
    "        with open(os.path.join('..', 'neuron_logs', 'train_data', filename), 'r') as f:\n",
    "            neuron_data = json.load(f)\n",
    "        if i == 10:\n",
    "            break\n",
    "        for e in neuron_data.keys():\n",
    "            if e == '0':\n",
    "                continue\n",
    "            for neuron in neuron_data[e]:\n",
    "                if ' ' not in neuron:\n",
    "                    continue\n",
    "                current_data = neuron_data[e][neuron]\n",
    "                important_features = []\n",
    "                #important_features += reduce_to_statistics(current_data['activations'], neuron_data[e]['original_labels'])\n",
    "                important_features = current_data['activations'][:c]\n",
    "                important_features += [current_data['depth']]\n",
    "                important_features += [current_data['inverse_depth']]\n",
    "                important_features += [current_data['width']]\n",
    "                # important_features += [current_data['input_weights']]\n",
    "                # important_features += [current_data['output_weights']]\n",
    "                important_features += [current_data['reg_loss_in_layer']]\n",
    "                train += [important_features]\n",
    "                test += [int(current_data[target] > threshold)]\n",
    "\n",
    "    train = np.array(train)\n",
    "    test = np.array(test)\n",
    "    X_train, X_test, y_train, y_test = train_test_split(train, test, test_size=0.2, random_state=0)\n",
    "    print(f\"{X_train.shape} {X_test.shape} {y_train.shape} {y_test.shape}\")\n",
    "    clf = LogisticRegression(solver='liblinear').fit(X_train, y_train)\n",
    "    print(c, clf.score(X_test, y_test))\n",
    "    scores[c] = clf.score(X_test, y_test)"
   ]
  },
  {
   "cell_type": "code",
   "execution_count": 107,
   "metadata": {},
   "outputs": [
    {
     "data": {
      "image/png": "[encoded data removed]",
      "text/plain": [
       "<Figure size 432x288 with 1 Axes>"
      ]
     },
     "metadata": {},
     "output_type": "display_data"
    }
   ],
   "source": [
    "counts, accuracies = zip(*sorted(list(scores.items()), key = lambda x: x[0]))\n",
    "plt.figure(facecolor = 'w')\n",
    "plt.plot(counts, accuracies)\n",
    "plt.grid()"
   ]
  },
  {
   "cell_type": "code",
   "execution_count": null,
   "metadata": {},
   "outputs": [],
   "source": []
  }
 ],
 "metadata": {
  "kernelspec": {
   "display_name": "Python 3",
   "language": "python",
   "name": "python3"
  },
  "language_info": {
   "codemirror_mode": {
    "name": "ipython",
    "version": 3
   },
   "file_extension": ".py",
   "mimetype": "text/x-python",
   "name": "python",
   "nbconvert_exporter": "python",
   "pygments_lexer": "ipython3",
   "version": "3.7.4"
  }
 },
 "nbformat": 4,
 "nbformat_minor": 4
}
