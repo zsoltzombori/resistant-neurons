{
 "cells": [
  {
   "cell_type": "code",
   "execution_count": 20,
   "metadata": {},
   "outputs": [],
   "source": [
    "import gzip\n",
    "import numpy as np\n",
    "from torch.utils.data import IterableDataset\n",
    "\n",
    "class CustomIterableDataset(IterableDataset):\n",
    "\n",
    "    def __init__(self, filename):\n",
    "\n",
    "        #Store the filename in object's memory\n",
    "        self.filename = filename\n",
    "\n",
    "        #And that's it, we no longer need to store the contents in the memory\n",
    "\n",
    "    def preprocess(self, feature):\n",
    "\n",
    "        ### Do something with text here\n",
    "        feature = np.array(feature, dtype=np.float32)\n",
    "        ###\n",
    "\n",
    "        return feature\n",
    "\n",
    "    def line_mapper(self, line):\n",
    "        \n",
    "        #Splits the line into text and label and applies preprocessing to the text\n",
    "        line = line.strip().split('\\t')\n",
    "        fname, feature, label = line[0], line[1:-1], line[-1]\n",
    "        feature = self.preprocess(feature)\n",
    "\n",
    "        return feature, np.array(label, dtype=np.float32)\n",
    "\n",
    "\n",
    "    def __iter__(self):\n",
    "\n",
    "        #Create an iterator\n",
    "        file_itr = gzip.open(self.filename, 'rt')\n",
    "\n",
    "        #Map each element using the line_mapper\n",
    "        mapped_itr = map(self.line_mapper, file_itr)\n",
    "        \n",
    "        return mapped_itr\n",
    "\n"
   ]
  },
  {
   "cell_type": "code",
   "execution_count": null,
   "metadata": {},
   "outputs": [],
   "source": []
  }
 ],
 "metadata": {
  "kernelspec": {
   "display_name": "Python 3",
   "language": "python",
   "name": "python3"
  },
  "language_info": {
   "codemirror_mode": {
    "name": "ipython",
    "version": 3
   },
   "file_extension": ".py",
   "mimetype": "text/x-python",
   "name": "python",
   "nbconvert_exporter": "python",
   "pygments_lexer": "ipython3",
   "version": "3.7.5"
  }
 },
 "nbformat": 4,
 "nbformat_minor": 4
}
