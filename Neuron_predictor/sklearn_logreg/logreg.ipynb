{
 "cells": [
  {
   "cell_type": "code",
   "execution_count": 1,
   "metadata": {},
   "outputs": [],
   "source": [
    "import gzip, sklearn\n",
    "import numpy as np\n",
    "import pandas as pd\n",
    "import matplotlib.pyplot as plt\n",
    "\n",
    "from sklearn.preprocessing import StandardScaler\n",
    "from sklearn.model_selection import train_test_split\n",
    "from sklearn import linear_model\n",
    "from sklearn.metrics import mean_squared_error\n",
    "from sklearn.metrics import mean_absolute_error"
   ]
  },
  {
   "cell_type": "code",
   "execution_count": 2,
   "metadata": {},
   "outputs": [
    {
     "name": "stdout",
     "output_type": "stream",
     "text": [
      "0/500000\n",
      "20000/500000\n",
      "40000/500000\n",
      "60000/500000\n",
      "80000/500000\n",
      "100000/500000\n",
      "120000/500000\n",
      "140000/500000\n",
      "160000/500000\n",
      "180000/500000\n",
      "200000/500000\n",
      "220000/500000\n",
      "240000/500000\n",
      "260000/500000\n",
      "280000/500000\n",
      "300000/500000\n",
      "320000/500000\n",
      "340000/500000\n",
      "360000/500000\n",
      "380000/500000\n",
      "400000/500000\n",
      "420000/500000\n",
      "440000/500000\n",
      "460000/500000\n",
      "480000/500000\n"
     ]
    }
   ],
   "source": [
    "limit = 5*10**5\n",
    "data = []\n",
    "files = []\n",
    "with gzip.open('../train_data.gz', 'rt') as f:\n",
    "    for i, line in enumerate(f):\n",
    "        if i > limit-1:\n",
    "            break\n",
    "        if i % (limit//25) == 0:\n",
    "            print(f\"{i}/{limit}\")\n",
    "        current_data = np.array(line.strip().split('\\t')[1:], dtype=float)\n",
    "        if current_data[-2] <= 4.0:\n",
    "            continue\n",
    "        data += [current_data]\n",
    "        files += [line.strip().split('\\t')[0]]\n"
   ]
  },
  {
   "cell_type": "code",
   "execution_count": null,
   "metadata": {},
   "outputs": [],
   "source": []
  },
  {
   "cell_type": "code",
   "execution_count": 3,
   "metadata": {},
   "outputs": [
    {
     "name": "stdout",
     "output_type": "stream",
     "text": [
      "100\n",
      "(300000, 1076)\n"
     ]
    }
   ],
   "source": [
    "print(len(set(files)))\n",
    "data = np.array(data)\n",
    "print(data.shape)"
   ]
  },
  {
   "cell_type": "code",
   "execution_count": null,
   "metadata": {},
   "outputs": [],
   "source": []
  },
  {
   "cell_type": "code",
   "execution_count": 4,
   "metadata": {},
   "outputs": [
    {
     "name": "stdout",
     "output_type": "stream",
     "text": [
      "(300000, 1004) (300000,)\n"
     ]
    }
   ],
   "source": [
    "features, labels = data[:, :1004], data[:, -1]\n",
    "print(features.shape, labels.shape)\n",
    "# del data"
   ]
  },
  {
   "cell_type": "code",
   "execution_count": 6,
   "metadata": {},
   "outputs": [
    {
     "name": "stdout",
     "output_type": "stream",
     "text": [
      "(270000, 1004) (270000,) (30000, 1004) (30000,)\n"
     ]
    }
   ],
   "source": [
    "#X_train, X_test, y_train, y_test = train_test_split(features, labels, test_size=0.2, shuffle=False, random_state=0)\n",
    "ratio = 0.9\n",
    "X_train, X_test = features[:int(data.shape[0]*ratio)], features[int(data.shape[0]*ratio):]\n",
    "y_train, y_test = labels[:int(data.shape[0]*ratio)], labels[int(data.shape[0]*ratio):]\n",
    "print(X_train.shape, y_train.shape, X_test.shape, y_test.shape)\n",
    "\n",
    "X_train = X_train.astype(np.float32)\n",
    "y_train = y_train.astype(np.float32)\n",
    "X_test = X_test.astype(np.float32)\n",
    "y_test = y_test.astype(np.float32)\n",
    "\n",
    "scaler = StandardScaler()\n",
    "scaler.fit(X_train)\n",
    "X_train = scaler.transform(X_train)\n",
    "\n",
    "X_test = scaler.transform(X_test)"
   ]
  },
  {
   "cell_type": "code",
   "execution_count": 7,
   "metadata": {},
   "outputs": [
    {
     "name": "stdout",
     "output_type": "stream",
     "text": [
      "MSE: 0.00031860757735557854\n",
      "MAE: 0.012334625236690044\n"
     ]
    },
    {
     "name": "stderr",
     "output_type": "stream",
     "text": [
      "/home/levai/miniconda3/envs/tensorflow/lib/python3.7/site-packages/sklearn/linear_model/ridge.py:147: LinAlgWarning: Ill-conditioned matrix (rcond=5.5436e-09): result may not be accurate.\n",
      "  overwrite_a=True).T\n"
     ]
    }
   ],
   "source": [
    "reg = linear_model.Ridge(alpha = 1)\n",
    "reg.fit(X_train, y_train)\n",
    "y_pred = reg.predict(X_test)\n",
    "print(f\"MSE: {mean_squared_error(y_pred, y_test)}\")\n",
    "print(f\"MAE: {mean_absolute_error(y_pred, y_test)}\")"
   ]
  },
  {
   "cell_type": "code",
   "execution_count": 8,
   "metadata": {},
   "outputs": [
    {
     "name": "stdout",
     "output_type": "stream",
     "text": [
      "MSE: 0.0003186172107234597\n",
      "MAE: 0.012334833852946758\n"
     ]
    },
    {
     "name": "stderr",
     "output_type": "stream",
     "text": [
      "/home/levai/miniconda3/envs/tensorflow/lib/python3.7/site-packages/sklearn/linear_model/ridge.py:147: LinAlgWarning: Ill-conditioned matrix (rcond=2.77162e-09): result may not be accurate.\n",
      "  overwrite_a=True).T\n"
     ]
    },
    {
     "ename": "NameError",
     "evalue": "name 'do_perf_test_on_batch' is not defined",
     "output_type": "error",
     "traceback": [
      "\u001b[0;31m---------------------------------------------------------------------------\u001b[0m",
      "\u001b[0;31mNameError\u001b[0m                                 Traceback (most recent call last)",
      "\u001b[0;32m<ipython-input-8-3ee393c37b8d>\u001b[0m in \u001b[0;36m<module>\u001b[0;34m\u001b[0m\n\u001b[1;32m      4\u001b[0m \u001b[0mprint\u001b[0m\u001b[0;34m(\u001b[0m\u001b[0;34mf\"MSE: {mean_squared_error(y_pred, y_test)}\"\u001b[0m\u001b[0;34m)\u001b[0m\u001b[0;34m\u001b[0m\u001b[0;34m\u001b[0m\u001b[0m\n\u001b[1;32m      5\u001b[0m \u001b[0mprint\u001b[0m\u001b[0;34m(\u001b[0m\u001b[0;34mf\"MAE: {mean_absolute_error(y_pred, y_test)}\"\u001b[0m\u001b[0;34m)\u001b[0m\u001b[0;34m\u001b[0m\u001b[0;34m\u001b[0m\u001b[0m\n\u001b[0;32m----> 6\u001b[0;31m \u001b[0mperfs\u001b[0m \u001b[0;34m=\u001b[0m \u001b[0mdo_perf_test_on_batch\u001b[0m\u001b[0;34m(\u001b[0m\u001b[0;34m)\u001b[0m\u001b[0;34m\u001b[0m\u001b[0;34m\u001b[0m\u001b[0m\n\u001b[0m\u001b[1;32m      7\u001b[0m \u001b[0mnp\u001b[0m\u001b[0;34m.\u001b[0m\u001b[0mmean\u001b[0m\u001b[0;34m(\u001b[0m\u001b[0mperfs\u001b[0m\u001b[0;34m)\u001b[0m\u001b[0;34m\u001b[0m\u001b[0;34m\u001b[0m\u001b[0m\n",
      "\u001b[0;31mNameError\u001b[0m: name 'do_perf_test_on_batch' is not defined"
     ]
    }
   ],
   "source": [
    "reg = linear_model.Ridge(alpha = 0.5)\n",
    "reg.fit(X_train, y_train)\n",
    "y_pred = reg.predict(X_test)\n",
    "print(f\"MSE: {mean_squared_error(y_pred, y_test)}\")\n",
    "print(f\"MAE: {mean_absolute_error(y_pred, y_test)}\")\n",
    "perfs = do_perf_test_on_batch()\n",
    "np.mean(perfs)"
   ]
  },
  {
   "cell_type": "code",
   "execution_count": 12,
   "metadata": {},
   "outputs": [
    {
     "data": {
      "text/plain": [
       "['best_regressor_sklearn_after40.joblib']"
      ]
     },
     "execution_count": 12,
     "metadata": {},
     "output_type": "execute_result"
    }
   ],
   "source": [
    "from joblib import dump, load\n",
    "dump(reg, 'best_regressor_sklearn_after40.joblib')"
   ]
  },
  {
   "cell_type": "code",
   "execution_count": 13,
   "metadata": {},
   "outputs": [
    {
     "data": {
      "text/plain": [
       "['nn_activations_scaler_sklearn_after40.joblib']"
      ]
     },
     "execution_count": 13,
     "metadata": {},
     "output_type": "execute_result"
    }
   ],
   "source": [
    "dump(scaler, 'nn_activations_scaler_sklearn_after40.joblib')"
   ]
  },
  {
   "cell_type": "code",
   "execution_count": 28,
   "metadata": {},
   "outputs": [
    {
     "name": "stdout",
     "output_type": "stream",
     "text": [
      "(100, 1003) (100,) (100,)\n"
     ]
    }
   ],
   "source": [
    "some_indices = 100\n",
    "start_index = 400\n",
    "lX_test = X_test[start_index:start_index+some_indices]\n",
    "ly_test = y_test[start_index:start_index+some_indices]\n",
    "ly_pred = reg.predict(lX_test)\n",
    "print(lX_test.shape, ly_test.shape, ly_pred.shape)"
   ]
  },
  {
   "cell_type": "code",
   "execution_count": 33,
   "metadata": {},
   "outputs": [],
   "source": [
    "cut = 50 # the first 50 gets 0, the last 1\n",
    "\n",
    "order_test = np.array(list(zip(range(100), ly_test, ly_pred, ly_test > np.percentile(ly_test, cut), ly_pred > np.percentile(ly_pred, cut))))"
   ]
  },
  {
   "cell_type": "code",
   "execution_count": 34,
   "metadata": {},
   "outputs": [
    {
     "name": "stdout",
     "output_type": "stream",
     "text": [
      "62\n"
     ]
    },
    {
     "data": {
      "text/plain": [
       "[array([19.        ,  0.96914619,  0.99995631,  0.        ,  0.        ]),\n",
       " array([63.        ,  0.9745149 ,  1.01747453,  0.        ,  1.        ]),\n",
       " array([97.        ,  0.97876751,  1.01682377,  0.        ,  1.        ]),\n",
       " array([93.        ,  0.97952473,  0.99185884,  0.        ,  0.        ]),\n",
       " array([21.        ,  0.98280615,  1.0014782 ,  0.        ,  0.        ]),\n",
       " array([51.        ,  0.9834578 ,  1.01642346,  0.        ,  1.        ]),\n",
       " array([47.        ,  0.9844749 ,  1.01066732,  0.        ,  0.        ]),\n",
       " array([49.        ,  0.98506707,  1.02645743,  0.        ,  1.        ]),\n",
       " array([77.        ,  0.98636705,  0.98869503,  0.        ,  0.        ]),\n",
       " array([32.        ,  0.98913813,  1.02412057,  0.        ,  1.        ]),\n",
       " array([23.        ,  0.98967129,  1.01671135,  0.        ,  1.        ]),\n",
       " array([48.        ,  0.98989475,  1.00793195,  0.        ,  0.        ]),\n",
       " array([85.        ,  0.99026251,  0.98469019,  0.        ,  0.        ]),\n",
       " array([39.        ,  0.99290669,  1.00280499,  0.        ,  0.        ]),\n",
       " array([95.        ,  0.99342316,  1.01442313,  0.        ,  1.        ]),\n",
       " array([55.        ,  0.99456346,  0.98554039,  0.        ,  0.        ]),\n",
       " array([81.        ,  0.9956308 ,  1.00447023,  0.        ,  0.        ]),\n",
       " array([31.        ,  0.99582177,  1.01281822,  0.        ,  1.        ]),\n",
       " array([74.        ,  0.99632293,  1.01254857,  0.        ,  1.        ]),\n",
       " array([1.        , 0.9984895 , 1.01101303, 0.        , 1.        ]),\n",
       " array([60.        ,  0.99863464,  1.01813531,  0.        ,  1.        ]),\n",
       " array([70.        ,  0.9995808 ,  0.99609405,  0.        ,  0.        ]),\n",
       " array([64.        ,  0.99967682,  1.01349759,  0.        ,  1.        ]),\n",
       " array([46.        ,  0.99977773,  1.00232673,  0.        ,  0.        ]),\n",
       " array([83.        ,  0.99985307,  1.02302372,  0.        ,  1.        ]),\n",
       " array([16.        ,  0.99996084,  1.0106256 ,  0.        ,  0.        ]),\n",
       " array([0.        , 1.        , 0.99268746, 0.        , 0.        ]),\n",
       " array([10.        ,  1.        ,  1.00095463,  0.        ,  0.        ]),\n",
       " array([30.        ,  1.        ,  0.99973321,  0.        ,  0.        ]),\n",
       " array([36.        ,  1.        ,  0.99524528,  0.        ,  0.        ]),\n",
       " array([44.        ,  1.        ,  0.99792194,  0.        ,  0.        ]),\n",
       " array([80.        ,  1.        ,  0.99607027,  0.        ,  0.        ]),\n",
       " array([96.        ,  1.        ,  0.99045402,  0.        ,  0.        ]),\n",
       " array([34.        ,  1.00000012,  0.99722213,  0.        ,  0.        ]),\n",
       " array([76.        ,  1.00001907,  1.00517166,  0.        ,  0.        ]),\n",
       " array([43.        ,  1.00060451,  1.01312029,  0.        ,  1.        ]),\n",
       " array([66.        ,  1.00102031,  1.01141846,  0.        ,  1.        ]),\n",
       " array([56.        ,  1.00104535,  1.00854123,  0.        ,  0.        ]),\n",
       " array([45.        ,  1.00195312,  0.99193656,  0.        ,  0.        ]),\n",
       " array([24.        ,  1.00244594,  1.02854121,  0.        ,  1.        ]),\n",
       " array([59.        ,  1.00251579,  1.00521719,  0.        ,  0.        ]),\n",
       " array([57.        ,  1.00270581,  0.98485696,  0.        ,  0.        ]),\n",
       " array([62.        ,  1.00296652,  1.01232231,  0.        ,  1.        ]),\n",
       " array([82.        ,  1.00311041,  1.00686443,  0.        ,  0.        ]),\n",
       " array([88.        ,  1.00321424,  1.0073806 ,  0.        ,  0.        ]),\n",
       " array([50.        ,  1.00321913,  1.01437569,  0.        ,  1.        ]),\n",
       " array([79.        ,  1.00325501,  0.99729973,  0.        ,  0.        ]),\n",
       " array([84.        ,  1.0039531 ,  1.01294041,  0.        ,  1.        ]),\n",
       " array([14.        ,  1.00425422,  1.00275946,  0.        ,  0.        ]),\n",
       " array([22.        ,  1.00447214,  1.0067215 ,  0.        ,  0.        ]),\n",
       " array([41.        ,  1.00470865,  1.00896347,  1.        ,  0.        ]),\n",
       " array([73.        ,  1.005337  ,  1.01856971,  1.        ,  1.        ]),\n",
       " array([86.        ,  1.00534749,  1.00487208,  1.        ,  0.        ]),\n",
       " array([68.        ,  1.00613475,  1.01585197,  1.        ,  1.        ]),\n",
       " array([67.        ,  1.00669682,  1.02432394,  1.        ,  1.        ]),\n",
       " array([91.        ,  1.00921869,  0.99287754,  1.        ,  0.        ]),\n",
       " array([9.        , 1.00944042, 0.99781454, 1.        , 0.        ]),\n",
       " array([26.        ,  1.01006019,  1.0113368 ,  1.        ,  1.        ]),\n",
       " array([71.        ,  1.01170969,  1.02667558,  1.        ,  1.        ]),\n",
       " array([29.        ,  1.01255369,  1.0030421 ,  1.        ,  0.        ]),\n",
       " array([15.        ,  1.01269186,  1.01336277,  1.        ,  1.        ]),\n",
       " array([42.        ,  1.012725  ,  1.01458597,  1.        ,  1.        ]),\n",
       " array([53.        ,  1.01297641,  0.99811494,  1.        ,  0.        ]),\n",
       " array([58.        ,  1.01355779,  1.0000329 ,  1.        ,  0.        ]),\n",
       " array([35.        ,  1.01452851,  0.98783445,  1.        ,  0.        ]),\n",
       " array([6.        , 1.0146755 , 1.00607944, 1.        , 0.        ]),\n",
       " array([28.        ,  1.0147506 ,  1.01082122,  1.        ,  0.        ]),\n",
       " array([18.        ,  1.01578867,  1.01547396,  1.        ,  1.        ]),\n",
       " array([27.        ,  1.0173471 ,  1.01103067,  1.        ,  1.        ]),\n",
       " array([20.        ,  1.01781523,  1.01524365,  1.        ,  1.        ]),\n",
       " array([72.        ,  1.01823473,  1.01774848,  1.        ,  1.        ]),\n",
       " array([52.        ,  1.01851714,  1.00844908,  1.        ,  0.        ]),\n",
       " array([69.        ,  1.02221596,  1.02392507,  1.        ,  1.        ]),\n",
       " array([2.        , 1.0230608 , 1.01953137, 1.        , 1.        ]),\n",
       " array([25.        ,  1.02310085,  1.01819289,  1.        ,  1.        ]),\n",
       " array([37.        ,  1.0238359 ,  1.02270484,  1.        ,  1.        ]),\n",
       " array([40.        ,  1.02400064,  1.00793982,  1.        ,  0.        ]),\n",
       " array([7.        , 1.02527404, 0.99198616, 1.        , 0.        ]),\n",
       " array([8.        , 1.02544928, 1.01904869, 1.        , 1.        ]),\n",
       " array([92.        ,  1.02599192,  1.00962317,  1.        ,  0.        ]),\n",
       " array([3.        , 1.02718055, 1.03429985, 1.        , 1.        ]),\n",
       " array([94.        ,  1.02912378,  1.01197696,  1.        ,  1.        ]),\n",
       " array([75.        ,  1.0296464 ,  1.01057768,  1.        ,  0.        ]),\n",
       " array([78.        ,  1.02981019,  1.02142918,  1.        ,  1.        ]),\n",
       " array([87.        ,  1.03026664,  1.02706933,  1.        ,  1.        ]),\n",
       " array([5.        , 1.03066802, 1.0156858 , 1.        , 1.        ]),\n",
       " array([89.        ,  1.03119099,  1.01819682,  1.        ,  1.        ]),\n",
       " array([13.        ,  1.03176582,  1.00741088,  1.        ,  0.        ]),\n",
       " array([38.        ,  1.03190184,  1.03484452,  1.        ,  1.        ]),\n",
       " array([90.        ,  1.03334618,  0.99038512,  1.        ,  0.        ]),\n",
       " array([33.        ,  1.03606856,  1.01858413,  1.        ,  1.        ]),\n",
       " array([17.        ,  1.0405612 ,  1.00548899,  1.        ,  0.        ]),\n",
       " array([12.        ,  1.04458928,  1.0209825 ,  1.        ,  1.        ]),\n",
       " array([99.        ,  1.05024469,  1.02138126,  1.        ,  1.        ]),\n",
       " array([61.        ,  1.05061924,  1.01856387,  1.        ,  1.        ]),\n",
       " array([98.       ,  1.0553782,  1.0192312,  1.       ,  1.       ]),\n",
       " array([11.        ,  1.0557729 ,  1.03250158,  1.        ,  1.        ]),\n",
       " array([65.        ,  1.07646608,  1.00914979,  1.        ,  0.        ]),\n",
       " array([4.        , 1.08024073, 1.02277887, 1.        , 1.        ]),\n",
       " array([54.        ,  1.0995121 ,  1.02619088,  1.        ,  1.        ])]"
      ]
     },
     "execution_count": 34,
     "metadata": {},
     "output_type": "execute_result"
    }
   ],
   "source": [
    "print(np.sum(order_test[:, 3].astype(int) == order_test[:, 4].astype(int)))\n",
    "sorted(order_test, key = lambda x: x[1])"
   ]
  },
  {
   "cell_type": "code",
   "execution_count": 84,
   "metadata": {},
   "outputs": [
    {
     "name": "stdout",
     "output_type": "stream",
     "text": [
      "64\n"
     ]
    }
   ],
   "source": [
    "\n",
    "#print(order_test)"
   ]
  },
  {
   "cell_type": "code",
   "execution_count": 9,
   "metadata": {},
   "outputs": [],
   "source": [
    "def do_perf_test_on_batch():\n",
    "    perfs = []\n",
    "    cut = 50\n",
    "    layer_width = 100\n",
    "    for start_index in range(0, len(X_test), layer_width):\n",
    "        lX_test = X_test[start_index:start_index+layer_width]\n",
    "        ly_test = y_test[start_index:start_index+layer_width]\n",
    "        ly_pred = reg.predict(lX_test)\n",
    "        order_test = np.array(list(zip(range(layer_width), ly_test, ly_pred, ly_test > np.percentile(ly_test, cut), ly_pred > np.percentile(ly_pred, cut))))\n",
    "        perfs += [np.sum(order_test[:, 3].astype(int) == order_test[:, 4].astype(int))]\n",
    "    return(perfs)"
   ]
  },
  {
   "cell_type": "code",
   "execution_count": 10,
   "metadata": {},
   "outputs": [],
   "source": [
    "perfs = do_perf_test_on_batch()"
   ]
  },
  {
   "cell_type": "code",
   "execution_count": 11,
   "metadata": {},
   "outputs": [
    {
     "data": {
      "text/plain": [
       "[60,\n",
       " 64,\n",
       " 70,\n",
       " 62,\n",
       " 62,\n",
       " 66,\n",
       " 60,\n",
       " 68,\n",
       " 62,\n",
       " 64,\n",
       " 68,\n",
       " 66,\n",
       " 68,\n",
       " 70,\n",
       " 66,\n",
       " 66,\n",
       " 64,\n",
       " 66,\n",
       " 60,\n",
       " 66,\n",
       " 64,\n",
       " 56,\n",
       " 68,\n",
       " 64,\n",
       " 58,\n",
       " 70,\n",
       " 60,\n",
       " 64,\n",
       " 62,\n",
       " 68,\n",
       " 70,\n",
       " 68,\n",
       " 64,\n",
       " 64,\n",
       " 76,\n",
       " 60,\n",
       " 64,\n",
       " 60,\n",
       " 66,\n",
       " 64,\n",
       " 58,\n",
       " 74,\n",
       " 66,\n",
       " 72,\n",
       " 74,\n",
       " 58,\n",
       " 64,\n",
       " 60,\n",
       " 64,\n",
       " 68,\n",
       " 58,\n",
       " 66,\n",
       " 68,\n",
       " 64,\n",
       " 66,\n",
       " 64,\n",
       " 62,\n",
       " 64,\n",
       " 68,\n",
       " 66,\n",
       " 70,\n",
       " 64,\n",
       " 68,\n",
       " 70,\n",
       " 70,\n",
       " 66,\n",
       " 58,\n",
       " 60,\n",
       " 66,\n",
       " 60,\n",
       " 62,\n",
       " 54,\n",
       " 68,\n",
       " 66,\n",
       " 70,\n",
       " 70,\n",
       " 68,\n",
       " 70,\n",
       " 70,\n",
       " 64,\n",
       " 64,\n",
       " 58,\n",
       " 68,\n",
       " 64,\n",
       " 68,\n",
       " 68,\n",
       " 64,\n",
       " 70,\n",
       " 70,\n",
       " 74,\n",
       " 68,\n",
       " 64,\n",
       " 68,\n",
       " 76,\n",
       " 80,\n",
       " 52,\n",
       " 70,\n",
       " 66,\n",
       " 72,\n",
       " 80,\n",
       " 64,\n",
       " 64,\n",
       " 58,\n",
       " 66,\n",
       " 66,\n",
       " 70,\n",
       " 66,\n",
       " 66,\n",
       " 68,\n",
       " 80,\n",
       " 64,\n",
       " 72,\n",
       " 62,\n",
       " 78,\n",
       " 74,\n",
       " 58,\n",
       " 60,\n",
       " 70,\n",
       " 68,\n",
       " 70,\n",
       " 70,\n",
       " 70,\n",
       " 68,\n",
       " 72,\n",
       " 70,\n",
       " 76,\n",
       " 68,\n",
       " 62,\n",
       " 66,\n",
       " 62,\n",
       " 68,\n",
       " 68,\n",
       " 78,\n",
       " 62,\n",
       " 74,\n",
       " 72,\n",
       " 72,\n",
       " 66,\n",
       " 60,\n",
       " 64,\n",
       " 66,\n",
       " 76,\n",
       " 66,\n",
       " 64,\n",
       " 66,\n",
       " 70,\n",
       " 74,\n",
       " 62,\n",
       " 70,\n",
       " 68,\n",
       " 58,\n",
       " 74,\n",
       " 68,\n",
       " 74,\n",
       " 64,\n",
       " 60,\n",
       " 68,\n",
       " 68,\n",
       " 64,\n",
       " 72,\n",
       " 66,\n",
       " 72,\n",
       " 74,\n",
       " 74,\n",
       " 70,\n",
       " 62,\n",
       " 70,\n",
       " 68,\n",
       " 62,\n",
       " 68,\n",
       " 72,\n",
       " 74,\n",
       " 76,\n",
       " 72,\n",
       " 70,\n",
       " 70,\n",
       " 70,\n",
       " 62,\n",
       " 70,\n",
       " 70,\n",
       " 58,\n",
       " 54,\n",
       " 68,\n",
       " 70,\n",
       " 68,\n",
       " 62,\n",
       " 60,\n",
       " 52,\n",
       " 70,\n",
       " 70,\n",
       " 66,\n",
       " 56,\n",
       " 66,\n",
       " 76,\n",
       " 74,\n",
       " 56,\n",
       " 62,\n",
       " 72,\n",
       " 68,\n",
       " 66,\n",
       " 60,\n",
       " 72,\n",
       " 68,\n",
       " 66,\n",
       " 72,\n",
       " 58,\n",
       " 66,\n",
       " 62,\n",
       " 66,\n",
       " 70,\n",
       " 64,\n",
       " 66,\n",
       " 64,\n",
       " 66,\n",
       " 66,\n",
       " 62,\n",
       " 68,\n",
       " 70,\n",
       " 60,\n",
       " 82,\n",
       " 58,\n",
       " 62,\n",
       " 62,\n",
       " 68,\n",
       " 72,\n",
       " 64,\n",
       " 66,\n",
       " 62,\n",
       " 72,\n",
       " 74,\n",
       " 54,\n",
       " 58,\n",
       " 58,\n",
       " 68,\n",
       " 66,\n",
       " 68,\n",
       " 70,\n",
       " 68,\n",
       " 66,\n",
       " 72,\n",
       " 66,\n",
       " 64,\n",
       " 66,\n",
       " 78,\n",
       " 76,\n",
       " 64,\n",
       " 66,\n",
       " 74,\n",
       " 76,\n",
       " 64,\n",
       " 46,\n",
       " 66,\n",
       " 68,\n",
       " 68,\n",
       " 70,\n",
       " 56,\n",
       " 64,\n",
       " 62,\n",
       " 68,\n",
       " 64,\n",
       " 64,\n",
       " 72,\n",
       " 74,\n",
       " 72,\n",
       " 68,\n",
       " 60,\n",
       " 66,\n",
       " 70,\n",
       " 64,\n",
       " 60,\n",
       " 52,\n",
       " 60,\n",
       " 66,\n",
       " 70,\n",
       " 68,\n",
       " 62,\n",
       " 74,\n",
       " 74,\n",
       " 72,\n",
       " 76,\n",
       " 60,\n",
       " 58,\n",
       " 68,\n",
       " 68,\n",
       " 76,\n",
       " 56,\n",
       " 62,\n",
       " 68,\n",
       " 58,\n",
       " 68,\n",
       " 62,\n",
       " 64,\n",
       " 70,\n",
       " 64,\n",
       " 54,\n",
       " 70,\n",
       " 66,\n",
       " 74,\n",
       " 66,\n",
       " 68]"
      ]
     },
     "execution_count": 11,
     "metadata": {},
     "output_type": "execute_result"
    }
   ],
   "source": [
    "perfs"
   ]
  },
  {
   "cell_type": "code",
   "execution_count": null,
   "metadata": {},
   "outputs": [],
   "source": []
  }
 ],
 "metadata": {
  "kernelspec": {
   "display_name": "Python 3",
   "language": "python",
   "name": "python3"
  },
  "language_info": {
   "codemirror_mode": {
    "name": "ipython",
    "version": 3
   },
   "file_extension": ".py",
   "mimetype": "text/x-python",
   "name": "python",
   "nbconvert_exporter": "python",
   "pygments_lexer": "ipython3",
   "version": "3.7.3"
  }
 },
 "nbformat": 4,
 "nbformat_minor": 4
}
